{
  "metadata": {
    "kernelspec": {
      "name": "python",
      "display_name": "Python (Pyodide)",
      "language": "python"
    },
    "language_info": {
      "codemirror_mode": {
        "name": "python",
        "version": 3
      },
      "file_extension": ".py",
      "mimetype": "text/x-python",
      "name": "python",
      "nbconvert_exporter": "python",
      "pygments_lexer": "ipython3",
      "version": "3.8"
    }
  },
  "nbformat_minor": 5,
  "nbformat": 4,
  "cells": [
    {
      "id": "c4a0c235-c1df-4174-9c31-d8160a1680dd",
      "cell_type": "markdown",
      "source": "<h1>Chapter 1 — The Python Data Model</h1>",
      "metadata": {}
    },
    {
      "id": "bb64cb0f-ebb0-4a3d-a4f8-1b666687685b",
      "cell_type": "markdown",
      "source": "<h2>A Pythonic Card Deck</h2>",
      "metadata": {}
    },
    {
      "id": "1c314b25-8280-413e-b922-d8ac2beafb07",
      "cell_type": "markdown",
      "source": "<h3>Example 1-1 is a class to represent a deck of playing cards:</h3>",
      "metadata": {}
    },
    {
      "id": "2164eacf-dc7e-43e5-ab3f-55b8bfe682ec",
      "cell_type": "code",
      "source": "import collections\nCard = collections.namedtuple('Card', ['rank', 'suit']) #namedtuple can be used to build classes of objects that are just bundles of attributes with no custom methods, like a database record.\nclass FrenchDeck:\n    ranks = [str(n) for n in range(2, 11)] + list('JQKA')\n    suits = 'spades diamonds clubs hearts'.split()\n    def __init__(self):\n        self._cards = [Card(rank, suit) for suit in self.suits\n                                        for rank in self.ranks]\n    def __len__(self):\n        return len(self._cards)\n    def __getitem__(self, position):\n        return self._cards[position]",
      "metadata": {
        "trusted": true
      },
      "outputs": [],
      "execution_count": 4
    },
    {
      "id": "5a4f250d-bf14-4953-8804-c638f22b98c7",
      "cell_type": "markdown",
      "source": "This is a well-structured and Pythonic way to model a deck of cards, leveraging the power of namedtuple for clarity and special methods like __len__ and __getitem__ to make the class behave intuitively like a sequence. <br>\nIn summary, this code defines a FrenchDeck class that:\n\nRepresents a deck of 52 playing cards.\nUses a namedtuple called Card to represent individual cards with a rank and a suit.\nInitializes the deck with all possible combinations of ranks and suits.\nAllows you to get the number of cards in the deck using len().\nAllows you to access individual cards or slices of the deck using indexing (e.g., deck[0], deck[:13]).",
      "metadata": {}
    },
    {
      "id": "c4120db1-b3c8-4fb4-aa3e-ed37a80347da",
      "cell_type": "code",
      "source": "beer_card = Card('7', 'diamonds')\nbeer_card",
      "metadata": {
        "trusted": true
      },
      "outputs": [
        {
          "execution_count": 5,
          "output_type": "execute_result",
          "data": {
            "text/plain": "Card(rank='7', suit='diamonds')"
          },
          "metadata": {}
        }
      ],
      "execution_count": 5
    },
    {
      "id": "05fbd51a-3996-4502-8999-4ef57f8b3f53",
      "cell_type": "markdown",
      "source": "the len() function by\nreturning the number of cards in it.",
      "metadata": {}
    },
    {
      "id": "1c781cad-1d6e-4c26-8cd8-cc2f0a88abb9",
      "cell_type": "code",
      "source": "deck = FrenchDeck()\nlen(deck) ",
      "metadata": {
        "trusted": true
      },
      "outputs": [
        {
          "execution_count": 6,
          "output_type": "execute_result",
          "data": {
            "text/plain": "52"
          },
          "metadata": {}
        }
      ],
      "execution_count": 6
    },
    {
      "id": "51c1b6cb-abc5-4724-9e85-6176bdbe71f3",
      "cell_type": "code",
      "source": "deck[0]",
      "metadata": {
        "trusted": true
      },
      "outputs": [
        {
          "execution_count": 12,
          "output_type": "execute_result",
          "data": {
            "text/plain": "Card(rank='2', suit='spades')"
          },
          "metadata": {}
        }
      ],
      "execution_count": 12
    },
    {
      "id": "d7efe711-5fcd-407d-854d-4a5f2d50208a",
      "cell_type": "code",
      "source": "deck[-1]",
      "metadata": {
        "trusted": true
      },
      "outputs": [
        {
          "execution_count": 8,
          "output_type": "execute_result",
          "data": {
            "text/plain": "Card(rank='A', suit='hearts')"
          },
          "metadata": {}
        }
      ],
      "execution_count": 8
    },
    {
      "id": "56351e1b-3f61-4d12-93a0-9bb61c1ae21e",
      "cell_type": "markdown",
      "source": "Should we create a method to pick a random card? No need. Python already has a\nfunction to get a random item from a sequence: random.choice. We can just use it on\na deck instance:",
      "metadata": {}
    },
    {
      "id": "7ad4ec4e-aba2-4a1c-809c-1eee6da10ec1",
      "cell_type": "code",
      "source": "# NBVAL_IGNORE_OUTPUT\nfrom random import choice\n\nchoice(deck)",
      "metadata": {
        "trusted": true
      },
      "outputs": [
        {
          "execution_count": 9,
          "output_type": "execute_result",
          "data": {
            "text/plain": "Card(rank='3', suit='diamonds')"
          },
          "metadata": {}
        }
      ],
      "execution_count": 9
    },
    {
      "id": "752d1137-0103-4307-82ba-f9f9c7732c54",
      "cell_type": "code",
      "source": "deck[:3]",
      "metadata": {
        "trusted": true
      },
      "outputs": [
        {
          "execution_count": 10,
          "output_type": "execute_result",
          "data": {
            "text/plain": "[Card(rank='2', suit='spades'),\n Card(rank='3', suit='spades'),\n Card(rank='4', suit='spades')]"
          },
          "metadata": {}
        }
      ],
      "execution_count": 10
    },
    {
      "id": "9d210a91-c2dc-4f5e-abf3-b00b7c048bcb",
      "cell_type": "code",
      "source": "deck[12::13]",
      "metadata": {
        "trusted": true
      },
      "outputs": [
        {
          "execution_count": 11,
          "output_type": "execute_result",
          "data": {
            "text/plain": "[Card(rank='A', suit='spades'),\n Card(rank='A', suit='diamonds'),\n Card(rank='A', suit='clubs'),\n Card(rank='A', suit='hearts')]"
          },
          "metadata": {}
        }
      ],
      "execution_count": 11
    },
    {
      "id": "efeca8a0-9eed-4a17-b593-e47952b0a58e",
      "cell_type": "code",
      "source": "for card in deck:\n    print(card)",
      "metadata": {
        "trusted": true
      },
      "outputs": [
        {
          "name": "stdout",
          "output_type": "stream",
          "text": "Card(rank='2', suit='spades')\nCard(rank='3', suit='spades')\nCard(rank='4', suit='spades')\nCard(rank='5', suit='spades')\nCard(rank='6', suit='spades')\nCard(rank='7', suit='spades')\nCard(rank='8', suit='spades')\nCard(rank='9', suit='spades')\nCard(rank='10', suit='spades')\nCard(rank='J', suit='spades')\nCard(rank='Q', suit='spades')\nCard(rank='K', suit='spades')\nCard(rank='A', suit='spades')\nCard(rank='2', suit='diamonds')\nCard(rank='3', suit='diamonds')\nCard(rank='4', suit='diamonds')\nCard(rank='5', suit='diamonds')\nCard(rank='6', suit='diamonds')\nCard(rank='7', suit='diamonds')\nCard(rank='8', suit='diamonds')\nCard(rank='9', suit='diamonds')\nCard(rank='10', suit='diamonds')\nCard(rank='J', suit='diamonds')\nCard(rank='Q', suit='diamonds')\nCard(rank='K', suit='diamonds')\nCard(rank='A', suit='diamonds')\nCard(rank='2', suit='clubs')\nCard(rank='3', suit='clubs')\nCard(rank='4', suit='clubs')\nCard(rank='5', suit='clubs')\nCard(rank='6', suit='clubs')\nCard(rank='7', suit='clubs')\nCard(rank='8', suit='clubs')\nCard(rank='9', suit='clubs')\nCard(rank='10', suit='clubs')\nCard(rank='J', suit='clubs')\nCard(rank='Q', suit='clubs')\nCard(rank='K', suit='clubs')\nCard(rank='A', suit='clubs')\nCard(rank='2', suit='hearts')\nCard(rank='3', suit='hearts')\nCard(rank='4', suit='hearts')\nCard(rank='5', suit='hearts')\nCard(rank='6', suit='hearts')\nCard(rank='7', suit='hearts')\nCard(rank='8', suit='hearts')\nCard(rank='9', suit='hearts')\nCard(rank='10', suit='hearts')\nCard(rank='J', suit='hearts')\nCard(rank='Q', suit='hearts')\nCard(rank='K', suit='hearts')\nCard(rank='A', suit='hearts')\n"
        }
      ],
      "execution_count": 13
    },
    {
      "id": "9cb72049-9774-4353-8284-8b20203c9460",
      "cell_type": "code",
      "source": "for card in reversed(deck):\n    print(card)",
      "metadata": {
        "trusted": true
      },
      "outputs": [
        {
          "name": "stdout",
          "output_type": "stream",
          "text": "Card(rank='A', suit='hearts')\nCard(rank='K', suit='hearts')\nCard(rank='Q', suit='hearts')\nCard(rank='J', suit='hearts')\nCard(rank='10', suit='hearts')\nCard(rank='9', suit='hearts')\nCard(rank='8', suit='hearts')\nCard(rank='7', suit='hearts')\nCard(rank='6', suit='hearts')\nCard(rank='5', suit='hearts')\nCard(rank='4', suit='hearts')\nCard(rank='3', suit='hearts')\nCard(rank='2', suit='hearts')\nCard(rank='A', suit='clubs')\nCard(rank='K', suit='clubs')\nCard(rank='Q', suit='clubs')\nCard(rank='J', suit='clubs')\nCard(rank='10', suit='clubs')\nCard(rank='9', suit='clubs')\nCard(rank='8', suit='clubs')\nCard(rank='7', suit='clubs')\nCard(rank='6', suit='clubs')\nCard(rank='5', suit='clubs')\nCard(rank='4', suit='clubs')\nCard(rank='3', suit='clubs')\nCard(rank='2', suit='clubs')\nCard(rank='A', suit='diamonds')\nCard(rank='K', suit='diamonds')\nCard(rank='Q', suit='diamonds')\nCard(rank='J', suit='diamonds')\nCard(rank='10', suit='diamonds')\nCard(rank='9', suit='diamonds')\nCard(rank='8', suit='diamonds')\nCard(rank='7', suit='diamonds')\nCard(rank='6', suit='diamonds')\nCard(rank='5', suit='diamonds')\nCard(rank='4', suit='diamonds')\nCard(rank='3', suit='diamonds')\nCard(rank='2', suit='diamonds')\nCard(rank='A', suit='spades')\nCard(rank='K', suit='spades')\nCard(rank='Q', suit='spades')\nCard(rank='J', suit='spades')\nCard(rank='10', suit='spades')\nCard(rank='9', suit='spades')\nCard(rank='8', suit='spades')\nCard(rank='7', suit='spades')\nCard(rank='6', suit='spades')\nCard(rank='5', suit='spades')\nCard(rank='4', suit='spades')\nCard(rank='3', suit='spades')\nCard(rank='2', suit='spades')\n"
        }
      ],
      "execution_count": 14
    },
    {
      "id": "fe3b9dca-0de1-47f5-9ea0-95575a6ab4f1",
      "cell_type": "code",
      "source": "for card in sorted(deck):\n    print(card)",
      "metadata": {
        "trusted": true
      },
      "outputs": [
        {
          "name": "stdout",
          "output_type": "stream",
          "text": "Card(rank='10', suit='clubs')\nCard(rank='10', suit='diamonds')\nCard(rank='10', suit='hearts')\nCard(rank='10', suit='spades')\nCard(rank='2', suit='clubs')\nCard(rank='2', suit='diamonds')\nCard(rank='2', suit='hearts')\nCard(rank='2', suit='spades')\nCard(rank='3', suit='clubs')\nCard(rank='3', suit='diamonds')\nCard(rank='3', suit='hearts')\nCard(rank='3', suit='spades')\nCard(rank='4', suit='clubs')\nCard(rank='4', suit='diamonds')\nCard(rank='4', suit='hearts')\nCard(rank='4', suit='spades')\nCard(rank='5', suit='clubs')\nCard(rank='5', suit='diamonds')\nCard(rank='5', suit='hearts')\nCard(rank='5', suit='spades')\nCard(rank='6', suit='clubs')\nCard(rank='6', suit='diamonds')\nCard(rank='6', suit='hearts')\nCard(rank='6', suit='spades')\nCard(rank='7', suit='clubs')\nCard(rank='7', suit='diamonds')\nCard(rank='7', suit='hearts')\nCard(rank='7', suit='spades')\nCard(rank='8', suit='clubs')\nCard(rank='8', suit='diamonds')\nCard(rank='8', suit='hearts')\nCard(rank='8', suit='spades')\nCard(rank='9', suit='clubs')\nCard(rank='9', suit='diamonds')\nCard(rank='9', suit='hearts')\nCard(rank='9', suit='spades')\nCard(rank='A', suit='clubs')\nCard(rank='A', suit='diamonds')\nCard(rank='A', suit='hearts')\nCard(rank='A', suit='spades')\nCard(rank='J', suit='clubs')\nCard(rank='J', suit='diamonds')\nCard(rank='J', suit='hearts')\nCard(rank='J', suit='spades')\nCard(rank='K', suit='clubs')\nCard(rank='K', suit='diamonds')\nCard(rank='K', suit='hearts')\nCard(rank='K', suit='spades')\nCard(rank='Q', suit='clubs')\nCard(rank='Q', suit='diamonds')\nCard(rank='Q', suit='hearts')\nCard(rank='Q', suit='spades')\n"
        }
      ],
      "execution_count": 15
    },
    {
      "id": "e5e7ce02-7c1a-4619-9173-0e7a6147d02b",
      "cell_type": "markdown",
      "source": "Iteration is often implicit. If a collection has no __contains__ method, the in operator\ndoes a sequential scan. Case in point: in works with our FrenchDeck class because it is\niterable.",
      "metadata": {}
    },
    {
      "id": "5cb2457c-e103-4050-9e4a-788dacc75dad",
      "cell_type": "code",
      "source": "Card('Q', 'hearts') in deck",
      "metadata": {
        "trusted": true
      },
      "outputs": [
        {
          "execution_count": 16,
          "output_type": "execute_result",
          "data": {
            "text/plain": "True"
          },
          "metadata": {}
        }
      ],
      "execution_count": 16
    },
    {
      "id": "d48878a9-9e07-42cd-b57b-80bf2ae64629",
      "cell_type": "code",
      "source": "Card('7', 'beasts') in deck",
      "metadata": {
        "trusted": true
      },
      "outputs": [
        {
          "execution_count": 17,
          "output_type": "execute_result",
          "data": {
            "text/plain": "False"
          },
          "metadata": {}
        }
      ],
      "execution_count": 17
    },
    {
      "id": "b2d8b803-b288-4e25-aa44-0ace0d3e72fd",
      "cell_type": "code",
      "source": "suit_values = dict(spades=3, hearts=2, diamonds=1, clubs=0)\n\ndef spades_high(card):\n    rank_value = FrenchDeck.ranks.index(card.rank)\n    return rank_value * len(suit_values) + suit_values[card.suit]\n\nfor card in sorted(deck, key=spades_high):\n    print(card)",
      "metadata": {
        "trusted": true
      },
      "outputs": [
        {
          "name": "stdout",
          "output_type": "stream",
          "text": "Card(rank='2', suit='clubs')\nCard(rank='2', suit='diamonds')\nCard(rank='2', suit='hearts')\nCard(rank='2', suit='spades')\nCard(rank='3', suit='clubs')\nCard(rank='3', suit='diamonds')\nCard(rank='3', suit='hearts')\nCard(rank='3', suit='spades')\nCard(rank='4', suit='clubs')\nCard(rank='4', suit='diamonds')\nCard(rank='4', suit='hearts')\nCard(rank='4', suit='spades')\nCard(rank='5', suit='clubs')\nCard(rank='5', suit='diamonds')\nCard(rank='5', suit='hearts')\nCard(rank='5', suit='spades')\nCard(rank='6', suit='clubs')\nCard(rank='6', suit='diamonds')\nCard(rank='6', suit='hearts')\nCard(rank='6', suit='spades')\nCard(rank='7', suit='clubs')\nCard(rank='7', suit='diamonds')\nCard(rank='7', suit='hearts')\nCard(rank='7', suit='spades')\nCard(rank='8', suit='clubs')\nCard(rank='8', suit='diamonds')\nCard(rank='8', suit='hearts')\nCard(rank='8', suit='spades')\nCard(rank='9', suit='clubs')\nCard(rank='9', suit='diamonds')\nCard(rank='9', suit='hearts')\nCard(rank='9', suit='spades')\nCard(rank='10', suit='clubs')\nCard(rank='10', suit='diamonds')\nCard(rank='10', suit='hearts')\nCard(rank='10', suit='spades')\nCard(rank='J', suit='clubs')\nCard(rank='J', suit='diamonds')\nCard(rank='J', suit='hearts')\nCard(rank='J', suit='spades')\nCard(rank='Q', suit='clubs')\nCard(rank='Q', suit='diamonds')\nCard(rank='Q', suit='hearts')\nCard(rank='Q', suit='spades')\nCard(rank='K', suit='clubs')\nCard(rank='K', suit='diamonds')\nCard(rank='K', suit='hearts')\nCard(rank='K', suit='spades')\nCard(rank='A', suit='clubs')\nCard(rank='A', suit='diamonds')\nCard(rank='A', suit='hearts')\nCard(rank='A', suit='spades')\n"
        }
      ],
      "execution_count": 18
    },
    {
      "id": "78d61f7e-803d-4081-80e6-ed7d03e76198",
      "cell_type": "markdown",
      "source": "<h4>How about shuffling?</h4>\nAs implemented so far, a FrenchDeck cannot be shuffled, because it\nis immutable: the cards and their positions cannot be changed, ex‐\ncept by violating encapsulation and handling the _cards attribute\ndirectly.",
      "metadata": {}
    },
    {
      "id": "1ca6937a-4cae-49ba-bd80-31339190a6aa",
      "cell_type": "markdown",
      "source": "<h2>\nEmulating Numeric Types</h2>",
      "metadata": {}
    },
    {
      "id": "a5cd9940-243c-48b9-8429-17eb4db91faa",
      "cell_type": "markdown",
      "source": "<h3>Example 1-2. A simple two-dimensional vector class</h3>",
      "metadata": {}
    },
    {
      "id": "8ef9a69a-1694-48c1-8f3b-e8062b309676",
      "cell_type": "code",
      "source": "import math\n\nclass Vector:\n\n    def __init__(self, x=0, y=0): #the constructor method of the Vector class.\n        self.x = x\n        self.y = y\n\n    def __repr__(self):\n        return 'Vector(%r, %r)' % (self.x, self.y)\n\n    def __abs__(self):\n        return math.hypot(self.x, self.y)\n\n    def __bool__(self):\n        return bool(abs(self))\n\n    def __add__(self, other):\n        x = self.x + other.x\n        y = self.y + other.y\n        return Vector(x, y)\n\n    def __mul__(self, scalar):\n        return Vector(self.x * scalar, self.y * scalar)",
      "metadata": {
        "trusted": true
      },
      "outputs": [],
      "execution_count": 25
    },
    {
      "id": "988cdda4-e052-4f91-ab22-43cfb128b2b7",
      "cell_type": "markdown",
      "source": "This line imports the hypot function directly from the math module. The hypot function calculates the Euclidean norm, sqrt(x*x + y*y), which is the length of the hypotenuse of a right triangle, and in this context, the magnitude (length) of a 2D vector. Importing it directly allows you to use hypot() without having to write math.hypot().",
      "metadata": {}
    },
    {
      "id": "a95f5e48-ca32-4901-8053-9653fad022ac",
      "cell_type": "markdown",
      "source": "return 'Vector(%r, %r)' % (self.x, self.y) returns a string representation of the Vector object. The %r format specifier is used to get the \"official\" string representation of the attributes, which is useful for debugging and unambiguous representation.",
      "metadata": {}
    },
    {
      "id": "18e60bf9-fae2-45dd-86e7-2c2213e1ee83",
      "cell_type": "markdown",
      "source": "return hypot(self.x, self.y) calculates the magnitude (length) of the vector using the imported hypot function. It's equivalent to sqrt(self.x**2 + self.y**2).",
      "metadata": {}
    },
    {
      "id": "5706b27a-3006-43f4-850b-9ab6031e7a6f",
      "cell_type": "markdown",
      "source": "return bool(abs(self)) determines the \"truthiness\" of the vector. It returns True if the magnitude of the vector (calculated by abs(self)) is non-zero, and False if the magnitude is zero (meaning the vector is the zero vector).",
      "metadata": {}
    },
    {
      "id": "666025bf-910c-4db0-b2aa-f553c10d40d4",
      "cell_type": "markdown",
      "source": "x = self.x + other.x calculates the x-component of the resulting vector by adding the x-components of the two input vectors.\ny = self.y + other.y calculates the y-component of the resulting vector similarly.\nreturn Vector(x, y) creates and returns a new Vector object representing the sum of the two original vectors.",
      "metadata": {}
    },
    {
      "id": "b4fa30ff-0726-4e28-b34b-5d2435f0ff5e",
      "cell_type": "markdown",
      "source": "In summary, this Vector class provides a way to represent and perform basic operations on two-dimensional vectors. It allows you to:\n\nCreate vector objects with x and y components.\nGet a string representation of the vector.\nCalculate the magnitude (length) of the vector.\nCheck if the vector is a zero vector (evaluates to False if it is).\nAdd two vectors together.\nMultiply a vector by a scalar.",
      "metadata": {}
    },
    {
      "id": "d621a676-18b2-4b73-9397-ebf583a96f7a",
      "cell_type": "code",
      "source": "v1 = Vector(2, 4)\nv2 = Vector(2, 1)\nv1 + v2",
      "metadata": {
        "trusted": true
      },
      "outputs": [
        {
          "execution_count": 21,
          "output_type": "execute_result",
          "data": {
            "text/plain": "Vector(4, 5)"
          },
          "metadata": {}
        }
      ],
      "execution_count": 21
    },
    {
      "id": "8ac0e1da-978e-4208-a9b0-71ba7e35c764",
      "cell_type": "code",
      "source": "v = Vector(3, 4)\nabs(v)",
      "metadata": {
        "trusted": true
      },
      "outputs": [
        {
          "execution_count": 22,
          "output_type": "execute_result",
          "data": {
            "text/plain": "5.0"
          },
          "metadata": {}
        }
      ],
      "execution_count": 22
    },
    {
      "id": "210ba4af-b846-4d13-9009-c9715fbbdb80",
      "cell_type": "code",
      "source": "v * 3",
      "metadata": {
        "trusted": true
      },
      "outputs": [
        {
          "execution_count": 23,
          "output_type": "execute_result",
          "data": {
            "text/plain": "Vector(9, 12)"
          },
          "metadata": {}
        }
      ],
      "execution_count": 23
    },
    {
      "id": "85eb8ed0-31c5-4e3e-9a1d-14a06b5fb0ef",
      "cell_type": "code",
      "source": "abs(v * 3)",
      "metadata": {
        "trusted": true
      },
      "outputs": [
        {
          "execution_count": 24,
          "output_type": "execute_result",
          "data": {
            "text/plain": "15.0"
          },
          "metadata": {}
        }
      ],
      "execution_count": 24
    },
    {
      "id": "a845f9ff-06d5-48cf-91a0-1d818dbb3320",
      "cell_type": "code",
      "source": "",
      "metadata": {
        "trusted": true
      },
      "outputs": [],
      "execution_count": null
    }
  ]
}