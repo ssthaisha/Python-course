{
  "metadata": {
    "kernelspec": {
      "name": "python",
      "display_name": "Python (Pyodide)",
      "language": "python"
    },
    "language_info": {
      "codemirror_mode": {
        "name": "python",
        "version": 3
      },
      "file_extension": ".py",
      "mimetype": "text/x-python",
      "name": "python",
      "nbconvert_exporter": "python",
      "pygments_lexer": "ipython3",
      "version": "3.8"
    }
  },
  "nbformat_minor": 5,
  "nbformat": 4,
  "cells": [
    {
      "id": "353ef00e-c3b6-4869-8d4c-3a665e5dc50d",
      "cell_type": "markdown",
      "source": "<h1> CHAPTER 3 - Dictionaries and sets </h1>",
      "metadata": {}
    },
    {
      "id": "4945306d-3bbb-42e9-8536-68b0b07f48dd",
      "cell_type": "code",
      "source": "from collections import abc\nmy_dict = {}\nisinstance(my_dict, abc.Mapping)",
      "metadata": {
        "trusted": true
      },
      "outputs": [
        {
          "execution_count": 2,
          "output_type": "execute_result",
          "data": {
            "text/plain": "True"
          },
          "metadata": {}
        }
      ],
      "execution_count": 2
    },
    {
      "id": "a51a9291-12e6-46c8-9375-221abddbbcb8",
      "cell_type": "code",
      "source": "isinstance(my_dict, abc.MutableMapping)",
      "metadata": {
        "trusted": true
      },
      "outputs": [
        {
          "execution_count": 3,
          "output_type": "execute_result",
          "data": {
            "text/plain": "True"
          },
          "metadata": {}
        }
      ],
      "execution_count": 3
    },
    {
      "id": "d5be201f-a4ec-411d-8ab7-f75bf39454ea",
      "cell_type": "markdown",
      "source": "The atomic immutable types (str, bytes, numeric types) are all hashable. A frozen\n set is always hashable, because its elements must be hashable by definition. A tuple is\n hashable only if all its items are hashable.",
      "metadata": {}
    },
    {
      "id": "c9a54bff-ea62-4cf7-97f3-8d8bbe0100a1",
      "cell_type": "code",
      "source": "tt = (1, 2, (30, 40))\nhash(tt)",
      "metadata": {
        "trusted": true
      },
      "outputs": [
        {
          "execution_count": 4,
          "output_type": "execute_result",
          "data": {
            "text/plain": "2054050891"
          },
          "metadata": {}
        }
      ],
      "execution_count": 4
    },
    {
      "id": "d82e1807-3fa4-4aff-9743-1e234c39c75e",
      "cell_type": "code",
      "source": "tl = (1, 2, [30, 40])\ntry:\n    hash(tl)\nexcept TypeError as e:\n    print(e)",
      "metadata": {
        "trusted": true
      },
      "outputs": [
        {
          "name": "stdout",
          "output_type": "stream",
          "text": "unhashable type: 'list'\n"
        }
      ],
      "execution_count": 5
    },
    {
      "id": "f71f788c-684a-41a3-9bd7-eb100802dad8",
      "cell_type": "code",
      "source": "tf = (1, 2, frozenset([30, 40]))\nhash(tf)",
      "metadata": {
        "trusted": true
      },
      "outputs": [
        {
          "execution_count": 6,
          "output_type": "execute_result",
          "data": {
            "text/plain": "-1323036024"
          },
          "metadata": {}
        }
      ],
      "execution_count": 6
    },
    {
      "id": "c2f97439-2e03-448d-8f99-cf35254829a6",
      "cell_type": "code",
      "source": "a = dict(one=1, two=2, three=3)\nb = {'three': 3, 'two': 2, 'one': 1}\nc = dict([('two', 2), ('one', 1), ('three', 3)])\nd = dict(zip(['one', 'two', 'three'], [1, 2, 3]))\ne = dict({'three': 3, 'one': 1, 'two': 2})\na == b == c == d == e",
      "metadata": {
        "trusted": true
      },
      "outputs": [
        {
          "execution_count": 1,
          "output_type": "execute_result",
          "data": {
            "text/plain": "True"
          },
          "metadata": {}
        }
      ],
      "execution_count": 1
    },
    {
      "id": "099ab5ba-1fd1-422d-90ef-2aa08bf09420",
      "cell_type": "code",
      "source": "a",
      "metadata": {
        "trusted": true
      },
      "outputs": [
        {
          "execution_count": 2,
          "output_type": "execute_result",
          "data": {
            "text/plain": "{'one': 1, 'two': 2, 'three': 3}"
          },
          "metadata": {}
        }
      ],
      "execution_count": 2
    },
    {
      "id": "7aadefda-b622-48e3-8e94-ea55af79d265",
      "cell_type": "code",
      "source": "list(a.keys())",
      "metadata": {
        "trusted": true
      },
      "outputs": [
        {
          "execution_count": 3,
          "output_type": "execute_result",
          "data": {
            "text/plain": "['one', 'two', 'three']"
          },
          "metadata": {}
        }
      ],
      "execution_count": 3
    },
    {
      "id": "1b3cab51-c181-4c35-bcae-db14b738314d",
      "cell_type": "code",
      "source": "c",
      "metadata": {
        "trusted": true
      },
      "outputs": [
        {
          "execution_count": 4,
          "output_type": "execute_result",
          "data": {
            "text/plain": "{'two': 2, 'one': 1, 'three': 3}"
          },
          "metadata": {}
        }
      ],
      "execution_count": 4
    },
    {
      "id": "136f589d-3ef0-4fcd-b105-415e09d528bf",
      "cell_type": "code",
      "source": "c.popitem()",
      "metadata": {
        "trusted": true
      },
      "outputs": [
        {
          "execution_count": 5,
          "output_type": "execute_result",
          "data": {
            "text/plain": "('three', 3)"
          },
          "metadata": {}
        }
      ],
      "execution_count": 5
    },
    {
      "id": "f9fc75b2-cdce-4960-9f5b-ab43754b2df8",
      "cell_type": "code",
      "source": "c",
      "metadata": {
        "trusted": true
      },
      "outputs": [
        {
          "execution_count": 6,
          "output_type": "execute_result",
          "data": {
            "text/plain": "{'two': 2, 'one': 1}"
          },
          "metadata": {}
        }
      ],
      "execution_count": 6
    },
    {
      "id": "edf76007-5338-41af-b8e0-7796ec18fecf",
      "cell_type": "markdown",
      "source": "<h2>dict comprehensions</h2>",
      "metadata": {}
    },
    {
      "id": "4afdfddc-2965-4c5f-8bb9-3a12278771f1",
      "cell_type": "code",
      "source": "dial_codes = [                                                  # <1>\n    (880, 'Bangladesh'),\n    (55,  'Brazil'),\n    (86,  'China'),\n    (91,  'India'),\n    (62,  'Indonesia'),\n    (81,  'Japan'),\n    (234, 'Nigeria'),\n    (92,  'Pakistan'),\n    (7,   'Russia'),\n    (1,   'United States'),\n]\n",
      "metadata": {
        "trusted": true
      },
      "outputs": [],
      "execution_count": 7
    },
    {
      "id": "f8b09b18-6c92-42ca-80da-1e6c816e394c",
      "cell_type": "code",
      "source": "country_dial = {country: code for code, country in dial_codes}\ncountry_dial",
      "metadata": {
        "trusted": true
      },
      "outputs": [
        {
          "execution_count": 8,
          "output_type": "execute_result",
          "data": {
            "text/plain": "{'Bangladesh': 880,\n 'Brazil': 55,\n 'China': 86,\n 'India': 91,\n 'Indonesia': 62,\n 'Japan': 81,\n 'Nigeria': 234,\n 'Pakistan': 92,\n 'Russia': 7,\n 'United States': 1}"
          },
          "metadata": {}
        }
      ],
      "execution_count": 8
    },
    {
      "id": "af8ebf27-7756-4bc6-b4ef-7ad013443563",
      "cell_type": "code",
      "source": "{code: country.upper() \n    for country, code in sorted(country_dial.items())\n    if code < 70}",
      "metadata": {
        "trusted": true
      },
      "outputs": [
        {
          "execution_count": 9,
          "output_type": "execute_result",
          "data": {
            "text/plain": "{55: 'BRAZIL', 62: 'INDONESIA', 7: 'RUSSIA', 1: 'UNITED STATES'}"
          },
          "metadata": {}
        }
      ],
      "execution_count": 9
    },
    {
      "id": "37a0d418-6232-4a6b-bfb0-7e399f076f65",
      "cell_type": "code",
      "source": "",
      "metadata": {
        "trusted": true
      },
      "outputs": [],
      "execution_count": null
    }
  ]
}