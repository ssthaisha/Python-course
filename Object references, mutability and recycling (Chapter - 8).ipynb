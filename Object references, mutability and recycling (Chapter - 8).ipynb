{
  "metadata": {
    "kernelspec": {
      "name": "python",
      "display_name": "Python (Pyodide)",
      "language": "python"
    },
    "language_info": {
      "codemirror_mode": {
        "name": "python",
        "version": 3
      },
      "file_extension": ".py",
      "mimetype": "text/x-python",
      "name": "python",
      "nbconvert_exporter": "python",
      "pygments_lexer": "ipython3",
      "version": "3.8"
    }
  },
  "nbformat_minor": 5,
  "nbformat": 4,
  "cells": [
    {
      "id": "9f2366b8-a7eb-498c-9e1f-857131ee84f1",
      "cell_type": "markdown",
      "source": "<h1>Chapter 8 -  Object references, mutability and recycling </h1>",
      "metadata": {}
    },
    {
      "id": "555f12bd-d0ff-4bba-a66f-ff5f0b1d7bc3",
      "cell_type": "markdown",
      "source": "<h2>Variables are not boxes</h2>",
      "metadata": {}
    },
    {
      "id": "0758b3ff-53f1-4169-a8f9-10928bf024b9",
      "cell_type": "markdown",
      "source": " it’s better to think\n of them as labels attached to objects.",
      "metadata": {}
    },
    {
      "id": "5ef44105-a36c-4899-b2d5-f80109c199b9",
      "cell_type": "markdown",
      "source": "a = [1, 2, 3]\nb = a\na.append(4)\nb",
      "metadata": {}
    },
    {
      "id": "52cd8145-be75-43c8-988d-811e9c72f841",
      "cell_type": "markdown",
      "source": " Variables are assigned to objects only after the objects are created.",
      "metadata": {}
    },
    {
      "id": "a1c8cf82-7cf5-4d7d-8f50-76a950d627ad",
      "cell_type": "code",
      "source": "class Gizmo:\n    def __init__(self):\n        print('Gizmo id: %d' % id(self))\n",
      "metadata": {
        "trusted": true
      },
      "outputs": [],
      "execution_count": 2
    },
    {
      "id": "9839de99-22ab-411f-bded-9ca08c18c620",
      "cell_type": "code",
      "source": "x = Gizmo()",
      "metadata": {
        "trusted": true
      },
      "outputs": [
        {
          "name": "stdout",
          "output_type": "stream",
          "text": "Gizmo id: 10211728\n"
        }
      ],
      "execution_count": 3
    },
    {
      "id": "8ee57b48-f964-4f55-af87-447c17ce970f",
      "cell_type": "code",
      "source": "y = Gizmo() * 10",
      "metadata": {
        "trusted": true
      },
      "outputs": [
        {
          "name": "stdout",
          "output_type": "stream",
          "text": "Gizmo id: 35044424\n"
        },
        {
          "ename": "<class 'TypeError'>",
          "evalue": "unsupported operand type(s) for *: 'Gizmo' and 'int'",
          "traceback": [
            "\u001b[0;31m---------------------------------------------------------------------------\u001b[0m",
            "\u001b[0;31mTypeError\u001b[0m                                 Traceback (most recent call last)",
            "Cell \u001b[0;32mIn[4], line 1\u001b[0m\n\u001b[0;32m----> 1\u001b[0m y \u001b[38;5;241m=\u001b[39m \u001b[43mGizmo\u001b[49m\u001b[43m(\u001b[49m\u001b[43m)\u001b[49m\u001b[43m \u001b[49m\u001b[38;5;241;43m*\u001b[39;49m\u001b[43m \u001b[49m\u001b[38;5;241;43m10\u001b[39;49m\n",
            "\u001b[0;31mTypeError\u001b[0m: unsupported operand type(s) for *: 'Gizmo' and 'int'"
          ],
          "output_type": "error"
        }
      ],
      "execution_count": 4
    },
    {
      "id": "026ce248-2dee-4c3f-87f3-25a322791862",
      "cell_type": "markdown",
      "source": "First, Python tries to create a new Gizmo() object, so it prints the ID again.\nBut then Python tries to multiply it by 10 with *.\nBut there’s no rule for how to multiply a Gizmo object and a number, so Python throws this error:",
      "metadata": {}
    },
    {
      "id": "90a272d8-b242-4e80-9aca-1820d42fc321",
      "cell_type": "code",
      "source": "alex = {'name': 'Charles L. Dodgson', 'born': 1832, 'balance': 950} ",
      "metadata": {
        "trusted": true
      },
      "outputs": [],
      "execution_count": 5
    },
    {
      "id": "3678081e-3f74-4b68-b24e-c8b3393ee6ea",
      "cell_type": "code",
      "source": " charles = alex  ",
      "metadata": {
        "trusted": true
      },
      "outputs": [],
      "execution_count": 8
    },
    {
      "id": "afce5a06-ed33-40f0-ab30-6601603e410b",
      "cell_type": "code",
      "source": " alex == charles ",
      "metadata": {
        "trusted": true
      },
      "outputs": [
        {
          "execution_count": 9,
          "output_type": "execute_result",
          "data": {
            "text/plain": "True"
          },
          "metadata": {}
        }
      ],
      "execution_count": 9
    },
    {
      "id": "3d039ed4-9278-48f6-af19-1f6b5fa50fd4",
      "cell_type": "code",
      "source": "alex is not charles",
      "metadata": {
        "trusted": true
      },
      "outputs": [
        {
          "execution_count": 10,
          "output_type": "execute_result",
          "data": {
            "text/plain": "False"
          },
          "metadata": {}
        }
      ],
      "execution_count": 10
    },
    {
      "id": "2a12806e-c428-4151-9788-510cd27c58f9",
      "cell_type": "markdown",
      "source": "<h2> Choosing between == and is</h2>\n The == operator compares the values of objects (the data they hold), while is compares\n their identities.\n We often care about values and not identities, so == appears more frequently than is in\n Python code. <br>\n By far, the most common case is checking whether a variable is bound to None. This is\n the recommended way to do it:\n x is None\n And the proper way to write its negation is:\n x is not None",
      "metadata": {}
    },
    {
      "id": "af679f77-afdd-4e91-9f1b-e12839fc77ba",
      "cell_type": "markdown",
      "source": "<h2>The relative immutability of tuples</h2>\n Tuples are immutable, but…\nTuples themselves are immutable containers—you can’t change which objects they point to.\nHowever, if a tuple contains a mutable object (like a list), the contents of that mutable object can be changed.",
      "metadata": {}
    },
    {
      "id": "723aff0d-28b4-43a6-967e-b4f638da7c28",
      "cell_type": "code",
      "source": "t1 = (1, 2, [30, 40])\nt1[-1].append(99)  # This modifies the list inside the tuple\n",
      "metadata": {
        "trusted": true
      },
      "outputs": [],
      "execution_count": 14
    },
    {
      "id": "fff4f90b-ffd2-42c5-9406-1f95148bf4fc",
      "cell_type": "markdown",
      "source": "The tuple structure didn’t change (still points to the same list).\n\nBut the list’s content did—this is what’s called “relative immutability.”",
      "metadata": {}
    },
    {
      "id": "b784fcfe-36bc-428d-923f-8a5da07efe03",
      "cell_type": "markdown",
      "source": "<h2> Copies are shallow by default</h2>\nA shallow copy creates a new container, but doesn’t copy the items inside it—it just copies their references.",
      "metadata": {}
    },
    {
      "id": "74fd2f21-f38d-4368-9a9a-cdbc33cff701",
      "cell_type": "code",
      "source": "import copy\nl1 = [3, [55, 44], (7, 8, 9)]\nl2 = list(l1)  # or copy.copy(l1)\n",
      "metadata": {
        "trusted": true
      },
      "outputs": [],
      "execution_count": 16
    },
    {
      "id": "1650bdf8-0386-4e5d-ab4e-204fbcfad93a",
      "cell_type": "code",
      "source": "l2 == l1 ",
      "metadata": {
        "trusted": true
      },
      "outputs": [
        {
          "execution_count": 17,
          "output_type": "execute_result",
          "data": {
            "text/plain": "True"
          },
          "metadata": {}
        }
      ],
      "execution_count": 17
    },
    {
      "id": "2b7e6985-4234-4dc8-ab5c-7bec0065da65",
      "cell_type": "code",
      "source": "l2 is l1 ",
      "metadata": {
        "trusted": true
      },
      "outputs": [
        {
          "execution_count": 18,
          "output_type": "execute_result",
          "data": {
            "text/plain": "False"
          },
          "metadata": {}
        }
      ],
      "execution_count": 18
    },
    {
      "id": "1b30b7f6-1684-4182-8038-54b0e3e52561",
      "cell_type": "markdown",
      "source": "<h3>+= Behaves Differently for Lists and Tuples</h3>\nFor lists, += modifies the list in place.\n\nFor tuples, += creates a new tuple and reassigns the variable.",
      "metadata": {}
    },
    {
      "id": "d2eea709-fa24-40fa-b5cd-71b27b148f9b",
      "cell_type": "code",
      "source": "l2[2] += (10, 11)  # rebinds l2[2] to a new tuple, l1[2] stays the same\nl2[1] += [33, 22]  # modifies list in place, affects both l1 and l2\n\n",
      "metadata": {
        "trusted": true
      },
      "outputs": [],
      "execution_count": 25
    },
    {
      "id": "aa39ea2c-3c40-4e27-8a1b-6d422fc46ed4",
      "cell_type": "code",
      "source": "print('l1:', l1)\nprint('l2:', l2)",
      "metadata": {
        "trusted": true
      },
      "outputs": [
        {
          "name": "stdout",
          "output_type": "stream",
          "text": "l1: [3, [55, 44, 33, 22, 33, 22, 33, 22], (7, 8, 9)]\nl2: [3, [55, 44, 33, 22, 33, 22, 33, 22], (7, 8, 9, 10, 11, 10, 11, 10, 11)]\n"
        }
      ],
      "execution_count": 26
    },
    {
      "id": "1639ed80-6b7c-4c84-963d-62f0ff5889b0",
      "cell_type": "code",
      "source": "import copy\ndeep_l = copy.deepcopy(l1)\n",
      "metadata": {
        "trusted": true
      },
      "outputs": [],
      "execution_count": 27
    },
    {
      "id": "f498579d-e35b-422d-aa61-99e38c99fe64",
      "cell_type": "markdown",
      "source": "<h2> Function parameters as references Function parameters as references</h2>",
      "metadata": {}
    },
    {
      "id": "7a44a714-c1dc-450d-9477-3104e609a6d4",
      "cell_type": "markdown",
      "source": "Function Parameters Are Passed by Sharing\nPython uses call by sharing (also known as call by object-sharing).\n\nThis means that:\n\nFunction arguments are references (pointers) to the objects.\n\nInside the function, the parameters become aliases for those objects.\n\nHowever, rebinding the alias (parameter) doesn’t affect the original reference in the caller’s scope.",
      "metadata": {}
    },
    {
      "id": "59a61a50-d646-486f-9988-8135019e1895",
      "cell_type": "code",
      "source": "def f(a, b):\n    a += b\n    return a\n",
      "metadata": {
        "trusted": true
      },
      "outputs": [],
      "execution_count": 28
    },
    {
      "id": "9708f977-ab0c-4452-832c-21b77a4988e0",
      "cell_type": "code",
      "source": "#For immutable types (like numbers, strings, tuples):\nx = 1\ny = 2\nf(x, y)  # Returns 3, but x remains 1\n",
      "metadata": {
        "trusted": true
      },
      "outputs": [
        {
          "execution_count": 29,
          "output_type": "execute_result",
          "data": {
            "text/plain": "3"
          },
          "metadata": {}
        }
      ],
      "execution_count": 29
    },
    {
      "id": "be99b5ab-1fbc-4cef-a4dc-ed28b1c4d534",
      "cell_type": "code",
      "source": "#For mutable types (like lists):\na = [1, 2]\nb = [3, 4]\nf(a, b)  # Modifies a in-place → a becomes [1, 2, 3, 4]\n",
      "metadata": {
        "trusted": true
      },
      "outputs": [
        {
          "execution_count": 30,
          "output_type": "execute_result",
          "data": {
            "text/plain": "[1, 2, 3, 4]"
          },
          "metadata": {}
        }
      ],
      "execution_count": 30
    },
    {
      "id": "9c5f4f2d-2d3c-4d29-84b2-1dfbf44fa3af",
      "cell_type": "markdown",
      "source": "<h3>Mutable types as parameter defaults: bad idea</h3>\nIf a function/class receives mutable arguments, you should:\n\nMake a copy if you don’t intend to modify the caller’s data.\n\nOr clearly document that the input will be modified.\n\nThis avoids surprising behavior and follows the Principle of Least Astonishment.",
      "metadata": {}
    },
    {
      "id": "3924db49-5ad2-464d-a38c-038a6519009e",
      "cell_type": "code",
      "source": "class HauntedBus:\n \"\"\"A bus model haunted by ghost passengers\"\"\"\n def __init__(self, passengers=[]):\n     self.passengers = passengers\n def pick(self, name):\n     self.passengers.append(name)\n def drop(self, name):\n     self.passengers.remove(name)",
      "metadata": {
        "trusted": true
      },
      "outputs": [],
      "execution_count": 37
    },
    {
      "id": "0d5810c8-cfb9-49e8-aa4a-388734840b7d",
      "cell_type": "code",
      "source": "bus1 = HauntedBus(['Alice', 'Bill'])\nbus1.passengers\n",
      "metadata": {
        "trusted": true
      },
      "outputs": [
        {
          "execution_count": 38,
          "output_type": "execute_result",
          "data": {
            "text/plain": "['Alice', 'Bill']"
          },
          "metadata": {}
        }
      ],
      "execution_count": 39
    },
    {
      "id": "c0c37d37-e0e0-4b05-a03d-97d48e57b967",
      "cell_type": "code",
      "source": "bus1.pick('Charlie')\nbus1.drop('Alice')\nbus1.passengers\n",
      "metadata": {
        "trusted": true
      },
      "outputs": [
        {
          "execution_count": 39,
          "output_type": "execute_result",
          "data": {
            "text/plain": "['Bill', 'Charlie']"
          },
          "metadata": {}
        }
      ],
      "execution_count": 40
    },
    {
      "id": "0daeb3f2-e754-41ac-a287-141859d10119",
      "cell_type": "code",
      "source": "bus2 = HauntedBus()\nbus2.pick('Carrie')\nbus2.passengers\n",
      "metadata": {
        "trusted": true
      },
      "outputs": [
        {
          "execution_count": 40,
          "output_type": "execute_result",
          "data": {
            "text/plain": "['Carrie', 'Dave', 'Carrie']"
          },
          "metadata": {}
        }
      ],
      "execution_count": 41
    },
    {
      "id": "1e006ba1-aa8f-405b-8de0-f5747f95d9e5",
      "cell_type": "code",
      "source": "bus3 = HauntedBus()\nbus3.passengers\n",
      "metadata": {
        "trusted": true
      },
      "outputs": [
        {
          "execution_count": 41,
          "output_type": "execute_result",
          "data": {
            "text/plain": "['Carrie', 'Dave', 'Carrie']"
          },
          "metadata": {}
        }
      ],
      "execution_count": 42
    },
    {
      "id": "8a1be308-c32c-471e-af2f-af0ce282d982",
      "cell_type": "code",
      "source": "bus3.pick('Dave')\nbus2.passengers\n",
      "metadata": {
        "trusted": true
      },
      "outputs": [
        {
          "execution_count": 42,
          "output_type": "execute_result",
          "data": {
            "text/plain": "['Carrie', 'Dave', 'Carrie', 'Dave']"
          },
          "metadata": {}
        }
      ],
      "execution_count": 43
    },
    {
      "id": "4f403f04-78f7-4fc9-b18e-6d6aa6b6e7df",
      "cell_type": "code",
      "source": "bus2.passengers is bus3.passengers\nbus1.passengers",
      "metadata": {
        "trusted": true
      },
      "outputs": [
        {
          "execution_count": 43,
          "output_type": "execute_result",
          "data": {
            "text/plain": "['Bill', 'Charlie']"
          },
          "metadata": {}
        }
      ],
      "execution_count": 44
    },
    {
      "id": "8555a2de-1a3e-4d07-b23b-122374145362",
      "cell_type": "markdown",
      "source": "basketball_team = ['Sue', 'Tina', 'Maya', 'Diana', 'Pat']\nbus = TwilightBus(basketball_team)\nbus.drop('Tina')\nbus.drop('Pat')\nbasketball_team",
      "metadata": {}
    },
    {
      "id": "f26aefd0-e734-4639-b07e-cced3535d92a",
      "cell_type": "code",
      "source": "class TwilightBus:\n \"\"\"A bus model that makes passengers vanish\"\"\"\n def __init__(self, passengers=None):\n     if passengers is None:\n         self.passengers = []\n     else:\n         self.passengers = passengers\n def pick(self, name):\n     self.passengers.append(name)\n def drop(self, name):\n     self.passengers.remove(name)",
      "metadata": {
        "trusted": true
      },
      "outputs": [],
      "execution_count": 48
    },
    {
      "id": "4a6984b6-5cae-4989-a958-f27c17b53f11",
      "cell_type": "markdown",
      "source": "<h3>del Deletes Names, Not Objects:</h3>\n\nThe del keyword in Python doesn't directly destroy objects in memory. Instead, it removes a name (a variable) that was pointing to an object.\nThink of a name like a sticker on a balloon (the object). del just peels off the sticker. The balloon is still there.",
      "metadata": {}
    },
    {
      "id": "999dd42a-21e5-417f-b058-67fed7f7c83b",
      "cell_type": "markdown",
      "source": "Garbage Collection Happens When Objects Are Unreachable:\n\nPython has a process called \"garbage collection\" that reclaims memory used by objects that are no longer needed.\nAn object becomes a candidate for garbage collection when it's no longer reachable by any part of your program. This usually happens when:\nThe last variable holding a reference to it is deleted using del.\nThe last variable holding a reference to it is reassigned to something else (the \"sticker\" is moved to a different balloon or thrown away).\nThe object is part of a cycle of references with other objects that are also unreachable from the main program (like two balloons holding onto each other but nothing else holding onto them).",
      "metadata": {}
    },
    {
      "id": "13cc53fb-0f2f-4334-a66f-ce2c4189cef8",
      "cell_type": "markdown",
      "source": "<h3>__del__ is for Cleanup, Not Destruction Control:</h3>\nThe Python interpreter calls __del__ (if it's defined in a class) just before an object is about to be garbage collected.\nIt's meant to give the object a chance to release external resources it might be holding onto (like closing files or network connections).\nUsing __del__ properly is tricky, and beginners often try to use it incorrectly. The text advises that you'll rarely need to implement __del__.\n",
      "metadata": {}
    },
    {
      "id": "4dfd5a33-a23c-4b1f-9a11-59228cf64597",
      "cell_type": "code",
      "source": "import weakref\n\ns1 = {1, 2, 3}\ns2 = s1\n\ndef bye():\n    print('Gone with the wind...')\n\nender = weakref.finalize(s1, bye)\nprint(f\"ender.alive: {ender.alive}\")\n\ndel s1\nprint(f\"ender.alive: {ender.alive}\")\n\ns2 = 'spam'\nprint(f\"ender.alive: {ender.alive}\")",
      "metadata": {
        "trusted": true
      },
      "outputs": [
        {
          "name": "stdout",
          "output_type": "stream",
          "text": "ender.alive: True\nender.alive: True\nGone with the wind...\nender.alive: False\n"
        }
      ],
      "execution_count": 50
    },
    {
      "id": "b7bd9caa-3889-4438-800e-91ecad6bc899",
      "cell_type": "markdown",
      "source": "<h3>Weak References</h3> Strong References Keep Objects Alive: Normally, when you assign an object to a variable, you create a strong reference. As long as at least one strong reference to an object exists, the Python garbage collector will not destroy it.\n\nWeak References Don't Prevent Garbage Collection: Weak references, on the other hand, are references to an object that do not prevent that object from being garbage collected if it's the only remaining reference. They are useful when you want to refer to an object but don't want to keep it alive unnecessarily.",
      "metadata": {}
    },
    {
      "id": "e7f1b018-f477-46d8-9a22-5d92e05d8582",
      "cell_type": "markdown",
      "source": " A common use case for weak references is in caching. You might want to store frequently used objects in a cache for faster access. However, you don't want these cached objects to live forever just because the cache holds a reference to them, especially if the main parts of your program are no longer using them. Weak references allow the cache to refer to these objects without preventing their garbage collection when memory is needed.",
      "metadata": {}
    },
    {
      "id": "6deba58e-92ce-4322-81bd-e79df26e22b6",
      "cell_type": "code",
      "source": "import weakref\na_set = {0, 1}\nwref = weakref.ref(a_set)\nwref()\n",
      "metadata": {
        "trusted": true
      },
      "outputs": [
        {
          "execution_count": 50,
          "output_type": "execute_result",
          "data": {
            "text/plain": "{0, 1}"
          },
          "metadata": {}
        }
      ],
      "execution_count": 51
    },
    {
      "id": "8d7146fe-d3a7-49b4-a489-6e00c65cf18d",
      "cell_type": "code",
      "source": "\na_set = {2, 3, 4}\nwref()\n",
      "metadata": {
        "trusted": true
      },
      "outputs": [
        {
          "execution_count": 51,
          "output_type": "execute_result",
          "data": {
            "text/plain": "{0, 1}"
          },
          "metadata": {}
        }
      ],
      "execution_count": 52
    },
    {
      "id": "0665cf91-e461-4af6-8ac7-6f61561951b8",
      "cell_type": "markdown",
      "source": "\nwref = weakref.ref(a_set): Creates a weak reference wref to the set referenced by a_set.\nwref(): Calling wref() returns the original set {0, 1} because it's still alive (referenced by a_set). In the console, this result is also assigned to _.",
      "metadata": {}
    },
    {
      "id": "def69b58-86cd-495b-ac97-480a80a660b7",
      "cell_type": "markdown",
      "source": "<h4> Limitations:</h4>\n\nBasic list and dict instances cannot be weak reference targets directly. However, the text provides a simple workaround: you can create a plain subclass of list or dict. Instances of these subclasses can be weakly referenced.",
      "metadata": {}
    },
    {
      "id": "b0ce2451-9dd7-4b0c-9f06-8884d1c20711",
      "cell_type": "code",
      "source": "import weakref\n\n# Trying to create a weak reference to a basic list will raise a TypeError\n# my_list = [1, 2, 3]\n# wref_list = weakref.ref(my_list) # This will fail\n\nclass MyList(list):\n    \"\"\"list subclass whose instances may be weakly referenced\"\"\"\n    pass\n\na_list = MyList(range(10))\nwref_to_a_list = weakref.ref(a_list) # This works\nprint(wref_to_a_list)",
      "metadata": {
        "trusted": true
      },
      "outputs": [
        {
          "name": "stdout",
          "output_type": "stream",
          "text": "<weakref at 0x24df8c0; to 'MyList' at 0x24d8458>\n"
        }
      ],
      "execution_count": 55
    },
    {
      "id": "502b5e56-870c-40e5-8093-ce34f86acb69",
      "cell_type": "code",
      "source": "t1 = (1, 2, 3)\nt2 = tuple(t1)\nt2 is t1\n",
      "metadata": {
        "trusted": true
      },
      "outputs": [
        {
          "execution_count": 55,
          "output_type": "execute_result",
          "data": {
            "text/plain": "True"
          },
          "metadata": {}
        }
      ],
      "execution_count": 56
    },
    {
      "id": "1f78ecb1-2614-4bdd-8da6-36ac5b4c0af4",
      "cell_type": "markdown",
      "source": "t[:] does not make a copy, but returns a\n reference to the same object.",
      "metadata": {}
    },
    {
      "id": "280d1426-5834-4444-a99a-5ae0f12a4a6c",
      "cell_type": "code",
      "source": "t3 = t1[:]\nt3 is t1\n",
      "metadata": {
        "trusted": true
      },
      "outputs": [
        {
          "execution_count": 56,
          "output_type": "execute_result",
          "data": {
            "text/plain": "True"
          },
          "metadata": {}
        }
      ],
      "execution_count": 57
    },
    {
      "id": "a469f465-bf1d-4407-832f-e9f12325efda",
      "cell_type": "code",
      "source": "t1 = (1, 2, 3)\nt3 = (1, 2, 3)  # Creating a new tuple from scratch.\nt3 is t1  # t1 and t3 are equal, but not the same object.\n",
      "metadata": {
        "trusted": true
      },
      "outputs": [
        {
          "execution_count": 59,
          "output_type": "execute_result",
          "data": {
            "text/plain": "False"
          },
          "metadata": {}
        }
      ],
      "execution_count": 60
    },
    {
      "id": "0c80a769-4fb6-4536-9775-47a74ab53e54",
      "cell_type": "code",
      "source": "s1 = 'ABC'\ns2 = 'ABC'  # Creating a second str from scratch.\ns2 is s1 # Surprise: a and b refer to the same str!\n",
      "metadata": {
        "trusted": true
      },
      "outputs": [
        {
          "execution_count": 60,
          "output_type": "execute_result",
          "data": {
            "text/plain": "True"
          },
          "metadata": {}
        }
      ],
      "execution_count": 61
    },
    {
      "id": "bbe49cc7-dc68-4ab1-97db-79d8e0a353dd",
      "cell_type": "code",
      "source": "",
      "metadata": {
        "trusted": true
      },
      "outputs": [],
      "execution_count": null
    }
  ]
}