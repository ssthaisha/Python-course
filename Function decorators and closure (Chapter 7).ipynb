{
  "metadata": {
    "kernelspec": {
      "name": "python",
      "display_name": "Python (Pyodide)",
      "language": "python"
    },
    "language_info": {
      "name": ""
    }
  },
  "nbformat_minor": 5,
  "nbformat": 4,
  "cells": [
    {
      "id": "98d2c4ad-18b3-42b3-8764-d6a54b06a6d0",
      "cell_type": "markdown",
      "source": "<h1>Chapter 7 - Function decorators and closure </h1>",
      "metadata": {}
    },
    {
      "id": "29e32d76-1f20-4f00-b9f2-b5a288cf0520",
      "cell_type": "markdown",
      "source": "<h2> Decorators </h2>",
      "metadata": {}
    },
    {
      "id": "0d8e34dc-6705-46d9-9f73-27eef1f464c0",
      "cell_type": "markdown",
      "source": " A decorator is a callable that takes another function as argument (the decorated func\ntion)3. The decorator may perform some processing with the decorated function, and\n returns it or replaces it with another function or callable object.",
      "metadata": {}
    },
    {
      "id": "b422d863-361d-4070-a1c3-1b4ca27b6d08",
      "cell_type": "code",
      "source": "def deco(func):\n   \n    def inner():\n\n    \n        print('running inner()')\n    return inner",
      "metadata": {
        "trusted": true
      },
      "outputs": [],
      "execution_count": null
    },
    {
      "id": "c739cd4d-5949-4446-87eb-716d63d74539",
      "cell_type": "code",
      "source": "@deco   #target is decorated by deco.\ndef target():  \n    print('running target()')",
      "metadata": {
        "trusted": true
      },
      "outputs": [],
      "execution_count": null
    },
    {
      "id": "439db551-1408-464d-858c-35ac8915db89",
      "cell_type": "code",
      "source": "target() #Invoking the decorated target actually runs inner.",
      "metadata": {
        "trusted": true
      },
      "outputs": [],
      "execution_count": null
    },
    {
      "id": "adb9d819-1b21-41d2-a957-33bf7ccf1ee1",
      "cell_type": "code",
      "source": "target",
      "metadata": {
        "trusted": true
      },
      "outputs": [],
      "execution_count": null
    },
    {
      "id": "e7bb190f-cfdc-4158-9a28-0d93d53410a5",
      "cell_type": "markdown",
      "source": "<h3>When Python executes decorators</h3>\n A key feature of decorators is that they run right after the decorated function is defined.\n That is usually at import time, i.e. when a module is loaded by Python. ",
      "metadata": {}
    },
    {
      "id": "2c0d5701-a516-4fbb-a8f7-af47d754f5a2",
      "cell_type": "code",
      "source": "registry = []   \ndef register(func):   \n    print('running register(%s)' % func)   \n    registry.append(func)   \n    return func \n\n@register   \ndef f1():\n    print('running f1()')\n\n@register\ndef f2():\n    print('running f2()')\n\ndef f3():   \nprint('running f3()')\n \ndef main():   \n    print('running main()')\n    print('registry ->', registry)\n    f1()\n    f2()\n    f3()\nif __name__=='__main__':\n    main()",
      "metadata": {
        "trusted": true
      },
      "outputs": [],
      "execution_count": null
    },
    {
      "id": "9e58729f-222e-4282-8012-552d0ebb71cd",
      "cell_type": "code",
      "source": "promos = []\n\ndef promotion(promo_func):\n    promos.append(promo_func)\n    return promo_func\n",
      "metadata": {
        "trusted": true
      },
      "outputs": [],
      "execution_count": null
    },
    {
      "id": "aaa2b730-f0f6-4bff-a4e6-3c6eb5edfc95",
      "cell_type": "code",
      "source": "@promotion\ndef fidelity(order):\n    return order.total() * .05 if order.customer.fidelity >= 1000 else 0\n\n@promotion\ndef bulk_item(order):\n    discount = 0\n    for item in order.cart:\n        if item.quantity >= 20:\n            discount += item.total() * .1\n    return discount\n\n@promotion\ndef large_order(order):\n    distinct_items = {item.product for item in order.cart}\n    if len(distinct_items) >= 10:\n        return order.total() * .07\n    return 0\n",
      "metadata": {
        "trusted": true
      },
      "outputs": [],
      "execution_count": null
    },
    {
      "id": "c239c4c5-9610-40aa-b8a3-acf08df06162",
      "cell_type": "code",
      "source": "",
      "metadata": {
        "trusted": true
      },
      "outputs": [],
      "execution_count": null
    },
    {
      "id": "8194d282-9066-4b21-a027-577b7566ffc0",
      "cell_type": "code",
      "source": "",
      "metadata": {
        "trusted": true
      },
      "outputs": [],
      "execution_count": null
    },
    {
      "id": "de732623-2e59-4a16-a095-2c9282224511",
      "cell_type": "code",
      "source": "",
      "metadata": {
        "trusted": true
      },
      "outputs": [],
      "execution_count": null
    },
    {
      "id": "a8744e92-dda1-4427-a612-9cb49bc9c161",
      "cell_type": "code",
      "source": "",
      "metadata": {
        "trusted": true
      },
      "outputs": [],
      "execution_count": null
    },
    {
      "id": "6da457bc-d643-4423-8902-b01137045f63",
      "cell_type": "code",
      "source": "",
      "metadata": {
        "trusted": true
      },
      "outputs": [],
      "execution_count": null
    },
    {
      "id": "92a91235-60ff-41c2-b26e-3bb74823f44f",
      "cell_type": "code",
      "source": "",
      "metadata": {
        "trusted": true
      },
      "outputs": [],
      "execution_count": null
    }
  ]
}