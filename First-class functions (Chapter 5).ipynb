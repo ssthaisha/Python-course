{
  "metadata": {
    "kernelspec": {
      "name": "python",
      "display_name": "Python (Pyodide)",
      "language": "python"
    },
    "language_info": {
      "codemirror_mode": {
        "name": "python",
        "version": 3
      },
      "file_extension": ".py",
      "mimetype": "text/x-python",
      "name": "python",
      "nbconvert_exporter": "python",
      "pygments_lexer": "ipython3",
      "version": "3.8"
    }
  },
  "nbformat_minor": 5,
  "nbformat": 4,
  "cells": [
    {
      "id": "86cc5ee2-3bbe-4915-a061-90cad66ae232",
      "cell_type": "markdown",
      "source": "<h1>Chapter 5 - First-class functions</h1>",
      "metadata": {}
    },
    {
      "id": "656dc174-fbf9-45f9-9fdb-f876c15b309f",
      "cell_type": "markdown",
      "source": " Functions in Python are first-class objects. Programming language theorists define a\n “first-class object” as a program entity that can be: <br>\n • created at runtime; <br>\n • assigned to a variable or element in a data structure;<br>\n • passed as an argument to a function; <br>\n • returned as the result of a function. <br>",
      "metadata": {}
    },
    {
      "id": "2b9270c6-36ca-458b-ac13-9c9693a7cb16",
      "cell_type": "markdown",
      "source": " Integers, strings and dictionaries are other examples of first-class objects in Python",
      "metadata": {}
    },
    {
      "id": "96a5d7aa-dec0-4eb4-87b1-33f8f0198dd2",
      "cell_type": "markdown",
      "source": "<h2>Treating a function like an object</h2>",
      "metadata": {}
    },
    {
      "id": "5e25b358-1902-4cdb-8c85-a624cc420594",
      "cell_type": "markdown",
      "source": "<h3> Create and test a function, then read its __doc__ and check its type.</h3>",
      "metadata": {}
    },
    {
      "id": "4c53b64c-3e7b-4411-9f3b-837ad1de7d01",
      "cell_type": "code",
      "source": "def factorial(n):\n     '''returns n!''' # This is a docstring\n     return 1 if n < 2 else n * factorial(n-1)",
      "metadata": {
        "trusted": true
      },
      "outputs": [],
      "execution_count": 1
    },
    {
      "id": "bcd66229-6a43-48ee-b341-5d82ca624067",
      "cell_type": "code",
      "source": "factorial(42)",
      "metadata": {
        "trusted": true
      },
      "outputs": [
        {
          "execution_count": 2,
          "output_type": "execute_result",
          "data": {
            "text/plain": "1405006117752879898543142606244511569936384000000000"
          },
          "metadata": {}
        }
      ],
      "execution_count": 2
    },
    {
      "id": "ec81e1da-1b7f-4e00-af5d-b135184e8f45",
      "cell_type": "code",
      "source": "factorial.__doc__  ",
      "metadata": {
        "trusted": true
      },
      "outputs": [
        {
          "execution_count": 3,
          "output_type": "execute_result",
          "data": {
            "text/plain": "'returns n!'"
          },
          "metadata": {}
        }
      ],
      "execution_count": 3
    },
    {
      "id": "eef9b3a6-5779-4efe-a1a7-704c07de6102",
      "cell_type": "markdown",
      "source": "__doc__ is one of several attributes of function objects.",
      "metadata": {}
    },
    {
      "id": "8a66ea10-bd29-4870-b458-147c20ea8dfa",
      "cell_type": "code",
      "source": "type(factorial)",
      "metadata": {
        "trusted": true
      },
      "outputs": [
        {
          "execution_count": 5,
          "output_type": "execute_result",
          "data": {
            "text/plain": "function"
          },
          "metadata": {}
        }
      ],
      "execution_count": 5
    },
    {
      "id": "d5da7edd-a1a8-432b-991d-74f0244ed436",
      "cell_type": "markdown",
      "source": "<h3> Use function through a different name, and pass function as argument</h3>",
      "metadata": {}
    },
    {
      "id": "6f34c491-141c-49d9-ba5f-d78697dd59f5",
      "cell_type": "markdown",
      "source": "Functions can be stored in variables and passed as arguments to other functions, just like other data types.",
      "metadata": {}
    },
    {
      "id": "ae8328e8-2a14-440f-a3c5-e8e9e98f3105",
      "cell_type": "code",
      "source": "fact = factorial\nfact",
      "metadata": {
        "trusted": true
      },
      "outputs": [
        {
          "execution_count": 7,
          "output_type": "execute_result",
          "data": {
            "text/plain": "<function __main__.factorial(n)>"
          },
          "metadata": {}
        }
      ],
      "execution_count": 7
    },
    {
      "id": "45b4f3b5-517c-42ac-9dfa-e95c4196afc7",
      "cell_type": "markdown",
      "source": " The function object factorial is assigned to a new variable fact. fact now points to the exact same function. You can call the function using either name (factorial(5) or fact(5)). This is like assigning y = x where x is a number; y now holds the same number.",
      "metadata": {}
    },
    {
      "id": "b29d9d7f-3294-4b90-8971-5427cb49fbe2",
      "cell_type": "code",
      "source": "fact(5)",
      "metadata": {
        "trusted": true
      },
      "outputs": [
        {
          "execution_count": 8,
          "output_type": "execute_result",
          "data": {
            "text/plain": "120"
          },
          "metadata": {}
        }
      ],
      "execution_count": 8
    },
    {
      "id": "11bd58f8-abff-49aa-98a1-5af962f6d98e",
      "cell_type": "code",
      "source": "map(factorial, range(11))",
      "metadata": {
        "trusted": true
      },
      "outputs": [
        {
          "execution_count": 9,
          "output_type": "execute_result",
          "data": {
            "text/plain": "<map at 0x24b52e0>"
          },
          "metadata": {}
        }
      ],
      "execution_count": 9
    },
    {
      "id": "755782eb-f7bd-4fc7-ac51-a29a9e6a5f5f",
      "cell_type": "markdown",
      "source": "Here, the factorial function itself is passed as the first argument to the built-in map function. map takes a function and an iterable (like range(11), which produces numbers 0 through 10) and applies the function to each item in the iterable. map returns an iterator (a map object).",
      "metadata": {}
    },
    {
      "id": "d0053d6c-65ee-4d85-9ea2-087c467217ed",
      "cell_type": "code",
      "source": "list(map(fact, range(11)))",
      "metadata": {
        "trusted": true
      },
      "outputs": [
        {
          "execution_count": 10,
          "output_type": "execute_result",
          "data": {
            "text/plain": "[1, 1, 2, 6, 24, 120, 720, 5040, 40320, 362880, 3628800]"
          },
          "metadata": {}
        }
      ],
      "execution_count": 10
    },
    {
      "id": "705115e7-58ac-4bee-ae2d-6a72eb8f728e",
      "cell_type": "markdown",
      "source": "This does the same, but uses the fact variable (which points to the factorial function) and converts the resulting map iterator into a list so you can see the results immediately: the factorials of numbers from 0 to 10.",
      "metadata": {}
    },
    {
      "id": "7765586a-ebcc-4323-831f-f3800ac8a973",
      "cell_type": "markdown",
      "source": "<h3>Higher-Order Functions (HOFs)</h3>",
      "metadata": {}
    },
    {
      "id": "d099c393-9558-4919-9fd4-978f7a3baef9",
      "cell_type": "markdown",
      "source": "A function that either:<br>\nTakes one or more functions as arguments.<br>\nReturns a function as its result.\n[9] is an exam of HOF, sorted is built-in HOF",
      "metadata": {}
    },
    {
      "id": "9c9aa2c4-f2c2-4159-81e5-9de6d6d8f9a6",
      "cell_type": "markdown",
      "source": "<h4>sorted HOF with key</h4>",
      "metadata": {}
    },
    {
      "id": "e6fa9175-0b40-4ecd-99a9-88e459e484be",
      "cell_type": "code",
      "source": "fruits = ['strawberry', 'fig', 'apple', 'cherry', 'raspberry', 'banana']\nsorted(fruits, key=len) # Using the built-in len function as the key",
      "metadata": {
        "trusted": true
      },
      "outputs": [
        {
          "execution_count": 12,
          "output_type": "execute_result",
          "data": {
            "text/plain": "['fig', 'apple', 'cherry', 'banana', 'raspberry', 'strawberry']"
          },
          "metadata": {}
        }
      ],
      "execution_count": 12
    },
    {
      "id": "83010e91-5e6b-421c-9267-e5fe32f498c5",
      "cell_type": "markdown",
      "source": "<h4>sorted HOF with a Custom key Function</h4>",
      "metadata": {}
    },
    {
      "id": "4441a5e0-a2dd-4a2f-9e94-db16055f8098",
      "cell_type": "code",
      "source": "def reverse(word):\n     return word[::-1]\n\nreverse('testing')",
      "metadata": {
        "trusted": true
      },
      "outputs": [
        {
          "execution_count": 13,
          "output_type": "execute_result",
          "data": {
            "text/plain": "'gnitset'"
          },
          "metadata": {}
        }
      ],
      "execution_count": 13
    },
    {
      "id": "179448d9-13cc-4be8-a0e5-4908ccd4453b",
      "cell_type": "code",
      "source": "sorted(fruits, key=reverse)",
      "metadata": {
        "trusted": true
      },
      "outputs": [
        {
          "execution_count": 14,
          "output_type": "execute_result",
          "data": {
            "text/plain": "['banana', 'apple', 'fig', 'raspberry', 'strawberry', 'cherry']"
          },
          "metadata": {}
        }
      ],
      "execution_count": 14
    },
    {
      "id": "7bc77384-4cf5-4dd3-a6dd-0c7a265637be",
      "cell_type": "markdown",
      "source": "The core message is that Python's functions are versatile objects. You can assign them to variables, pass them into other functions (like map or sorted), and use their attributes (like __doc__). Functions that accept or return other functions are called higher-order functions, and they are a key feature enabling functional programming styles in Python. Examples like sorted(..., key=...) show a practical application of this concept.",
      "metadata": {}
    },
    {
      "id": "82d4e47f-8013-476d-a128-b78a4b310a8e",
      "cell_type": "markdown",
      "source": "<h4>Modern replacements for map, filter and reduce</h4>",
      "metadata": {}
    },
    {
      "id": "a5b40469-22ac-46de-be73-d5e58d84bea8",
      "cell_type": "markdown",
      "source": "map, filter (creates an iterator filtering elements based on a function), and reduce (performs a cumulative computation using a function, now in the functools module) are classic HOFs from functional programming.The map and filter functions are still built\nins in Python 3, but since the introduction of list comprehensions and generator ex\npressions, they are not as important. A listcomp or a genexp does the job of map and\n filter combined, but is more readable.",
      "metadata": {}
    },
    {
      "id": "b56100f3-5a5c-412f-ac1b-22660bc5e0de",
      "cell_type": "code",
      "source": "list(map(fact, range(6)))",
      "metadata": {
        "trusted": true
      },
      "outputs": [
        {
          "execution_count": 16,
          "output_type": "execute_result",
          "data": {
            "text/plain": "[1, 1, 2, 6, 24, 120]"
          },
          "metadata": {}
        }
      ],
      "execution_count": 16
    },
    {
      "id": "7d3452df-7db6-4ed9-b82b-c065bfb3b069",
      "cell_type": "code",
      "source": "[fact(n) for n in range(6)]",
      "metadata": {
        "trusted": true
      },
      "outputs": [
        {
          "execution_count": 17,
          "output_type": "execute_result",
          "data": {
            "text/plain": "[1, 1, 2, 6, 24, 120]"
          },
          "metadata": {}
        }
      ],
      "execution_count": 17
    },
    {
      "id": "3aa8c25f-69bd-432c-9ce9-206f10efa9be",
      "cell_type": "markdown",
      "source": "<h3>Anonymous functions</h3>",
      "metadata": {}
    },
    {
      "id": "e56181ce-35e8-4826-a446-b066ad6f4dbc",
      "cell_type": "markdown",
      "source": " The lambda keyword creates an anonymous function within a Python expression.\n However, the simple syntax of Python limits the body of lambda functions to be pure\n expressions. In other words, the body of a lambda cannot make assignments or use any\n other Python statement such as while, try etc.",
      "metadata": {}
    },
    {
      "id": "5ce60486-df2d-46a4-813d-4dcca005e315",
      "cell_type": "code",
      "source": "fruits = ['strawberry', 'fig', 'apple', 'cherry', 'raspberry', 'banana']\nsorted(fruits, key=lambda word: word[::-1])",
      "metadata": {
        "trusted": true
      },
      "outputs": [
        {
          "execution_count": 18,
          "output_type": "execute_result",
          "data": {
            "text/plain": "['banana', 'apple', 'fig', 'raspberry', 'strawberry', 'cherry']"
          },
          "metadata": {}
        }
      ],
      "execution_count": 18
    },
    {
      "id": "8ff62338-d27c-4910-899d-d23859366fa0",
      "cell_type": "markdown",
      "source": "To determine whether an object is callable, use the callable() built-in function. The\n Python Data Model documentation lists seven callable types: <br>\n User-defined functions <br>\n created with def statements or lambda expressions.<br>\n Built-in functions<br>\n a function implemented in C (for CPython), like len or time.strftime.<br>\n Built-in methods<br>\n methods implemented in C, like dict.get.<br>\nMethods<br>\n functions defined in the body of a class.<br>\n Classes<br>\n when invoked, a class runs its __new__ method to create an instance, then __in\n it__ to initialize it, and finally the instance is returned to the caller. Because there\n is no new operator in Python, calling a class is like calling a function2.<br>\n Class instances<br>\n If a class defines a special method named __call__, then instances (objects) of that class can be called directly using ().<br>\n\n Generator functions<br>\n functions or methods that use the yield keyword. When called, generator functions\n return a generator object",
      "metadata": {}
    },
    {
      "id": "e83474a8-4be4-47e9-8906-315a675c4730",
      "cell_type": "markdown",
      "source": "<h4> User defined callable types</h4>",
      "metadata": {}
    },
    {
      "id": "071e69e1-9acf-4dda-810b-0590f5518bc5",
      "cell_type": "markdown",
      "source": "You can make instances of your own custom classes callable by defining the special instance method __call__(self, ...) within your class.\n",
      "metadata": {}
    },
    {
      "id": "93707f28-ff56-416a-8b15-cec3d778c9bd",
      "cell_type": "code",
      "source": " import random\n class BingoCage:\n     def __init__(self, items):\n         self._items = list(items)   \n         random.shuffle(self._items) \n\n     def pick(self):   \n        try:\n            return self._items.pop()\n        except IndexError:\n            raise LookupError('pick from empty BingoCage')\n\n    def __call__(self):   \n    return self.pick()\n         ",
      "metadata": {
        "trusted": true
      },
      "outputs": [
        {
          "name": "stderr",
          "output_type": "stream",
          "text": "Traceback (most recent call last):\n  File \"/lib/python3.12/site-packages/pyodide_kernel/kernel.py\", line 90, in run\n    code = await self.lite_transform_manager.transform_cell(code)\n           ^^^^^^^^^^^^^^^^^^^^^^^^^^^^^^^^^^^^^^^^^^^^^^^^^^^^^^\n  File \"/lib/python3.12/site-packages/pyodide_kernel/litetransform.py\", line 34, in transform_cell\n    lines = await self.do_token_transforms(lines)\n            ^^^^^^^^^^^^^^^^^^^^^^^^^^^^^^^^^^^^^\n  File \"/lib/python3.12/site-packages/pyodide_kernel/litetransform.py\", line 39, in do_token_transforms\n    changed, lines = await self.do_one_token_transform(lines)\n                     ^^^^^^^^^^^^^^^^^^^^^^^^^^^^^^^^^^^^^^^^\n  File \"/lib/python3.12/site-packages/pyodide_kernel/litetransform.py\", line 59, in do_one_token_transform\n    tokens_by_line = make_tokens_by_line(lines)\n                     ^^^^^^^^^^^^^^^^^^^^^^^^^^\n  File \"/lib/python3.12/site-packages/IPython/core/inputtransformer2.py\", line 535, in make_tokens_by_line\n    for token in tokenutil.generate_tokens_catch_errors(\n                 ^^^^^^^^^^^^^^^^^^^^^^^^^^^^^^^^^^^^^^^\n  File \"/lib/python3.12/site-packages/IPython/utils/tokenutil.py\", line 40, in generate_tokens_catch_errors\n    for token in tokenize.generate_tokens(readline):\n                 ^^^^^^^^^^^^^^^^^^^^^^^^^^^^^^^^^^\n  File \"/lib/python312.zip/tokenize.py\", line 580, in _generate_tokens_from_c_tokenizer\n    raise e from None\n  File \"/lib/python312.zip/tokenize.py\", line 576, in _generate_tokens_from_c_tokenizer\n    for info in it:\n                ^^\n  File \"<string>\", line 13\n    def __call__(self):   \n                          ^\nIndentationError: unindent does not match any outer indentation level\n\nIf you suspect this is an IPython 8.23.0 bug, please report it at:\n    https://github.com/ipython/ipython/issues\nor send an email to the mailing list at ipython-dev@python.org\n\nYou can print a more detailed traceback right now with \"%tb\", or use \"%debug\"\nto interactively debug it.\n\nExtra-detailed tracebacks for bug-reporting purposes can be enabled via:\n    %config Application.verbose_crash=True\n\n"
        }
      ],
      "execution_count": null
    },
    {
      "id": "d6ebaec5-084d-4a46-821b-067b4cc38ec8",
      "cell_type": "code",
      "source": " def pick(self):   \n        try:\n            return self._items.pop()\n        except IndexError:\n            raise LookupError('pick from empty BingoCage')",
      "metadata": {
        "trusted": true
      },
      "outputs": [],
      "execution_count": 23
    },
    {
      "id": "30672977-e0ad-450b-9d5c-66b969c3c4f6",
      "cell_type": "code",
      "source": "def __call__(self):   \n    return self.pick()",
      "metadata": {
        "trusted": true
      },
      "outputs": [],
      "execution_count": 25
    },
    {
      "id": "8dbdce25-077f-4efd-ab10-45fe6c215331",
      "cell_type": "code",
      "source": "bingo = BingoCage(range(3))\nbingo.pick()",
      "metadata": {
        "trusted": true
      },
      "outputs": [
        {
          "execution_count": 28,
          "output_type": "execute_result",
          "data": {
            "text/plain": "2"
          },
          "metadata": {}
        }
      ],
      "execution_count": 30
    },
    {
      "id": "d6e8c6f1-a1d0-4393-975d-b844a4a72e7d",
      "cell_type": "code",
      "source": " bingo()",
      "metadata": {
        "trusted": true
      },
      "outputs": [
        {
          "ename": "<class 'TypeError'>",
          "evalue": "'BingoCage' object is not callable",
          "traceback": [
            "\u001b[0;31m---------------------------------------------------------------------------\u001b[0m",
            "\u001b[0;31mTypeError\u001b[0m                                 Traceback (most recent call last)",
            "Cell \u001b[0;32mIn[29], line 1\u001b[0m\n\u001b[0;32m----> 1\u001b[0m \u001b[43mbingo\u001b[49m\u001b[43m(\u001b[49m\u001b[43m)\u001b[49m\n",
            "\u001b[0;31mTypeError\u001b[0m: 'BingoCage' object is not callable"
          ],
          "output_type": "error"
        }
      ],
      "execution_count": 31
    },
    {
      "id": "8de1da26-2362-4961-8177-4e78e391da56",
      "cell_type": "markdown",
      "source": "<h3>Function Introspection</h3>\n\nConcept: Introspection means examining the type or properties of objects at runtime. Since functions are objects, you can inspect their attributes.<br>\ndir(function_name): Shows all the attributes and methods associated with that function object. Many are standard Python object attributes (__class__, __repr__, etc.). <br>\n__dict__ attribute: Like simple class instances, functions also have a __dict__ where you can store arbitrary custom attributes.<br>\nExample: The Django framework uses this to attach metadata like short_description to functions/methods, which the framework can then use (e.g., for display purposes). my_function.short_description = 'Does something cool'<br>\nFunction-Specific Attributes (Example 5-9 & Table 5-1):<br>\nThe code cleverly uses set difference (set(dir(func)) - set(dir(obj))) to find attributes that exist on a function (func) but not on a plain object (obj).<br>\nThis reveals attributes specific to functions/methods, such as:\n__annotations__: Stores type hints and return annotations.\n__call__: The implementation that allows the function to be called with ().\n__closure__: Related to closures (functions remembering variables from their enclosing scope).\n__code__: Contains the compiled bytecode of the function body and metadata.\n__defaults__: A tuple containing default values for positional arguments.\n__globals__: A reference to the global namespace of the module where the function was defined.\n__kwdefaults__: A dictionary containing default values for keyword-only arguments.\n__name__: The function's name as a string.\n__qualname__: The \"qualified\" name (e.g., ClassName.method_name).",
      "metadata": {}
    },
    {
      "id": "86da90ac-1295-4507-9bbb-fa4651fd2f1a",
      "cell_type": "markdown",
      "source": "<h2> From positional to keyword-only parameters</h2>",
      "metadata": {}
    },
    {
      "id": "5f45f981-50bc-44a3-958e-24805d357628",
      "cell_type": "markdown",
      "source": "<h4> Positional Arguments:</h4>",
      "metadata": {}
    },
    {
      "id": "65e282f7-13ac-4a3a-80e2-945687775b84",
      "cell_type": "code",
      "source": "def greet(name, greeting):\n    print(f\"{greeting}, {name}!\")\n\ngreet(\"Alice\", \"Hello\")",
      "metadata": {
        "trusted": true
      },
      "outputs": [
        {
          "name": "stdout",
          "output_type": "stream",
          "text": "Hello, Alice!\n"
        }
      ],
      "execution_count": 33
    },
    {
      "id": "4d016d0f-a1d1-4ff0-8216-33a57546dc0f",
      "cell_type": "markdown",
      "source": "<h4>*args (Variable Positional Arguments):</h4>\n\nThe * before a parameter name in the function definition (e.g., *content) allows the function to accept an arbitrary number of positional arguments. These arguments are collected into a tuple.",
      "metadata": {}
    },
    {
      "id": "861af507-6559-430f-b825-652107a5dc1a",
      "cell_type": "code",
      "source": "def print_all(*args):\n    for item in args:\n        print(item)\n\nprint_all(1, \"hello\", 3.14) ",
      "metadata": {
        "trusted": true
      },
      "outputs": [
        {
          "name": "stdout",
          "output_type": "stream",
          "text": "1\nhello\n3.14\n"
        }
      ],
      "execution_count": 34
    },
    {
      "id": "dbb46805-d666-4615-ad03-eb9257c2131d",
      "cell_type": "markdown",
      "source": "<h4>Keyword Arguments:</h4>\n\nWhen calling a function, you can provide arguments using the parameter name followed by an equals sign (e.g., name=\"Bob\"). This allows you to pass arguments out of order, and it improves code readability.",
      "metadata": {}
    },
    {
      "id": "a9cc1fc6-262b-4e41-a7a1-4e188d5c697f",
      "cell_type": "code",
      "source": "def describe_pet(animal_type, pet_name):\n    print(f\"I have a {animal_type} named {pet_name}.\")\n\ndescribe_pet(animal_type=\"dog\", pet_name=\"Buddy\")\ndescribe_pet(pet_name=\"Lucy\", animal_type=\"cat\")",
      "metadata": {
        "trusted": true
      },
      "outputs": [
        {
          "name": "stdout",
          "output_type": "stream",
          "text": "I have a dog named Buddy.\nI have a cat named Lucy.\n"
        }
      ],
      "execution_count": 35
    },
    {
      "id": "9d512bc4-7825-472f-8f78-e66760e12e4f",
      "cell_type": "markdown",
      "source": "<h4>**kwargs (Variable Keyword Arguments):</h4>\n\nThe ** before a parameter name (e.g., **attrs) allows the function to accept an arbitrary number of keyword arguments. These arguments are collected into a dictionary where the keys are the parameter names and the values are the passed values.",
      "metadata": {}
    },
    {
      "id": "63f4e5a7-483e-412d-a42a-862d58be19dd",
      "cell_type": "code",
      "source": "def print_info(**kwargs):\n    for key, value in kwargs.items():\n        print(f\"{key}: {value}\")\n\nprint_info(name=\"Charlie\", age=30, city=\"New York\")",
      "metadata": {
        "trusted": true
      },
      "outputs": [
        {
          "name": "stdout",
          "output_type": "stream",
          "text": "name: Charlie\nage: 30\ncity: New York\n"
        }
      ],
      "execution_count": 36
    },
    {
      "id": "dddbb7f9-67b5-4931-bfff-f27f6db4b3b6",
      "cell_type": "markdown",
      "source": "<h4> The tag Function</h4>",
      "metadata": {}
    },
    {
      "id": "b168c030-f881-4ab3-8dca-5b19f6516539",
      "cell_type": "code",
      "source": "def tag(name, *content, cls=None, **attrs):\n    \"\"\"Generate one or more HTML tags\"\"\"\n    if cls is not None:\n        attrs['class'] = cls\n    if attrs:\n        attr_str = ''.join(' %s=\"%s\"' % (attr, value)\n                           for attr, value\n                           in sorted(attrs.items()))\n    else:\n        attr_str = ''\n    if content:\n        return '\\n'.join(f'<{name}{attr_str}>{c}</{name}>' for c in content)\n    else:\n        return f'<{name}{attr_str} />'",
      "metadata": {
        "trusted": true
      },
      "outputs": [],
      "execution_count": 37
    },
    {
      "id": "9947afe2-6a50-4ffa-a093-8ce7fd31ade9",
      "cell_type": "code",
      "source": "print(tag('br'))\nprint(tag('p', 'hello'))\nprint(tag('p', 'hello', 'world'))\nprint(tag('p', 'hello', id=33))\nprint(tag('p', 'hello', 'world', cls='sidebar'))\nprint(tag(content='testing', name=\"img\"))\nmy_tag = {'name': 'img', 'title': 'Sunset Boulevard', 'src': 'sunset.jpg', 'cls': 'framed'}\nprint(tag(**my_tag))",
      "metadata": {
        "trusted": true
      },
      "outputs": [
        {
          "name": "stdout",
          "output_type": "stream",
          "text": "<br />\n<p>hello</p>\n<p>hello</p>\n<p>world</p>\n<p id=\"33\">hello</p>\n<p class=\"sidebar\">hello</p>\n<p class=\"sidebar\">world</p>\n<img content=\"testing\" />\n<img class=\"framed\" src=\"sunset.jpg\" title=\"Sunset Boulevard\" />\n"
        }
      ],
      "execution_count": 38
    },
    {
      "id": "dcad6bbf-a213-432b-961a-167f7abc1bc7",
      "cell_type": "markdown",
      "source": "These calls demonstrate the flexibility:\n\ntag('br'): Only the positional name argument is provided.\ntag('p', 'hello'): name and one positional argument for content.\ntag('p', 'hello', 'world'): name and multiple positional arguments for content.\ntag('p', 'hello', id=33): name, content, and a keyword argument for attrs.\ntag('p', 'hello', 'world', cls='sidebar'): name, content, and the keyword-only argument cls.\ntag(content='testing', name=\"img\"): Both name and content are passed as keyword arguments.\ntag(**my_tag): The my_tag dictionary is unpacked using ** into keyword arguments, matching the function's parameters.",
      "metadata": {}
    },
    {
      "id": "e21011ed-021f-42f5-bd13-f64f6a6345ce",
      "cell_type": "code",
      "source": "def f(a, *, b):\n    return a, b\n\nprint(f(1, b=2))\n",
      "metadata": {
        "trusted": true
      },
      "outputs": [
        {
          "name": "stdout",
          "output_type": "stream",
          "text": "(1, 2)\n"
        }
      ],
      "execution_count": 40
    },
    {
      "id": "5888844f-0688-4243-b1b4-22aa5b3ece95",
      "cell_type": "code",
      "source": "print(f(1, 2))",
      "metadata": {
        "trusted": true
      },
      "outputs": [
        {
          "ename": "<class 'TypeError'>",
          "evalue": "f() takes 1 positional argument but 2 were given",
          "traceback": [
            "\u001b[0;31m---------------------------------------------------------------------------\u001b[0m",
            "\u001b[0;31mTypeError\u001b[0m                                 Traceback (most recent call last)",
            "Cell \u001b[0;32mIn[39], line 1\u001b[0m\n\u001b[0;32m----> 1\u001b[0m \u001b[38;5;28mprint\u001b[39m(\u001b[43mf\u001b[49m\u001b[43m(\u001b[49m\u001b[38;5;241;43m1\u001b[39;49m\u001b[43m,\u001b[49m\u001b[43m \u001b[49m\u001b[38;5;241;43m2\u001b[39;49m\u001b[43m)\u001b[49m)\n",
            "\u001b[0;31mTypeError\u001b[0m: f() takes 1 positional argument but 2 were given"
          ],
          "output_type": "error"
        }
      ],
      "execution_count": 41
    },
    {
      "id": "6a021424-8280-4ea0-8001-52e2f4b3b9ef",
      "cell_type": "markdown",
      "source": "<h2>Function Annotations</h2>",
      "metadata": {}
    },
    {
      "id": "fdda2dcf-3207-46d5-8d77-d4a6609a48f3",
      "cell_type": "markdown",
      "source": "Python 3 provides syntax to attach metadata to the parameters of a function declaration\n and its return value.  The only\n differences are in the first line.<br>\nAnnotations are added using colons (:) after parameter names and an arrow (->) before the colon ending the function definition. <br>\nFor parameters: parameter_name: annotation_expression\nIf a parameter has a default value, the annotation goes between the name and the equals sign: parameter_name: annotation_expression = default_value\nFor the return value: ) -> annotation_expression:",
      "metadata": {}
    },
    {
      "id": "bdf5a2c2-4221-47a9-8996-531c0af2f1c6",
      "cell_type": "code",
      "source": " def clip(text:str, max_len:'int > 0'=80) -> str:   \n    \"\"\"Return text clipped at the last space before or after max_len\n    \"\"\"\n    end = None\n    if len(text) > max_len:\n         space_before = text.rfind(' ', 0, max_len)\n         if space_before >= 0:\n             end = space_before\n         else:\n             space_after = text.rfind(' ', max_len)\n             if space_after >= 0:\n                 end = space_after\n    if end is None:  # no spaces were found\n         end = len(text)\n         return text[:end].rstrip()",
      "metadata": {
        "trusted": true
      },
      "outputs": [],
      "execution_count": 47
    },
    {
      "id": "3c425fe5-3a03-45d1-97c0-3096c06c746d",
      "cell_type": "code",
      "source": "clip.__annotations__",
      "metadata": {
        "trusted": true
      },
      "outputs": [
        {
          "execution_count": 46,
          "output_type": "execute_result",
          "data": {
            "text/plain": "{'text': str, 'max_len': 'int > 0', 'return': str}"
          },
          "metadata": {}
        }
      ],
      "execution_count": 49
    },
    {
      "id": "baef968a-6a2f-4e76-881b-27748dc7b50f",
      "cell_type": "markdown",
      "source": " Python stores these annotations in a dictionary called __annotations__ as an attribute of the function object. The keys of this dictionary are the parameter names (and 'return' for the return value), and the values are the corresponding annotation expressions.",
      "metadata": {}
    },
    {
      "id": "34d649cc-13f7-4f32-9467-e19877238a4a",
      "cell_type": "markdown",
      "source": "<h2>The operator Module:</h2>\nThe operator module provides efficient function equivalents for many of Python's built-in operators. This is particularly useful in functional programming where you often need to pass operators as arguments to higher-order functions.",
      "metadata": {}
    },
    {
      "id": "ef030786-4c6f-46d8-a070-a8b64815c09f",
      "cell_type": "code",
      "source": "from functools import reduce\nfrom operator import mul\n\ndef fact_operator(n):\n    return reduce(mul, range(1, n + 1))\n\nprint(fact_operator(5))  # Output: 120",
      "metadata": {
        "trusted": true
      },
      "outputs": [
        {
          "name": "stdout",
          "output_type": "stream",
          "text": "120\n"
        }
      ],
      "execution_count": 50
    },
    {
      "id": "adf6e8e9-ff1d-4180-8c39-b7813af15290",
      "cell_type": "markdown",
      "source": "operator.itemgetter():\n\nCreates a callable object that retrieves items from its operand using the operand's __getitem__() method (which supports indexing and key lookup).\n\nUseful for extracting specific elements from sequences (like lists, tuples) or values from mappings (like dictionaries).",
      "metadata": {}
    },
    {
      "id": "16900937-dc7a-41f3-977f-63b3186a36ba",
      "cell_type": "code",
      "source": "metro_data = [\n    ('Tokyo', 'JP', 36.933, (35.689722, 139.691667)),\n    ('Delhi NCR', 'IN', 21.935, (28.613889, 77.208889)),\n    ('Mexico City', 'MX', 20.142, (19.433333, -99.133333)),\n    ('New York-Newark', 'US', 20.104, (40.808611, -74.020386)),\n    ('Sao Paulo', 'BR', 19.649, (-23.547778, -46.635833)),\n]\n\nfrom operator import itemgetter\n\nfor city in sorted(metro_data, key=itemgetter(1)):\n    print(city)\n# Output (sorted by the element at index 1 - the country code):\n# ('Sao Paulo', 'BR', 19.649, (-23.547778, -46.635833))\n# ('Delhi NCR', 'IN', 21.935, (28.613889, 77.208889))\n# ('Tokyo', 'JP', 36.933, (35.689722, 139.691667))\n# ('Mexico City', 'MX', 20.142, (19.433333, -99.133333))\n# ('New York-Newark', 'US', 20.104, (40.808611, -74.020386))\n\ncc_name = itemgetter(1, 0)\nfor city in metro_data:\n    print(cc_name(city))\n# Output (tuples of country code and city name):\n# ('JP', 'Tokyo')\n# ('IN', 'Delhi NCR')\n# ('MX', 'Mexico City')\n# ('US', 'New York-Newark')\n# ('BR', 'Sao Paulo')",
      "metadata": {
        "trusted": true
      },
      "outputs": [
        {
          "name": "stdout",
          "output_type": "stream",
          "text": "('Sao Paulo', 'BR', 19.649, (-23.547778, -46.635833))\n('Delhi NCR', 'IN', 21.935, (28.613889, 77.208889))\n('Tokyo', 'JP', 36.933, (35.689722, 139.691667))\n('Mexico City', 'MX', 20.142, (19.433333, -99.133333))\n('New York-Newark', 'US', 20.104, (40.808611, -74.020386))\n('JP', 'Tokyo')\n('IN', 'Delhi NCR')\n('MX', 'Mexico City')\n('US', 'New York-Newark')\n('BR', 'Sao Paulo')\n"
        }
      ],
      "execution_count": 51
    },
    {
      "id": "b5f69d52-4d3a-4a3d-b204-d872e44cd1f2",
      "cell_type": "markdown",
      "source": "operator.attrgetter():\n\nCreates a callable object that retrieves named attributes from its operand using getattr().\n\nUseful for extracting specific attributes from objects.",
      "metadata": {}
    },
    {
      "id": "280a4fc3-247e-451a-a35b-8c993281a735",
      "cell_type": "code",
      "source": "from collections import namedtuple\nfrom operator import attrgetter\n\nLatLong = namedtuple('LatLong', 'lat long')\nMetropolis = namedtuple('Metropolis', 'name cc pop coord')\nmetro_data = [\n    ('Tokyo', 'JP', 36.933, (35.689722, 139.691667)),\n    ('Delhi NCR', 'IN', 21.935, (28.613889, 77.208889)),\n    ('Mexico City', 'MX', 20.142, (19.433333, -99.133333)),\n    ('New York-Newark', 'US', 20.104, (40.808611, -74.020386)),\n    ('Sao Paulo', 'BR', 19.649, (-23.547778, -46.635833)),\n]\nmetro_areas = [Metropolis(name, cc, pop, LatLong(lat, long))\n               for name, cc, pop, (lat, long) in metro_data]\n\nname_lat = attrgetter('name', 'coord.lat')\nfor city in sorted(metro_areas, key=attrgetter('coord.lat')):\n    print(name_lat(city))\n# Output (sorted by latitude, showing city name and latitude):\n# ('Sao Paulo', -23.547778)\n# ('Mexico City', 19.433333)\n# ('Delhi NCR', 28.613889)\n# ('Tokyo', 35.689722)\n# ('New York-Newark', 40.808611)",
      "metadata": {
        "trusted": true
      },
      "outputs": [
        {
          "name": "stdout",
          "output_type": "stream",
          "text": "('Sao Paulo', -23.547778)\n('Mexico City', 19.433333)\n('Delhi NCR', 28.613889)\n('Tokyo', 35.689722)\n('New York-Newark', 40.808611)\n"
        }
      ],
      "execution_count": 52
    },
    {
      "id": "91bafc3d-5ba0-4044-8f91-c0eea04174b2",
      "cell_type": "markdown",
      "source": "operator.methodcaller():\n\nCreates a callable object that calls a specific method on its operand.\n\nCan also take additional fixed arguments that will be passed to the method call.",
      "metadata": {}
    },
    {
      "id": "02ecd228-78d6-427c-8ddf-cdca6f007a82",
      "cell_type": "code",
      "source": "from operator import methodcaller\n\ns = 'The time has come'\nupcase = methodcaller('upper')\nprint(upcase(s))  # Output: THE TIME HAS COME\n\nhiphenate = methodcaller('replace', ' ', '-')\nprint(hiphenate(s)) # Output: The-time-has-come",
      "metadata": {
        "trusted": true
      },
      "outputs": [
        {
          "name": "stdout",
          "output_type": "stream",
          "text": "THE TIME HAS COME\nThe-time-has-come\n"
        }
      ],
      "execution_count": 53
    },
    {
      "id": "b4bd9dbb-d7d2-4407-ad85-8d03136ed6c3",
      "cell_type": "code",
      "source": "",
      "metadata": {
        "trusted": true
      },
      "outputs": [],
      "execution_count": null
    }
  ]
}