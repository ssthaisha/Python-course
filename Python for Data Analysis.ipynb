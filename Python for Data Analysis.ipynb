{
  "metadata": {
    "kernelspec": {
      "name": "python",
      "display_name": "Python (Pyodide)",
      "language": "python"
    },
    "language_info": {
      "codemirror_mode": {
        "name": "python",
        "version": 3
      },
      "file_extension": ".py",
      "mimetype": "text/x-python",
      "name": "python",
      "nbconvert_exporter": "python",
      "pygments_lexer": "ipython3",
      "version": "3.8"
    }
  },
  "nbformat_minor": 5,
  "nbformat": 4,
  "cells": [
    {
      "id": "e84e6175-0ec5-42c5-964f-147cd4956b73",
      "cell_type": "markdown",
      "source": "<h1>Chapter 2 & 3</h1>",
      "metadata": {}
    },
    {
      "id": "954ad5ea-f91d-4638-b0af-3630c7bbb2dc",
      "cell_type": "markdown",
      "source": "<h2>Indentation in python</h2>",
      "metadata": {}
    },
    {
      "id": "d92467ca-2fca-4f9c-9606-491d6a78c4f2",
      "cell_type": "markdown",
      "source": "An indented code block after which all of the code must be indented by the same amount until the end of the block.",
      "metadata": {}
    },
    {
      "id": "937617df-d297-4abd-b04f-fb55034915d7",
      "cell_type": "code",
      "source": "for i in range(5):\n    print(\"Iteration:\", i)  # Indented block, executed for each iteration\n    print(\"Inside the loop\") # Also part of the loop\n\nprint(\"Outside the loop\") # Not indented, executed after the loop finishes\n",
      "metadata": {
        "trusted": true
      },
      "outputs": [
        {
          "name": "stdout",
          "output_type": "stream",
          "text": "Iteration: 0\nInside the loop\nIteration: 1\nInside the loop\nIteration: 2\nInside the loop\nIteration: 3\nInside the loop\nIteration: 4\nInside the loop\nOutside the loop\n"
        }
      ],
      "execution_count": 5
    },
    {
      "id": "90e55620-f091-4e8c-a0e6-52b82ab0dd39",
      "cell_type": "markdown",
      "source": "<h2> Variable Assignment and References</h2>",
      "metadata": {}
    },
    {
      "id": "e56ab1b0-685a-40ae-b450-b72a3a6a4bef",
      "cell_type": "markdown",
      "source": "In Python, when you assign a variable to an object (like a list), you're creating a \nreference to that object, not a copy.\nThis means multiple variables can point to the same underlying data",
      "metadata": {}
    },
    {
      "id": "3286b496-3bef-4e98-9875-644b09de5716",
      "cell_type": "code",
      "source": "a = [1, 2, 3]  # 'a' refers to the list [1, 2, 3]\nb = a          # 'b' now also refers to the *same* list\n\na.append(4)  # Modifying the list through 'a'\n\nprint(b)     ",
      "metadata": {
        "trusted": true
      },
      "outputs": [
        {
          "name": "stdout",
          "output_type": "stream",
          "text": "[1, 2, 3, 4]\n"
        }
      ],
      "execution_count": 6
    },
    {
      "id": "18b61e1d-8c3a-476f-8596-deedc55dff06",
      "cell_type": "markdown",
      "source": "<h3>Argument Passing to Functions</h3>",
      "metadata": {}
    },
    {
      "id": "dba6a43f-b819-4914-a60e-661e4fde86ea",
      "cell_type": "markdown",
      "source": "When you pass a variable to a function, you're passing a reference to the object.\nIf the object is mutable (like a list), changes made inside the function will affect the original object.",
      "metadata": {}
    },
    {
      "id": "9e961ea9-8ae9-4ebd-a4f6-6988a59c215e",
      "cell_type": "code",
      "source": "def append_element(some_list, element):\n    some_list.append(element)\n\ndata = [10, 20, 30]\nappend_element(data, 40)\n\nprint(data)",
      "metadata": {
        "trusted": true
      },
      "outputs": [
        {
          "name": "stdout",
          "output_type": "stream",
          "text": "[10, 20, 30, 40]\n"
        }
      ],
      "execution_count": 7
    },
    {
      "id": "58499b01-0b52-4e29-9e6e-aed299b1ff8f",
      "cell_type": "markdown",
      "source": "<h3>Dynamic References:</h3>",
      "metadata": {}
    },
    {
      "id": "30c06b53-4725-4b4b-b50d-8bd1f3b562da",
      "cell_type": "markdown",
      "source": "A variable can refer to objects of different types during the program's execution.",
      "metadata": {}
    },
    {
      "id": "bdd48f48-6d38-4eec-86c4-f5957e469154",
      "cell_type": "code",
      "source": "my_variable = 5 \nmy_variable = \"hello\"",
      "metadata": {
        "trusted": true
      },
      "outputs": [],
      "execution_count": 8
    },
    {
      "id": "df4f9b30-351f-4c44-a04e-23914a3213a9",
      "cell_type": "markdown",
      "source": "You can't perform operations on objects of incompatible types without explicit conversions.",
      "metadata": {}
    },
    {
      "id": "87e48185-a5e6-4a11-a4f5-c0120b6c70df",
      "cell_type": "code",
      "source": "'5' + 5 ",
      "metadata": {
        "trusted": true
      },
      "outputs": [
        {
          "ename": "<class 'TypeError'>",
          "evalue": "can only concatenate str (not \"int\") to str",
          "traceback": [
            "\u001b[0;31m---------------------------------------------------------------------------\u001b[0m",
            "\u001b[0;31mTypeError\u001b[0m                                 Traceback (most recent call last)",
            "Cell \u001b[0;32mIn[9], line 1\u001b[0m\n\u001b[0;32m----> 1\u001b[0m \u001b[38;5;124;43m'\u001b[39;49m\u001b[38;5;124;43m5\u001b[39;49m\u001b[38;5;124;43m'\u001b[39;49m\u001b[43m \u001b[49m\u001b[38;5;241;43m+\u001b[39;49m\u001b[43m \u001b[49m\u001b[38;5;241;43m5\u001b[39;49m \n",
            "\u001b[0;31mTypeError\u001b[0m: can only concatenate str (not \"int\") to str"
          ],
          "output_type": "error"
        }
      ],
      "execution_count": 9
    },
    {
      "id": "7fe603ea-c991-45a1-aef3-41320076e9a3",
      "cell_type": "markdown",
      "source": "isinstance():\nUsed to check if an object is of a specific type.",
      "metadata": {}
    },
    {
      "id": "44eba836-a9f5-4381-8b3d-9637c6a9ffd6",
      "cell_type": "code",
      "source": "my_var = 10\nprint(isinstance(my_var, int)) \nprint(isinstance(my_var, str)) \nprint(isinstance(my_var, (int, float)))",
      "metadata": {
        "trusted": true
      },
      "outputs": [
        {
          "name": "stdout",
          "output_type": "stream",
          "text": "True\nFalse\nTrue\n"
        }
      ],
      "execution_count": 10
    },
    {
      "id": "eeb3a581-8a6b-48a9-9d0b-48091dab28f4",
      "cell_type": "markdown",
      "source": "<h2>Attributes and Methods</h2>\n\nAttributes:<br>\n    These are variables that are stored within an object. They hold data associated with the object.\n    Think of them as the object's \"properties.\" <br>\nMethods:<br>\n    These are functions that are associated with an object.\n    They can access and modify the object's attributes.\n    Think of them as the object's \"actions.\" <br>\nAccessing:<br>\n    You use the dot (.) notation to access both attributes and methods: object.attribute_name or object.method_name().",
      "metadata": {}
    },
    {
      "id": "68786dc8-8538-4e8d-b971-7e46b3226137",
      "cell_type": "code",
      "source": "# Attribute\na = \"hello\"\n# Methods\nprint(a.upper())  \nprint(a.count('l'))",
      "metadata": {
        "trusted": true
      },
      "outputs": [
        {
          "name": "stdout",
          "output_type": "stream",
          "text": "HELLO\n2\n"
        }
      ],
      "execution_count": 12
    },
    {
      "id": "035d1924-eb53-4313-a5a4-b2292fa00281",
      "cell_type": "markdown",
      "source": "getattr(object, attribute_name) allows you to access an object's attribute or method by its name as a string.\n",
      "metadata": {}
    },
    {
      "id": "91103c3f-f103-43bd-a97a-ca985eb2a182",
      "cell_type": "code",
      "source": "a = \"world\"\n\nmethod_name = \"upper\"\nresult = getattr(a, method_name)()  # Equivalent to a.upper()\nprint(result)  \n\nmethod_name2 = \"count\"\nresult2 = getattr(a, method_name2)('l') # Equivalent to a.count('l')\nprint(result2)",
      "metadata": {
        "trusted": true
      },
      "outputs": [
        {
          "name": "stdout",
          "output_type": "stream",
          "text": "WORLD\n1\n"
        }
      ],
      "execution_count": 13
    },
    {
      "id": "2113c70c-8967-4d03-9aed-08c148437d3e",
      "cell_type": "markdown",
      "source": "<h2>Duck Typing</h2> <br>\n\n\"If it walks like a duck and quacks like a duck, then it's a duck.\"\nIn Python, you often care more about an object's behavior (its methods) than its specific type.\nInstead of checking \"is this a list?\", you might check \"can I iterate over this?\" <br>\niter() and isiterable() <br>\nThe iter() function attempts to create an iterator from an object. If it succeeds, the object is iterable. If it throws a TypeError, the object is not iterable.\nThe provided isiterable() function demonstrates duck typing. It checks if an object is iterable without caring about its exact type.",
      "metadata": {}
    },
    {
      "id": "742b6e73-6649-4fe3-88ab-b33b693a41fa",
      "cell_type": "code",
      "source": "def isiterable(obj):\n    try:\n        iter(obj)\n        return True\n    except TypeError:\n        return False\n\nprint(isiterable(\"abc\"))  \nprint(isiterable([1, 2, 3]))  \nprint(isiterable(5)) ",
      "metadata": {
        "trusted": true
      },
      "outputs": [
        {
          "name": "stdout",
          "output_type": "stream",
          "text": "True\nTrue\nFalse\n"
        }
      ],
      "execution_count": 14
    },
    {
      "id": "7659a72a-4274-4e96-8c89-e1c4a4439c2e",
      "cell_type": "markdown",
      "source": "<h2>Arithmetic Operations:</h2> <br>\nThese are standard mathematical operations.\n/ performs floating-point division.\n// performs floor division (integer division that discards the remainder).\n** raises a number to a power.\nBitwise Operations:\nThese operations work on the binary representation of integers.\n& (AND): Sets a bit to 1 only if both corresponding bits are 1.\n| (OR): Sets a bit to 1 if either corresponding bit is 1.\n^ (XOR): Sets a bit to 1 if the corresponding bits are different.\nBoolean Operations:\nThese operations work with True and False values.\nand: Returns True only if both operands are True.\nor: Returns True if at least one operand is True.\n^ (XOR): Returns True if the operands are different.",
      "metadata": {}
    },
    {
      "id": "ae0f68c2-b8b1-4daf-a66f-ae2b38c8d4a8",
      "cell_type": "code",
      "source": "a = 10\nb = 3\nc = True\nd = False\n\n# Arithmetic Operations\nprint(f\"a + b: {a + b}\")       \nprint(f\"a - b: {a - b}\")     \nprint(f\"a * b: {a * b}\")       \nprint(f\"a / b: {a / b}\")       \nprint(f\"a // b: {a // b}\")    \nprint(f\"a ** b: {a ** b}\")     \n\n# Bitwise Operations (on integers)\nprint(f\"a & b: {a & b}\")      \nprint(f\"a | b: {a | b}\")      \nprint(f\"a ^ b: {a ^ b}\")      \n# Boolean Operations\nprint(f\"c and d: {c and d}\")  \nprint(f\"c or d: {c or d}\")\nprint(f\"c ^ d: {c ^ d}\")  ",
      "metadata": {
        "trusted": true
      },
      "outputs": [
        {
          "name": "stdout",
          "output_type": "stream",
          "text": "a + b: 13\na - b: 7\na * b: 30\na / b: 3.3333333333333335\na // b: 3\na ** b: 1000\na & b: 2\na | b: 11\na ^ b: 9\nc and d: False\nc or d: True\nc ^ d: True\n"
        }
      ],
      "execution_count": 15
    },
    {
      "id": "975eff54-1078-43fe-b8c8-a5673edb3135",
      "cell_type": "markdown",
      "source": "<h2>Scalar Types</h2>\n\nDefinition:\nScalar types represent single values, such as numbers, strings, or booleans.\n<h3>Key Scalar Types:</h3> <br>\nNone: Represents the null value.\nstr: Unicode strings.\nbytes: Raw ASCII bytes.\nfloat: Double-precision floating-point numbers.\nbool: True or False.\nint: Arbitrary-precision integers. <br>\n\n<h3>Numeric Types (int and float)</h3>\n\nint: Can store very large integers.\nfloat: Represents floating-point numbers (decimals).\nInteger division (/) always results in a float.\nFloor division (//) performs integer division, discarding the fractional part.\n\n<h3> Strings (str)</h3>\n\nStrings are immutable sequences of Unicode characters.\nThey can be enclosed in single ('...') or double quotes (\"...\").\nTriple quotes ('''...''' or \"\"\"...\"\"\") are used for multiline strings.\nString slicing (s[:3]) allows you to extract substrings.\nThe backslash (\\) is an escape character.\nRaw strings (r'...') treat backslashes as literal characters.\nThe str() function converts other objects to strings.\nString formatting with .format():\nAllows you to insert values into strings with specific formatting.\nUnicode and Bytes\nModern Python uses Unicode for strings.\nencode() converts Unicode strings to bytes.\ndecode() converts bytes back to Unicode strings.\n<h3>Booleans (bool)</h3>\n\nRepresent True or False values.\nUsed in comparisons and conditional expressions.\nCombined with and and or operators.\n<h3>Booleans (bool)</h3>\n\nstr(), bool(), int(), and float() can be used to convert values to different types.\n<h3>None</h3>\n\nRepresents the null value.\nReturned by functions that don't explicitly return a value.\nUsed as a default value for function arguments.\n\n<h3>Dates and Times (datetime module)</h3>\n\nThe datetime module provides datetime, date, and time types.\ndatetime: Combines date and time information.\nstrftime(): Formats a datetime object as a string.\nstrptime(): Parses a string into a datetime object.\ntimedelta: Represents the difference between two datetime objects.\nreplace(): creates a new datetime object with replaced values.",
      "metadata": {}
    },
    {
      "id": "bb63f80e-0ac8-4e13-b3dc-2ac30ccae20e",
      "cell_type": "code",
      "source": "print(10 // 3)",
      "metadata": {
        "trusted": true
      },
      "outputs": [
        {
          "name": "stdout",
          "output_type": "stream",
          "text": "3\n"
        }
      ],
      "execution_count": 24
    },
    {
      "id": "41ea9072-18a7-45b3-a99c-e671aebbb878",
      "cell_type": "code",
      "source": "print(\"hello\".upper())",
      "metadata": {
        "trusted": true
      },
      "outputs": [
        {
          "name": "stdout",
          "output_type": "stream",
          "text": "HELLO\n"
        }
      ],
      "execution_count": 17
    },
    {
      "id": "6f00c028-45ef-4714-aa15-1e80a90371c3",
      "cell_type": "code",
      "source": "print(\"español\".encode(\"utf-8\"))",
      "metadata": {
        "trusted": true
      },
      "outputs": [
        {
          "name": "stdout",
          "output_type": "stream",
          "text": "b'espa\\xc3\\xb1ol'\n"
        }
      ],
      "execution_count": 18
    },
    {
      "id": "d164a577-7ea8-47f9-893b-b30add8c3f70",
      "cell_type": "code",
      "source": "print(True and False)",
      "metadata": {
        "trusted": true
      },
      "outputs": [
        {
          "name": "stdout",
          "output_type": "stream",
          "text": "False\n"
        }
      ],
      "execution_count": 19
    },
    {
      "id": "419a0d0a-1e4e-4efa-979d-8e50af41ffc6",
      "cell_type": "code",
      "source": "print(int(\"123\"))",
      "metadata": {
        "trusted": true
      },
      "outputs": [
        {
          "name": "stdout",
          "output_type": "stream",
          "text": "123\n"
        }
      ],
      "execution_count": 20
    },
    {
      "id": "48c9393d-2247-4732-8308-7bf76b81d735",
      "cell_type": "code",
      "source": "def my_func():\n  pass\nprint(my_func() is None)",
      "metadata": {
        "trusted": true
      },
      "outputs": [
        {
          "name": "stdout",
          "output_type": "stream",
          "text": "True\n"
        }
      ],
      "execution_count": 21
    },
    {
      "id": "557e5345-d4a3-4968-8e3c-7e98bbee0bbe",
      "cell_type": "code",
      "source": "from datetime import datetime\nprint(datetime.now().strftime(\"%Y-%m-%d\"))",
      "metadata": {
        "trusted": true
      },
      "outputs": [
        {
          "name": "stdout",
          "output_type": "stream",
          "text": "2025-04-07\n"
        }
      ],
      "execution_count": 23
    },
    {
      "id": "98b5000a-7594-4ae9-b762-85a0ac450867",
      "cell_type": "code",
      "source": "from datetime import datetime, timedelta\ndt = datetime(2023, 10, 27, 10, 30)\nprint(dt.strftime(\"%Y-%m-%d %H:%M\"))\ndt2 = dt + timedelta(days=1)\nprint(dt2.strftime(\"%Y-%m-%d %H:%M\"))",
      "metadata": {
        "trusted": true
      },
      "outputs": [
        {
          "name": "stdout",
          "output_type": "stream",
          "text": "2023-10-27 10:30\n2023-10-28 10:30\n"
        }
      ],
      "execution_count": 35
    },
    {
      "id": "1e87ea0b-3755-451d-8e65-cccd2e7bbfcd",
      "cell_type": "markdown",
      "source": "<h2>Control Loops</h2>\n<h3>1. if, elif, and else Statements </h3><br>\nThese statements allow you to execute different blocks of code based on conditions. <br>\nif checks the initial condition.<br>\nelif checks additional conditions if the previous if or elif conditions were false.<br>\nelse executes if none of the preceding conditions are true.<br>",
      "metadata": {}
    },
    {
      "id": "8984dc3f-95db-4666-9f56-272a92c28c8f",
      "cell_type": "code",
      "source": "x = 10\nif x < 0:\n    print(\"x is negative\")\nelif x == 0:\n    print(\"x is zero\")\nelse:\n    print(\"x is positive\")",
      "metadata": {
        "trusted": true
      },
      "outputs": [
        {
          "name": "stdout",
          "output_type": "stream",
          "text": "x is positive\n"
        }
      ],
      "execution_count": 25
    },
    {
      "id": "e8fe1f9f-09c6-4441-ba05-1da8fb428a05",
      "cell_type": "markdown",
      "source": "<h3>2.for Loops</h3>\n\nExplanation:\nfor loops iterate over a sequence (like a list, tuple, or string) or any iterable object.",
      "metadata": {}
    },
    {
      "id": "e45ba189-0112-432b-bb35-23d0737eb2b0",
      "cell_type": "code",
      "source": "numbers = [1, 2, 3, 4, 5]\nfor number in numbers:\n    print(number)",
      "metadata": {
        "trusted": true
      },
      "outputs": [
        {
          "name": "stdout",
          "output_type": "stream",
          "text": "1\n2\n3\n4\n5\n"
        }
      ],
      "execution_count": 26
    },
    {
      "id": "28ffea75-2602-4162-b48f-e02fccd74ee4",
      "cell_type": "markdown",
      "source": "continue: Skips the rest of the current iteration",
      "metadata": {}
    },
    {
      "id": "add47837-d166-497e-a17c-8a512583ed20",
      "cell_type": "code",
      "source": "numbers = [1, 2, None, 4, 5]\nfor num in numbers:\n    if num is None:\n        continue\n    print(num)",
      "metadata": {
        "trusted": true
      },
      "outputs": [
        {
          "name": "stdout",
          "output_type": "stream",
          "text": "1\n2\n4\n5\n"
        }
      ],
      "execution_count": 27
    },
    {
      "id": "f53e4118-73fd-41e5-8d1c-3c6cc9970c94",
      "cell_type": "markdown",
      "source": "break: Exits the loop entirely",
      "metadata": {}
    },
    {
      "id": "4f19a886-6db4-4aee-8ac0-61b5168289ff",
      "cell_type": "code",
      "source": "numbers = [1, 2, 3, 4, 5]\nfor num in numbers:\n    if num == 3:\n        break\n    print(num)",
      "metadata": {
        "trusted": true
      },
      "outputs": [
        {
          "name": "stdout",
          "output_type": "stream",
          "text": "1\n2\n"
        }
      ],
      "execution_count": 29
    },
    {
      "id": "33fcac35-d09c-491d-941e-38a914a0bfad",
      "cell_type": "markdown",
      "source": "<h3>while Loops</h3>\n\nExplanation:\nwhile loops execute a block of code as long as a condition is true.",
      "metadata": {}
    },
    {
      "id": "ffe6c777-19c0-4a0e-930a-470c11a52e7c",
      "cell_type": "code",
      "source": "count = 0\nwhile count < 5:\n    print(count)\n    count += 1",
      "metadata": {
        "trusted": true
      },
      "outputs": [
        {
          "name": "stdout",
          "output_type": "stream",
          "text": "0\n1\n2\n3\n4\n"
        }
      ],
      "execution_count": 30
    },
    {
      "id": "e12698d3-a4d1-4f07-b3d2-c11adbd23337",
      "cell_type": "markdown",
      "source": "pass: A placeholder that does nothing",
      "metadata": {}
    },
    {
      "id": "b2ce2b1a-9a99-466c-9868-45e12c048396",
      "cell_type": "code",
      "source": "x = 0\nif x < 0:\n    pass  # Placeholder\nelse:\n    print(\"x is not negative\")",
      "metadata": {
        "trusted": true
      },
      "outputs": [
        {
          "name": "stdout",
          "output_type": "stream",
          "text": "x is not negative\n"
        }
      ],
      "execution_count": 31
    },
    {
      "id": "d3882e40-f25c-438e-940e-d756c42b20d1",
      "cell_type": "markdown",
      "source": "<h3>4. range() Function </h3>\n\nExplanation:\nrange() generates a sequence of numbers.\nrange(start,stop.step)",
      "metadata": {}
    },
    {
      "id": "931936a8-f10f-4923-b4dc-c5e659c91901",
      "cell_type": "code",
      "source": "for i in range(5):\n    print(i) \n\nprint(list(range(2, 10, 2)))",
      "metadata": {
        "trusted": true
      },
      "outputs": [
        {
          "name": "stdout",
          "output_type": "stream",
          "text": "0\n1\n2\n3\n4\n[2, 4, 6, 8]\n"
        }
      ],
      "execution_count": 33
    },
    {
      "id": "8fbbf4a4-f74d-4cdc-adb3-ea3202a67ab4",
      "cell_type": "markdown",
      "source": "<h3>5. Ternary Expressions</h3>\n\nExplanation:\nA concise way to write an if-else statement in a single line.\n",
      "metadata": {}
    },
    {
      "id": "f2d8add2-cfab-460e-9895-074dd563792b",
      "cell_type": "code",
      "source": "x = 10\nresult = \"positive\" if x > 0 else \"non-positive\"\nprint(result) ",
      "metadata": {
        "trusted": true
      },
      "outputs": [
        {
          "name": "stdout",
          "output_type": "stream",
          "text": "positive\n"
        }
      ],
      "execution_count": 34
    },
    {
      "id": "e1f9b0f0-d394-47d0-8d31-76052ed5d82e",
      "cell_type": "markdown",
      "source": "<h2>Data Structures and Sequences</h2>",
      "metadata": {}
    },
    {
      "id": "06236d3e-ba81-4d4c-9c92-0ea57954944b",
      "cell_type": "markdown",
      "source": "<h3>Tuples: Immutable Sequences </h3>",
      "metadata": {}
    },
    {
      "id": "0f519561-2932-48ce-b0fa-f7827e2b01e9",
      "cell_type": "markdown",
      "source": "Definition:\nTuples are ordered, immutable collections of Python objects.\n\"Immutable\" means you cannot change their contents after creation.\nThey are defined using comma-separated values, often enclosed in parentheses. <br>\nCreation:\nDirectly: tup = 4, 5, 6 or tup = (4, 5, 6)\nNested tuples: nested_tup = (4, 5, 6), (7, 8)\nFrom other sequences: tuple([4, 0, 2]), tuple('string') <br>\nAccessing Elements:\nUse square brackets with zero-based indexing: tup[0]<br>\nImmutability:\nYou cannot assign new values to tuple slots: tup[2] = False (TypeError).\nHowever, if a tuple contains mutable objects (like lists), those objects can be modified in-place: tup[1].append(3). <br>\nConcatenation:\nUse the + operator to create new, longer tuples: (4, None, 'foo') + (6, 0) + ('bar',) <br>\nMultiplication:\nUse the * operator to create a new tuple that repeats the original tuple. ('foo', 'bar') * 4 <br>",
      "metadata": {}
    },
    {
      "id": "bc0f553e-7e26-47b0-bc40-cb190a58746f",
      "cell_type": "code",
      "source": "tup = 4, 5, 6\nprint(tup) ",
      "metadata": {
        "trusted": true
      },
      "outputs": [
        {
          "name": "stdout",
          "output_type": "stream",
          "text": "(4, 5, 6)\n"
        }
      ],
      "execution_count": 36
    },
    {
      "id": "43b4e566-39a2-44de-b215-e2299d2cc286",
      "cell_type": "code",
      "source": "nested_tup = (4, 5, 6), (7, 8)\nprint(nested_tup)",
      "metadata": {
        "trusted": true
      },
      "outputs": [
        {
          "name": "stdout",
          "output_type": "stream",
          "text": "((4, 5, 6), (7, 8))\n"
        }
      ],
      "execution_count": 37
    },
    {
      "id": "08d13a84-1622-4161-9a04-354b41fc6958",
      "cell_type": "code",
      "source": "my_tuple = tuple([1, 2, 3])\nprint(my_tuple)\nprint(my_tuple[1])",
      "metadata": {
        "trusted": true
      },
      "outputs": [
        {
          "name": "stdout",
          "output_type": "stream",
          "text": "(1, 2, 3)\n2\n"
        }
      ],
      "execution_count": 40
    },
    {
      "id": "6e8045e2-5e79-49c6-8aa4-17e2d7c6b922",
      "cell_type": "code",
      "source": "mutable_tuple = tuple(['foo', [1, 2], True])\nmutable_tuple[1].append(3)\nprint(mutable_tuple) ",
      "metadata": {
        "trusted": true
      },
      "outputs": [
        {
          "name": "stdout",
          "output_type": "stream",
          "text": "('foo', [1, 2, 3], True)\n"
        }
      ],
      "execution_count": 41
    },
    {
      "id": "a1f7cb6c-dcc4-45c8-97b7-2a3a4099afdf",
      "cell_type": "code",
      "source": "concatenated_tuple = (1, 2) + (3, 4)\nprint(concatenated_tuple)",
      "metadata": {
        "trusted": true
      },
      "outputs": [
        {
          "name": "stdout",
          "output_type": "stream",
          "text": "(1, 2, 3, 4)\n"
        }
      ],
      "execution_count": 42
    },
    {
      "id": "eeedfc0a-0ff1-4f6b-900d-e86f1f794652",
      "cell_type": "code",
      "source": "repeated_tuple = ('a','b')*2\nprint(repeated_tuple)",
      "metadata": {
        "trusted": true
      },
      "outputs": [
        {
          "name": "stdout",
          "output_type": "stream",
          "text": "('a', 'b', 'a', 'b')\n"
        }
      ],
      "execution_count": 43
    },
    {
      "id": "e75d6326-d548-45e4-91f3-e3ae851627c4",
      "cell_type": "markdown",
      "source": "<h3>Unpacking Tuple</h3>",
      "metadata": {}
    },
    {
      "id": "68315000-614d-4d08-b62f-c0ce45c614aa",
      "cell_type": "code",
      "source": "tup = (1, 2, 3)\na, b, c = tup\nprint(b) ",
      "metadata": {
        "trusted": true
      },
      "outputs": [
        {
          "name": "stdout",
          "output_type": "stream",
          "text": "2\n"
        }
      ],
      "execution_count": 44
    },
    {
      "id": "91d47bd7-a023-445c-af21-3a3e2528be2e",
      "cell_type": "code",
      "source": "nested_tup = 1, 2, (3, 4)\na, b, (c, d) = nested_tup\nprint(d)",
      "metadata": {
        "trusted": true
      },
      "outputs": [
        {
          "name": "stdout",
          "output_type": "stream",
          "text": "4\n"
        }
      ],
      "execution_count": 45
    },
    {
      "id": "bd8493e7-76a9-41c6-b86c-72b07194a8ac",
      "cell_type": "markdown",
      "source": "Swapping Variables",
      "metadata": {}
    },
    {
      "id": "3aede8c8-9eb3-45d1-849c-0ae9c6b94150",
      "cell_type": "code",
      "source": "a, b = 1, 2\na, b = b, a\nprint(a, b)",
      "metadata": {
        "trusted": true
      },
      "outputs": [
        {
          "name": "stdout",
          "output_type": "stream",
          "text": "2 1\n"
        }
      ],
      "execution_count": 46
    },
    {
      "id": "2695defe-3dcb-445a-a52e-a30f4b05833d",
      "cell_type": "markdown",
      "source": "Iterating with Unpacking",
      "metadata": {}
    },
    {
      "id": "f08befb1-1ecd-4231-b0b6-372cd42e8808",
      "cell_type": "code",
      "source": "seq = [(1, 2, 3), (4, 5, 6)]\nfor x, y, z in seq:\n    print(f\"x={x}, y={y}, z={z}\")",
      "metadata": {
        "trusted": true
      },
      "outputs": [
        {
          "name": "stdout",
          "output_type": "stream",
          "text": "x=1, y=2, z=3\nx=4, y=5, z=6\n"
        }
      ],
      "execution_count": 47
    },
    {
      "id": "cc711e5f-e005-4535-9af2-3775c5355f54",
      "cell_type": "markdown",
      "source": "*rest Syntax:\nCollects remaining elements into a list: a, b, *rest = values\n*_ discards unwanted elements.",
      "metadata": {}
    },
    {
      "id": "b16f099a-39c4-43be-8b52-de337042cca6",
      "cell_type": "code",
      "source": "values = 1, 2, 3, 4, 5\na, b, *rest = values\nprint(rest)  \n\na, b, *_ = values\nprint(values)",
      "metadata": {
        "trusted": true
      },
      "outputs": [
        {
          "name": "stdout",
          "output_type": "stream",
          "text": "[3, 4, 5]\n(1, 2, 3, 4, 5)\n"
        }
      ],
      "execution_count": 49
    },
    {
      "id": "c46878d7-0097-49a5-b2d9-62660e88288e",
      "cell_type": "markdown",
      "source": "<h3> Tuple Methods</h3>\n\ncount(value):\nReturns the number of occurrences of a value in the tuple.",
      "metadata": {}
    },
    {
      "id": "205511e1-f0ff-4394-aaba-d7cf0e7d9246",
      "cell_type": "code",
      "source": "a = (1, 2, 2, 2, 3, 4, 2)\nprint(a.count(2)) ",
      "metadata": {
        "trusted": true
      },
      "outputs": [
        {
          "name": "stdout",
          "output_type": "stream",
          "text": "4\n"
        }
      ],
      "execution_count": 50
    },
    {
      "id": "5db89632-6ae9-40ed-a85e-124234ea7ea7",
      "cell_type": "markdown",
      "source": "<h3>Lists: Mutable Sequences</h3>",
      "metadata": {}
    },
    {
      "id": "d68da82b-4197-433e-a9cd-50d1f5f0d407",
      "cell_type": "markdown",
      "source": "Definition:\nLists are ordered, mutable collections of Python objects.\n\"Mutable\" means their contents can be changed after creation.\nThey are defined using square brackets [] or the list() constructor.\nCreation:\nDirectly: a_list = [2, 3, 7, None]\nFrom other sequences: b_list = list(tup)\nMutability:\nElements can be modified in-place: b_list[1] = 'peekaboo'\nList from range:\nlist(range(10))",
      "metadata": {}
    },
    {
      "id": "eec3f7fb-cd1c-49cd-babe-0e89fbb31319",
      "cell_type": "code",
      "source": "a_list = [1, 2, 3, 4]\nprint(a_list)",
      "metadata": {
        "trusted": true
      },
      "outputs": [
        {
          "name": "stdout",
          "output_type": "stream",
          "text": "[1, 2, 3, 4]\n"
        }
      ],
      "execution_count": 51
    },
    {
      "id": "6f1dd9f6-c224-491d-8dac-a58d09c2d476",
      "cell_type": "code",
      "source": "my_tuple = ('a', 'b', 'c')\nb_list = list(my_tuple)\nprint(b_list)",
      "metadata": {
        "trusted": true
      },
      "outputs": [
        {
          "name": "stdout",
          "output_type": "stream",
          "text": "['a', 'b', 'c']\n"
        }
      ],
      "execution_count": 52
    },
    {
      "id": "628804a7-3efb-4320-84ca-c5d06a463c01",
      "cell_type": "code",
      "source": "b_list[1] = 'x'\nprint(b_list)",
      "metadata": {
        "trusted": true
      },
      "outputs": [
        {
          "name": "stdout",
          "output_type": "stream",
          "text": "['a', 'x', 'c']\n"
        }
      ],
      "execution_count": 53
    },
    {
      "id": "6bcd6da1-6c75-4497-b9fb-e602cf41d51f",
      "cell_type": "code",
      "source": "print(list(range(5)))",
      "metadata": {
        "trusted": true
      },
      "outputs": [
        {
          "name": "stdout",
          "output_type": "stream",
          "text": "[0, 1, 2, 3, 4]\n"
        }
      ],
      "execution_count": 54
    },
    {
      "id": "dc168f88-89cb-49ee-ba3e-77dd1f5ab3f1",
      "cell_type": "markdown",
      "source": "<h3>Adding and Removing Elements</h3>\n\nappend(element): Adds an element to the end of the list. <br>\ninsert(index, element): Inserts an element at a specific index. <br>\npop(index): Removes and returns the element at a specific index. <br>\nremove(value): Removes the first occurrence of a value. <br>\nin keyword: Checks if a value exists in the list. <br>\nnot in keyword: checks if a value does not exist in the list.\n",
      "metadata": {}
    },
    {
      "id": "1c94a4ab-347d-4112-b62f-c925d61db3b3",
      "cell_type": "code",
      "source": "my_list = ['a', 'b', 'c']\nmy_list.append('d')\nprint(my_list) ",
      "metadata": {
        "trusted": true
      },
      "outputs": [
        {
          "name": "stdout",
          "output_type": "stream",
          "text": "['a', 'b', 'c', 'd']\n"
        }
      ],
      "execution_count": 55
    },
    {
      "id": "05ec0645-1520-48c0-89da-f909f14c690d",
      "cell_type": "code",
      "source": "my_list.insert(1, 'x')\nprint(my_list) ",
      "metadata": {
        "trusted": true
      },
      "outputs": [
        {
          "name": "stdout",
          "output_type": "stream",
          "text": "['a', 'x', 'b', 'c', 'd']\n"
        }
      ],
      "execution_count": 56
    },
    {
      "id": "ced3d56b-6e38-4f45-bce7-01eac9495321",
      "cell_type": "code",
      "source": "removed_element = my_list.pop(2)\nprint(removed_element) \nprint(my_list)",
      "metadata": {
        "trusted": true
      },
      "outputs": [
        {
          "name": "stdout",
          "output_type": "stream",
          "text": "b\n['a', 'x', 'c', 'd']\n"
        }
      ],
      "execution_count": 57
    },
    {
      "id": "e23ea516-906b-47d2-9f5b-01fdc9a3c25b",
      "cell_type": "code",
      "source": "my_list.remove('x')\nprint(my_list)",
      "metadata": {
        "trusted": true
      },
      "outputs": [
        {
          "name": "stdout",
          "output_type": "stream",
          "text": "['a', 'c', 'd']\n"
        }
      ],
      "execution_count": 58
    },
    {
      "id": "67823a2f-c6e6-4cb2-91de-a7eae2123c6e",
      "cell_type": "code",
      "source": "print('c' in my_list) \nprint('e' not in my_list)",
      "metadata": {
        "trusted": true
      },
      "outputs": [
        {
          "name": "stdout",
          "output_type": "stream",
          "text": "True\nTrue\n"
        }
      ],
      "execution_count": 59
    },
    {
      "id": "829befe7-3521-4c01-a9a3-e98c6bab2fe5",
      "cell_type": "markdown",
      "source": "<h3>Concatenating and Combining Lists</h3>\n\n+operator: Concatenates two lists.\nextend(iterable): Appends multiple elements from an iterable to the list.",
      "metadata": {}
    },
    {
      "id": "28ad18f1-f1c0-447e-a43c-9d3f832b439f",
      "cell_type": "code",
      "source": "list1 = [1, 2, 3]\nlist2 = [4, 5, 6]\ncombined_list = list1 + list2\nprint(combined_list)  \n\nlist1.extend([7, 8, 9])\nprint(list1) ",
      "metadata": {
        "trusted": true
      },
      "outputs": [
        {
          "name": "stdout",
          "output_type": "stream",
          "text": "[1, 2, 3, 4, 5, 6]\n[1, 2, 3, 7, 8, 9]\n"
        }
      ],
      "execution_count": 60
    },
    {
      "id": "9c2aa874-f836-4aba-9b73-20f7e0a950de",
      "cell_type": "markdown",
      "source": "<h3>Sorting</h3>\n\nsort(): Sorts the list in-place.\nsort(key=function): Sorts the list using a custom sorting key.",
      "metadata": {}
    },
    {
      "id": "c45ee1fd-37fd-4176-9767-3b6e4e8a4d84",
      "cell_type": "code",
      "source": "my_list = [3, 1, 4, 2]\nmy_list.sort()\nprint(my_list)  \n\nwords = ['apple', 'banana', 'cherry', 'date']\nwords.sort(key=len)\nprint(words) ",
      "metadata": {
        "trusted": true
      },
      "outputs": [
        {
          "name": "stdout",
          "output_type": "stream",
          "text": "[1, 2, 3, 4]\n['date', 'apple', 'banana', 'cherry']\n"
        }
      ],
      "execution_count": 61
    },
    {
      "id": "f9119c9e-ac40-4efa-9378-c8f66bb06008",
      "cell_type": "markdown",
      "source": "<h3>Binary Search and Maintaining a Sorted List</h3>\n\nbisect.bisect(list, value): Finds the insertion point for a value in a sorted list.\nbisect.insort(list, value): Inserts a value into a sorted list.",
      "metadata": {}
    },
    {
      "id": "a8c67f3b-4490-4557-ac9e-71d3cb9de4b4",
      "cell_type": "code",
      "source": "import bisect\n\nsorted_list = [1, 2, 2, 3, 5]\ninsertion_point = bisect.bisect(sorted_list, 4)\nprint(insertion_point) \n\nbisect.insort(sorted_list, 4)\nprint(sorted_list) ",
      "metadata": {
        "trusted": true
      },
      "outputs": [
        {
          "name": "stdout",
          "output_type": "stream",
          "text": "4\n[1, 2, 2, 3, 4, 5]\n"
        }
      ],
      "execution_count": 62
    },
    {
      "id": "ebc01671-7e0d-4b1d-a186-dc18263f4a15",
      "cell_type": "markdown",
      "source": "<h3>Slicing</h3>\n\nlist[start:stop:step]: Extracts a portion of the list. <br>\nNegative indices slice from the end.<br>\nA step value allows for skipping elements.<br>\n[::-1] reverses a list.",
      "metadata": {}
    },
    {
      "id": "f90fbdfe-bef9-48cf-86db-7579647ce2ba",
      "cell_type": "code",
      "source": "my_list = [0, 1, 2, 3, 4, 5, 6, 7, 8, 9]\nprint(my_list[2:5])  \nprint(my_list[:3])  \nprint(my_list[5:])  \nprint(my_list[-3:]) \nprint(my_list[::2]) \nprint(my_list[::-1])",
      "metadata": {
        "trusted": true
      },
      "outputs": [
        {
          "name": "stdout",
          "output_type": "stream",
          "text": "[2, 3, 4]\n[0, 1, 2]\n[5, 6, 7, 8, 9]\n[7, 8, 9]\n[0, 2, 4, 6, 8]\n[9, 8, 7, 6, 5, 4, 3, 2, 1, 0]\n"
        }
      ],
      "execution_count": 63
    },
    {
      "id": "2b0f99b2-a33b-4ab7-913d-f54a0919c98f",
      "cell_type": "markdown",
      "source": "<h3>sorted()</h3>\n\nExplanation:\nsorted() returns a new sorted list from the elements of any iterable.\nIt does not modify the original sequence.",
      "metadata": {}
    },
    {
      "id": "939e135e-9095-4464-aa34-5afed3084bd8",
      "cell_type": "code",
      "source": "numbers = [3, 1, 4, 1, 5, 9, 2, 6]\nsorted_numbers = sorted(numbers)\nprint(sorted_numbers)  \n\nstring = \"hello\"\nsorted_string = sorted(string)\nprint(sorted_string)",
      "metadata": {
        "trusted": true
      },
      "outputs": [
        {
          "name": "stdout",
          "output_type": "stream",
          "text": "[1, 1, 2, 3, 4, 5, 6, 9]\n['e', 'h', 'l', 'l', 'o']\n"
        }
      ],
      "execution_count": 65
    },
    {
      "id": "72cec23a-206a-4ec6-8af1-fa6a5cdd6193",
      "cell_type": "markdown",
      "source": "<h3>zip()</h3>\n\nExplanation:\nzip() \"pairs\" up elements from multiple iterables and returns an iterator of tuples.\nThe length of the resulting iterator is determined by the shortest input iterable.\nIt can be used to iterate over multiple sequences simultaneously.\n",
      "metadata": {}
    },
    {
      "id": "addbffca-87b5-4a4c-a363-04eb894d5e5d",
      "cell_type": "code",
      "source": "names = ['Alice', 'Bob', 'Charlie']\nages = [25, 30, 28]\nzipped = zip(names, ages)\nprint(list(zipped)) \nfor name, age in zip(names, ages):\n    print(f\"{name} is {age} years old.\")\n\n#unzip\npairs = [('a', 1), ('b', 2), ('c', 3)]\nletters, numbers = zip(*pairs)\nprint(letters) #output: ('a', 'b', 'c')\nprint(numbers) #output: (1, 2, 3)",
      "metadata": {
        "trusted": true
      },
      "outputs": [
        {
          "name": "stdout",
          "output_type": "stream",
          "text": "[('Alice', 25), ('Bob', 30), ('Charlie', 28)]\nAlice is 25 years old.\nBob is 30 years old.\nCharlie is 28 years old.\n('a', 'b', 'c')\n(1, 2, 3)\n"
        }
      ],
      "execution_count": 66
    },
    {
      "id": "d86a4446-fdff-4e42-bd02-51e0c34dae94",
      "cell_type": "markdown",
      "source": "<h3>reversed()</h3>\n\nExplanation:\nreversed() returns a reverse iterator over the elements of a sequence.\nIt does not create a reversed list, but an object that can be iterated over in reverse.",
      "metadata": {}
    },
    {
      "id": "586022b9-9dc7-40df-ba80-ff47346a7e48",
      "cell_type": "code",
      "source": "numbers = [1, 2, 3, 4, 5]\nreversed_numbers = reversed(numbers)\nprint(list(reversed_numbers))",
      "metadata": {
        "trusted": true
      },
      "outputs": [
        {
          "name": "stdout",
          "output_type": "stream",
          "text": "[5, 4, 3, 2, 1]\n"
        }
      ],
      "execution_count": 67
    },
    {
      "id": "b9e297a1-2ad7-46b6-8401-7ce47b821397",
      "cell_type": "markdown",
      "source": "<h3>Dictionaries: Key-Value Pairs</h3>\n\nDefinition:\nDictionaries are unordered, mutable collections of key-value pairs.\nKeys must be immutable (hashable) objects.\nValues can be any Python object. <br>\nCreation:\nUsing curly braces {}: empty_dict = {}, d1 = {'a': 'some value', 'b': [1, 2, 3, 4]} <br>\nAccessing Elements:\nUse square brackets with the key: d1['b'] <br>\nAdding/Modifying Elements:\nUse square brackets to assign a value to a key: d1[7] = 'an integer' <br>\nChecking Key Existence:\nUse the in keyword: 'b' in d1 <br>\nDeleting Elements:\ndel d1[key]\nd1.pop(key) (returns the value and removes the key)<br>\nGetting Keys and Values:\nd1.keys() (returns an iterator of keys)<br>\nd1.values() (returns an iterator of values)<br>\nMerging Dictionaries:\nd1.update(other_dict) (updates d1 with key-value pairs from other_dict)",
      "metadata": {}
    },
    {
      "id": "0b60e369-0e02-48bb-bb0d-7da30a28a20b",
      "cell_type": "code",
      "source": "my_dict = {'apple': 1, 'banana': 2, 'cherry': 3}\nprint(my_dict['banana']) ",
      "metadata": {
        "trusted": true
      },
      "outputs": [
        {
          "name": "stdout",
          "output_type": "stream",
          "text": "2\n"
        }
      ],
      "execution_count": 68
    },
    {
      "id": "0a38948f-5a56-4525-96a1-dd43af2307f1",
      "cell_type": "code",
      "source": "my_dict['date'] = 4\nprint(my_dict) ",
      "metadata": {
        "trusted": true
      },
      "outputs": [
        {
          "name": "stdout",
          "output_type": "stream",
          "text": "{'apple': 1, 'banana': 2, 'cherry': 3, 'date': 4}\n"
        }
      ],
      "execution_count": 69
    },
    {
      "id": "cddce51c-d4da-4915-b367-7465f98114b0",
      "cell_type": "code",
      "source": "print('apple' in my_dict) ",
      "metadata": {
        "trusted": true
      },
      "outputs": [
        {
          "name": "stdout",
          "output_type": "stream",
          "text": "True\n"
        }
      ],
      "execution_count": 70
    },
    {
      "id": "8c6480a7-e758-487a-bf8b-0a5ff665dcea",
      "cell_type": "code",
      "source": "del my_dict['cherry']\nprint(my_dict)",
      "metadata": {
        "trusted": true
      },
      "outputs": [
        {
          "name": "stdout",
          "output_type": "stream",
          "text": "{'apple': 1, 'banana': 2, 'date': 4}\n"
        }
      ],
      "execution_count": 71
    },
    {
      "id": "2fc47bde-cd54-4cfc-a252-8d8d8cff94b9",
      "cell_type": "code",
      "source": "value = my_dict.pop('date')\nprint(value)\nprint(my_dict)",
      "metadata": {
        "trusted": true
      },
      "outputs": [
        {
          "name": "stdout",
          "output_type": "stream",
          "text": "4\n{'apple': 1, 'banana': 2}\n"
        }
      ],
      "execution_count": 72
    },
    {
      "id": "6597a2e7-8911-4392-b0a2-45c41e7574c9",
      "cell_type": "code",
      "source": "print(list(my_dict.keys()))  \nprint(list(my_dict.values()))",
      "metadata": {
        "trusted": true
      },
      "outputs": [
        {
          "name": "stdout",
          "output_type": "stream",
          "text": "['apple', 'banana', 'elderberry']\n[1, 5, 6]\n"
        }
      ],
      "execution_count": 75
    },
    {
      "id": "9c33a93e-36cf-4318-b8ee-e3a4db63d906",
      "cell_type": "code",
      "source": "my_dict.update({'banana': 5, 'elderberry': 6})\nprint(my_dict)",
      "metadata": {
        "trusted": true
      },
      "outputs": [
        {
          "name": "stdout",
          "output_type": "stream",
          "text": "{'apple': 1, 'banana': 5, 'elderberry': 6}\n"
        }
      ],
      "execution_count": 74
    },
    {
      "id": "19222bc5-54b7-4494-96ff-a228b1d1f2b3",
      "cell_type": "markdown",
      "source": "<h3>Creating Dictionaries from Sequences</h3>\n\nUsing zip() and dict():\nmapping = dict(zip(keys, values))",
      "metadata": {}
    },
    {
      "id": "5edd33e9-6d2d-4d03-b13b-691fae99f5a8",
      "cell_type": "code",
      "source": "keys = ['a', 'b', 'c']\nvalues = [1, 2, 3]\nmapping = dict(zip(keys, values))\nprint(mapping) ",
      "metadata": {
        "trusted": true
      },
      "outputs": [
        {
          "name": "stdout",
          "output_type": "stream",
          "text": "{'a': 1, 'b': 2, 'c': 3}\n"
        }
      ],
      "execution_count": 76
    },
    {
      "id": "452940df-1440-49db-828a-0870e2abdebb",
      "cell_type": "markdown",
      "source": "<h3> Valid Dictionary Key Types</h3>\n\n<h4>Hashability:</h4>\nKeys must be hashable, meaning they are immutable.\nExamples: integers, floats, strings, tuples (if all elements are immutable).\nhash(object):\nReturns the hash value of an object.\nRaises TypeError if the object is not hashable.",
      "metadata": {}
    },
    {
      "id": "eb12f622-50a1-4fe0-8446-e042158a9d9a",
      "cell_type": "code",
      "source": "print(hash('string'))\n\nprint(hash((1, 2, (3, 4))))\n\n#hash([1,2]) #this will cause an error because lists are not hashable.\n\nmy_dict = {}\nmy_dict[tuple([1, 2, 3])] = 5\nprint(my_dict)",
      "metadata": {
        "trusted": true
      },
      "outputs": [
        {
          "name": "stdout",
          "output_type": "stream",
          "text": "-621840566\n-2112154190\n{(1, 2, 3): 5}\n"
        }
      ],
      "execution_count": 77
    },
    {
      "id": "76b99ce4-2169-40a4-b5b5-9d31720390e6",
      "cell_type": "markdown",
      "source": "<h2>Function Definition and Usage</h2>\n\nDefinition:\nFunctions are defined using the def keyword.\nThey can have positional and keyword arguments.\nThey return values using the return keyword.\nIf no return statement is encountered, None is returned.",
      "metadata": {}
    },
    {
      "id": "a35ccb2e-db15-47a4-b8fb-8ca7858caa12",
      "cell_type": "code",
      "source": "def my_function(x, y, z=1.5):\n    if z > 1:\n        return z * (x + y)\n    else:\n        return z / (x + y)\n\nprint(my_function(5, 6, z=0.7))\nprint(my_function(3.14, 7, 3.5))\nprint(my_function(10, 20))",
      "metadata": {
        "trusted": true
      },
      "outputs": [
        {
          "name": "stdout",
          "output_type": "stream",
          "text": "0.06363636363636363\n35.49\n45.0\n"
        }
      ],
      "execution_count": 78
    },
    {
      "id": "7d61d077-67d4-498a-a844-493d174ef81d",
      "cell_type": "markdown",
      "source": "<h3>Namespaces, Scope, and Local Functions</h3>\n\nNamespaces:\nNamespaces are scopes where variables are defined.\nVariables defined within a function are local to that function's namespace.\nVariables defined outside any function are in the global namespace.\nGlobal Variables:\nThe global keyword is used to declare that a variable within a function refers to a global variable.",
      "metadata": {}
    },
    {
      "id": "f844ebe5-807d-472b-ac92-63b91b901aa5",
      "cell_type": "markdown",
      "source": "<h3>Returning Multiple Values</h3>\n\nTuples:\nPython functions can return multiple values by returning a tuple.\nThe tuple can then be unpacked into multiple variables. <br>\nDictionaries:\nReturning a dictionary can be beneficial for returning labeled data.",
      "metadata": {}
    },
    {
      "id": "f8ca758f-c492-4d75-a674-4f40068b51c9",
      "cell_type": "code",
      "source": "def f():\n    a = 5\n    b = 6\n    c = 7\n    return a, b, c\n\nx, y, z = f()\nprint(x, y, z) \n\nreturn_value = f()\nprint(return_value) \n\ndef f_dict():\n    a = 5\n    b = 6\n    c = 7\n    return {'a': a, 'b': b, 'c': c}\n\nprint(f_dict())",
      "metadata": {
        "trusted": true
      },
      "outputs": [
        {
          "name": "stdout",
          "output_type": "stream",
          "text": "5 6 7\n(5, 6, 7)\n{'a': 5, 'b': 6, 'c': 7}\n"
        }
      ],
      "execution_count": 79
    },
    {
      "id": "81ae75ba-3809-40cc-bad3-6059ff11507f",
      "cell_type": "markdown",
      "source": "<h3>Functions Are Objects</h3>\n\nFunction as Arguments:\nFunctions can be passed as arguments to other functions.",
      "metadata": {}
    },
    {
      "id": "9f89c292-dd36-4fcb-b8ae-24eae985d5ed",
      "cell_type": "code",
      "source": "def greet(name):\n  \"\"\"Returns a greeting string.\"\"\"\n  return \"Hello, \" + name + \"!\"\n\ndef use_greeting(greeting_func, person_name):\n  \"\"\"Uses a greeting function to greet a person.\"\"\"\n  return greeting_func(person_name)\n\nmy_name = \"Alice\"\ngreeting_message = use_greeting(greet, my_name) #greet is passed as an object.\n\nprint(greeting_message)",
      "metadata": {
        "trusted": true
      },
      "outputs": [
        {
          "name": "stdout",
          "output_type": "stream",
          "text": "Hello, Alice!\n"
        }
      ],
      "execution_count": 80
    },
    {
      "id": "6990e110-3760-4800-af3b-ecc9094417e7",
      "cell_type": "markdown",
      "source": "<h3>Anonymous (Lambda) Functions</h3>\n\nDefinition:\nLambda functions are small, anonymous functions defined using the lambda keyword.\nThey consist of a single expression, and their result is implicitly returned.",
      "metadata": {}
    },
    {
      "id": "421bb23b-ea6c-4805-be6f-b32e22a384d5",
      "cell_type": "code",
      "source": "def apply_to_list(some_list, f):\n    return [f(x) for x in some_list]\n\nints = [4, 0, 1, 5, 6]\nprint(apply_to_list(ints, lambda x: x * 2))  \n\nstrings = ['foo', 'card', 'bar', 'aaaa', 'abab']\nstrings.sort(key=lambda x: len(set(list(x))))\nprint(strings)",
      "metadata": {
        "trusted": true
      },
      "outputs": [
        {
          "name": "stdout",
          "output_type": "stream",
          "text": "[8, 0, 2, 10, 12]\n['aaaa', 'foo', 'abab', 'bar', 'card']\n"
        }
      ],
      "execution_count": 81
    },
    {
      "id": "0ca6ba4f-5ce3-4bbb-9128-41bbcb90c42c",
      "cell_type": "markdown",
      "source": "<h3>Currying: Partial Argument Application</h3>\n\nDefinition:\nCurrying involves creating new functions from existing ones by partially applying arguments.\nThe functools.partial function can simplify this.",
      "metadata": {}
    },
    {
      "id": "9b5a2dd2-98e2-49ce-a54b-31d5039884cc",
      "cell_type": "code",
      "source": "def add_numbers(x, y):\n return x + y\n \nadd_five = lambda y: add_numbers(5, y)\nprint(add_numbers(5,6))",
      "metadata": {
        "trusted": true
      },
      "outputs": [
        {
          "name": "stdout",
          "output_type": "stream",
          "text": "11\n"
        }
      ],
      "execution_count": 86
    },
    {
      "id": "a4cf97c4-dbdd-4a0c-b0ce-49209f19c8ac",
      "cell_type": "code",
      "source": "from functools import partial\n\ndef add_numbers(x, y):\n    return x + y\n\nadd_five = partial(add_numbers, 5)\nprint(add_five(10)) ",
      "metadata": {
        "trusted": true
      },
      "outputs": [
        {
          "name": "stdout",
          "output_type": "stream",
          "text": "15\n"
        }
      ],
      "execution_count": 82
    },
    {
      "id": "5caacde0-7fc9-479c-ba51-e9bbc19df598",
      "cell_type": "markdown",
      "source": "<h3>Generators</h3>\n\nIterators:\nIterators are objects that produce a sequence of values when used in a loop (like a for loop).\nThe iter() function creates an iterator from an iterable object.\nGenerators:\nGenerators are functions that use the yield keyword to produce a sequence of values lazily (on demand).\nThey pause execution and remember their state between calls to yield.\nThey are memory-efficient for large sequences.\nGenerator Expressions:\nGenerator expressions are a concise way to create generators, similar to list comprehensions but with parentheses ().\nitertools Module:\nThe itertools module provides a collection of efficient generators for common data algorithms.",
      "metadata": {}
    },
    {
      "id": "77195719-a106-45a5-aca1-3182f1962330",
      "cell_type": "code",
      "source": "# Generator function\ndef squares(n=10):\n    print(f\"Generating squares from 1 to {n**2}\")\n    for i in range(1, n + 1):\n        yield i**2\n\ngen = squares()  # No code is executed yet\n\nfor x in gen:\n    print(x, end=\" \")\n\n# Generator expression\ngen_exp = (x**2 for x in range(100))\nprint(sum(gen_exp))\n\n#itertools example\nimport itertools\n\nfirst_letter = lambda x: x[0]\nnames = [\"Alan\", \"Adam\", \"Wes\", \"Will\", \"Albert\", \"Steven\"]\n\nfor letter, names in itertools.groupby(names, first_letter):\n    print(letter, list(names))",
      "metadata": {
        "trusted": true
      },
      "outputs": [
        {
          "name": "stdout",
          "output_type": "stream",
          "text": "Generating squares from 1 to 100\n1 4 9 16 25 36 49 64 81 100 328350\nA ['Alan', 'Adam']\nW ['Wes', 'Will']\nA ['Albert']\nS ['Steven']\n"
        }
      ],
      "execution_count": 87
    },
    {
      "id": "c74db6fa-e7c7-434c-b41a-2780a67418b8",
      "cell_type": "code",
      "source": "def get_numbers():\n    yield 1\n    yield 2\n    yield 3\ngen = get_numbers()\n\nprint(next(gen)) \nprint(next(gen)) \nprint(next(gen))  \n",
      "metadata": {
        "trusted": true
      },
      "outputs": [
        {
          "name": "stdout",
          "output_type": "stream",
          "text": "1\n2\n3\n"
        }
      ],
      "execution_count": 3
    },
    {
      "id": "44c63877-1bea-498f-b2df-adb70f43f2ba",
      "cell_type": "markdown",
      "source": "<h3>Errors and Exception Handling</h3>\n\ntry...except Blocks:\nThe try block contains code that might raise an exception.\nThe except block handles the exception if it occurs.<br>\nHandling Specific Exceptions:\nYou can catch specific exception types (e.g., ValueError, TypeError).<br>\nfinally Block:\nThe finally block contains code that is always executed, regardless of whether an exception occurred.<br>\nelse Block:\nThe else block contains code that is executed if no exception occured in the try block.",
      "metadata": {}
    },
    {
      "id": "6ebafbbc-3e2e-40ef-9d36-78f248f193ee",
      "cell_type": "code",
      "source": "def attempt_float(x):\n    try:\n        return float(x)\n    except ValueError:\n        return x\n    except TypeError:\n        return None\n\nprint(attempt_float(\"1.23\"))\nprint(attempt_float(\"hello\"))\nprint(attempt_float((1,2)))\n",
      "metadata": {
        "trusted": true
      },
      "outputs": [
        {
          "name": "stdout",
          "output_type": "stream",
          "text": "1.23\nhello\nNone\n"
        }
      ],
      "execution_count": 89
    },
    {
      "id": "bd42ef4d-0f0c-403f-a253-b57bf60b2085",
      "cell_type": "code",
      "source": "def divide(x, y):\n    \"\"\"Divides x by y, handling potential errors.\"\"\"\n    try:\n        result = x / y\n    except ZeroDivisionError:\n        print(\"Error: Division by zero!\")\n        result = None\n    else:\n        print(\"Division successful!\")\n    finally:\n        print(\"This block always executes.\")\n    return result\n\n# Example 1: Successful division\nresult1 = divide(10, 2)\nprint(\"Result:\", result1)\n\n# Example 2: Division by zero\nresult2 = divide(10, 0)\nprint(\"Result:\", result2)",
      "metadata": {
        "trusted": true
      },
      "outputs": [
        {
          "name": "stdout",
          "output_type": "stream",
          "text": "Division successful!\nThis block always executes.\nResult: 5.0\nError: Division by zero!\nThis block always executes.\nResult: None\n"
        }
      ],
      "execution_count": 90
    },
    {
      "id": "a4599e66-47ce-4233-b2df-62885a3ea18c",
      "cell_type": "code",
      "source": "def my_function(a):\n  try:\n    return int(a)\n  except ValueError:\n    print(\"Value Error encountered\")\n    return None\n  else:\n    print(\"No errors encountered\")\n  finally:\n    print(\"This always runs\")\nprint(my_function(\"123\"))\nprint(my_function(\"abc\"))",
      "metadata": {
        "trusted": true
      },
      "outputs": [
        {
          "name": "stdout",
          "output_type": "stream",
          "text": "This always runs\n123\nValue Error encountered\nThis always runs\nNone\n"
        }
      ],
      "execution_count": 91
    },
    {
      "id": "cb30db81-dbfd-4d1d-887a-5eb6bc4fddca",
      "cell_type": "markdown",
      "source": "<h3>Files and the Operating System</h3>",
      "metadata": {}
    },
    {
      "id": "162ca121-26c9-476e-b253-107abff1e321",
      "cell_type": "markdown",
      "source": "<h4>Opening and Reading Files</h4>\n\nopen(path, mode):\nOpens a file at the specified path in the given mode.\nDefault mode is 'r' (read-only). <br>\nFile Handle:\nThe open() function returns a file handle (file object) that can be used to interact with the file. <br>\nIterating over Lines:\nYou can iterate over the lines of a file using a for loop. <br>\nrstrip():\nRemoves trailing whitespace (including newline characters) from a string.<br>path = \"Users\\NITRO\\OneDrive\\Documents\\Hy.txt\"\n\nwith open(...) as f::\nEnsures that the file is automatically closed when the with block finishes.\n<h4>File Modes:</h4>\n'r': Read-only.\n'w': Write-only (creates a new file or overwrites an existing one).\n'x': Write-only (creates a new file, fails if it exists).\n'a': Append.\n'r+': Read and write.\n'b': Binary mode.\n't': Text mode (default).",
      "metadata": {}
    },
    {
      "id": "181557b1-d172-4996-a040-9fdaa5b7e1dd",
      "cell_type": "code",
      "source": "path = r\"c:\\Users\\NITRO\\OneDrive\\Documents\\Hy.txt\"\n\ntry:\n    with open(path) as f:\n        lines = [x.rstrip() for x in f]\n    print(lines)\nexcept FileNotFoundError:\n    print(f\"File not found: {path}\")\n\ntry:\n    with open(\"tmp.txt\", \"w\") as handle:\n        with open(path) as f:\n          handle.writelines(x for x in f if len(x) > 1)\n\n    with open(\"tmp.txt\") as f:\n        lines = f.readlines()\n    print(lines)\nexcept FileNotFoundError:\n    print(f\"File not found: {path}\")",
      "metadata": {
        "trusted": true
      },
      "outputs": [
        {
          "name": "stdout",
          "output_type": "stream",
          "text": "File not found: c:\\Users\\NITRO\\OneDrive\\Documents\\Hy.txt\nFile not found: c:\\Users\\NITRO\\OneDrive\\Documents\\Hy.txt\n"
        }
      ],
      "execution_count": 98
    },
    {
      "id": "fd8b5fc8-b027-4c35-bd01-2fa3b53b69c4",
      "cell_type": "markdown",
      "source": "<h3>Reading and Writing Bytes</h3>read(size):\nReads size characters (text mode) or bytes (binary mode) from the file.\ntell():\nReturns the current file position.\nseek(pos):\nChanges the file position to the specified pos (in bytes).\nsys.getdefaultencoding():\nReturns the default encoding used by Python.\nwrite(str):\nWrites a string to the file.\nwritelines(strings):\nWrites a sequence of strings to the file.\nBinary Mode ('rb', 'wb'):\nOpens files to read or write raw bytes.",
      "metadata": {}
    },
    {
      "id": "0ec2f21d-89a6-4693-8a29-cc3741efb77a",
      "cell_type": "markdown",
      "source": "<h3>Reading and Writing Bytes</h3>\n\nread(size):\nReads size characters (text mode) or bytes (binary mode) from the file.\ntell():\nReturns the current file position.\nseek(pos):\nChanges the file position to the specified pos (in bytes).\nsys.getdefaultencoding():\nReturns the default encoding used by Python.\nwrite(str):\nWrites a string to the file.\nwritelines(strings):\nWrites a sequence of strings to the file.\nBinary Mode ('rb', 'wb'):\nOpens files to read or write raw bytes.",
      "metadata": {}
    },
    {
      "id": "b4edb3e1-1fe4-4e78-a974-ffb62229f95a",
      "cell_type": "code",
      "source": "",
      "metadata": {
        "trusted": true
      },
      "outputs": [],
      "execution_count": null
    }
  ]
}