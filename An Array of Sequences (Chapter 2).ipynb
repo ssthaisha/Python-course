{
  "metadata": {
    "kernelspec": {
      "name": "python",
      "display_name": "Python (Pyodide)",
      "language": "python"
    },
    "language_info": {
      "codemirror_mode": {
        "name": "python",
        "version": 3
      },
      "file_extension": ".py",
      "mimetype": "text/x-python",
      "name": "python",
      "nbconvert_exporter": "python",
      "pygments_lexer": "ipython3",
      "version": "3.8"
    }
  },
  "nbformat_minor": 5,
  "nbformat": 4,
  "cells": [
    {
      "id": "8e770d20-9ca9-48c7-8529-1835532de934",
      "cell_type": "markdown",
      "source": "<h1>Chapter 2 — An Array of Sequences </h1>",
      "metadata": {}
    },
    {
      "id": "2d9fa835-7afe-4f29-ba57-e42af36545bc",
      "cell_type": "markdown",
      "source": "<h2>Built-in Sequences:</h2>\n\nPython has several built-in ways to store ordered collections of items, called sequences.",
      "metadata": {}
    },
    {
      "id": "03a93d26-106e-4aeb-a857-e84e86e0fe3b",
      "cell_type": "markdown",
      "source": "Container sequences (like list, tuple, deque): They can hold items of different types (e.g., a list can have numbers, strings, and even other lists). They store references to these objects.<br>\nFlat sequences (like str, bytes, bytearray, memoryview, array.array): They are more specialized and can only hold items of a single, primitive type (like characters, bytes, or numbers). They store the actual values directly in memory, making them more memory-efficient for their specific purpose.",
      "metadata": {}
    },
    {
      "id": "b82b1584-63da-4e91-a746-3f581bd70972",
      "cell_type": "markdown",
      "source": "Sequences are also categorized by whether you can change them after they're created:\nMutable sequences (like list, bytearray, array.array, deque, memoryview): You can add, remove, or modify elements in these sequences.\nImmutable sequences (like tuple, str, bytes): Once created, you cannot change the elements within these sequences.",
      "metadata": {}
    },
    {
      "id": "65d7c061-eb91-4aa3-9dac-02a8034fc0b3",
      "cell_type": "markdown",
      "source": "<h2>List Comprehensions and Generator Expressions</h2>",
      "metadata": {}
    },
    {
      "id": "b3327606-e7ab-45da-b046-f4eec386f48f",
      "cell_type": "markdown",
      "source": "In Python code, line breaks are ignored inside pairs of [], {} or ().\nSo you can build multi-line lists, listcomps, genexps, dictionaries etc.\nwithout using the ugly \\ line continuation escape.",
      "metadata": {}
    },
    {
      "id": "20fb707b-71f7-486d-a3d4-64eb0b2f7ce0",
      "cell_type": "markdown",
      "source": "<h3>Example 2-1. Build a list of Unicode codepoints from a string</h3>",
      "metadata": {}
    },
    {
      "id": "24b581cb-4678-4672-a2b7-e002e2280c88",
      "cell_type": "code",
      "source": "symbols = '$¢£¥€¤'\ncodes = []\n\nfor symbol in symbols:\n    codes.append(ord(symbol)) # takes a single character (a string of length 1) as its argument.\n\ncodes",
      "metadata": {
        "trusted": true
      },
      "outputs": [
        {
          "execution_count": 1,
          "output_type": "execute_result",
          "data": {
            "text/plain": "[36, 162, 163, 165, 8364, 164]"
          },
          "metadata": {}
        }
      ],
      "execution_count": 1
    },
    {
      "id": "9b94158b-5489-430d-94fa-364591a9a80c",
      "cell_type": "markdown",
      "source": "List comprehensions are a concise and often more readable way to create new lists based on existing sequences or other iterable things.<br>\nInstead of writing a traditional for loop to build a list element by element, you can do it in a single, more expressive line.",
      "metadata": {}
    },
    {
      "id": "26d8292b-5959-4129-b011-313399042e1b",
      "cell_type": "code",
      "source": "cubes = []\nfor x in range(10):\n    if x % 2 == 0:\n        cubes.append(x**3)\nprint(\"Using for loop:\", cubes)",
      "metadata": {
        "trusted": true
      },
      "outputs": [
        {
          "name": "stdout",
          "output_type": "stream",
          "text": "Using for loop: [0, 8, 64, 216, 512]\n"
        }
      ],
      "execution_count": 11
    },
    {
      "id": "99e4ca40-fec5-4213-8d51-e66b3943eec0",
      "cell_type": "markdown",
      "source": "<h3>Example 2-2. Build a list of Unicode codepoints from a string, using a listcomp</h3>",
      "metadata": {}
    },
    {
      "id": "8ee4ee5c-a93e-420b-8fa7-c1626a9e92a5",
      "cell_type": "code",
      "source": "symbols = '$¢£¥€¤'\n\ncodes = [ord(symbol) for symbol in symbols]\n\ncodes",
      "metadata": {
        "trusted": true
      },
      "outputs": [
        {
          "execution_count": 2,
          "output_type": "execute_result",
          "data": {
            "text/plain": "[36, 162, 163, 165, 8364, 164]"
          },
          "metadata": {}
        }
      ],
      "execution_count": 2
    },
    {
      "id": "a99c1c81-5f8a-44e8-ab24-ba48e7bc924f",
      "cell_type": "code",
      "source": "cube = [x ** 3 for x in range(10) if x%2==0]\nprint(\"Using for loop:\", cube)",
      "metadata": {
        "trusted": true
      },
      "outputs": [
        {
          "name": "stdout",
          "output_type": "stream",
          "text": "Using for loop: [0, 8, 64, 216, 512]\n"
        }
      ],
      "execution_count": 15
    },
    {
      "id": "f83e9fab-b11e-43cd-bb0c-2e36c99dbe74",
      "cell_type": "markdown",
      "source": "<h3>Listcomps No Longer Leak Their Variables</h3>",
      "metadata": {}
    },
    {
      "id": "aa367176-f0a0-47c1-93b3-e2763b0cc27e",
      "cell_type": "code",
      "source": "x = 'ABC'\ncodes = [ord(x) for x in x]\nx",
      "metadata": {
        "trusted": true
      },
      "outputs": [
        {
          "execution_count": 3,
          "output_type": "execute_result",
          "data": {
            "text/plain": "'ABC'"
          },
          "metadata": {}
        }
      ],
      "execution_count": 3
    },
    {
      "id": "029b988b-f30b-443b-a2d3-a2430b30eba6",
      "cell_type": "code",
      "source": "codes",
      "metadata": {
        "trusted": true
      },
      "outputs": [
        {
          "execution_count": 5,
          "output_type": "execute_result",
          "data": {
            "text/plain": "[65, 66, 67]"
          },
          "metadata": {}
        }
      ],
      "execution_count": 5
    },
    {
      "id": "3b30f702-4012-4029-932c-22e998e08681",
      "cell_type": "code",
      "source": "codes = [last := ord(c) for c in x]\nlast",
      "metadata": {
        "trusted": true
      },
      "outputs": [
        {
          "execution_count": 4,
          "output_type": "execute_result",
          "data": {
            "text/plain": "67"
          },
          "metadata": {}
        }
      ],
      "execution_count": 4
    },
    {
      "id": "b43371e3-76ed-4bb3-a806-47a045105df2",
      "cell_type": "markdown",
      "source": "last := ...: The walrus operator does two things simultaneously:\nIt assigns the value of the expression on its right (ord(c)) to the variable on its left (last).\nIt returns the assigned value. This returned value is then used as the element that gets added to the codes list in the current iteration of the comprehension.",
      "metadata": {}
    },
    {
      "id": "7bd1a173-a0ce-4263-a208-f2b019efd0ab",
      "cell_type": "markdown",
      "source": "<h3>Example 2-3. The same list built by a listcomp and a map/filter composition</h3>",
      "metadata": {}
    },
    {
      "id": "c17c463f-5d8e-43e4-9210-68d6cb87e8ed",
      "cell_type": "markdown",
      "source": "This section argues that list comprehensions are a more Pythonic and often more readable alternative to using the built-in map() and filter() functions, especially when combined with lambda functions.",
      "metadata": {}
    },
    {
      "id": "e9b1e621-5bb4-40b2-b832-5d493165d7c8",
      "cell_type": "code",
      "source": "symbols = '$¢£¥€¤'\nbeyond_ascii = [ord(s) for s in symbols if ord(s) > 127]\nbeyond_ascii",
      "metadata": {
        "trusted": true
      },
      "outputs": [
        {
          "execution_count": 6,
          "output_type": "execute_result",
          "data": {
            "text/plain": "[162, 163, 165, 8364, 164]"
          },
          "metadata": {}
        }
      ],
      "execution_count": 6
    },
    {
      "id": "7da0d430-fdbc-4188-974e-93812db02ce7",
      "cell_type": "code",
      "source": "beyond_ascii = list(filter(lambda c: c > 127, map(ord, symbols)))\nbeyond_ascii",
      "metadata": {
        "trusted": true
      },
      "outputs": [
        {
          "execution_count": 7,
          "output_type": "execute_result",
          "data": {
            "text/plain": "[162, 163, 165, 8364, 164]"
          },
          "metadata": {}
        }
      ],
      "execution_count": 7
    },
    {
      "id": "cb12e095-90b6-458e-8e89-fdf7f991b4e4",
      "cell_type": "markdown",
      "source": "<h3>Example 2-4. Cartesian product using a list comprehension</h3>",
      "metadata": {}
    },
    {
      "id": "afbaa68b-8f0f-43d2-82d0-52c741f4898e",
      "cell_type": "code",
      "source": "colors = ['black', 'white']\nsizes = ['S', 'M', 'L']\ntshirts = [(color, size) for color in colors for size in sizes]\ntshirts",
      "metadata": {
        "trusted": true
      },
      "outputs": [
        {
          "execution_count": 8,
          "output_type": "execute_result",
          "data": {
            "text/plain": "[('black', 'S'),\n ('black', 'M'),\n ('black', 'L'),\n ('white', 'S'),\n ('white', 'M'),\n ('white', 'L')]"
          },
          "metadata": {}
        }
      ],
      "execution_count": 8
    },
    {
      "id": "97108a5f-b400-44b5-94ac-5b915e8fd1e9",
      "cell_type": "code",
      "source": "for color in colors:\n    for size in sizes:\n        print((color, size))",
      "metadata": {
        "trusted": true
      },
      "outputs": [
        {
          "name": "stdout",
          "output_type": "stream",
          "text": "('black', 'S')\n('black', 'M')\n('black', 'L')\n('white', 'S')\n('white', 'M')\n('white', 'L')\n"
        }
      ],
      "execution_count": 16
    },
    {
      "id": "83bc26e1-3ed9-440e-8574-7051829d90f6",
      "cell_type": "code",
      "source": "tshirts = [(color, size) for size in sizes\n                        for color in colors]\ntshirts",
      "metadata": {
        "trusted": true
      },
      "outputs": [
        {
          "execution_count": 19,
          "output_type": "execute_result",
          "data": {
            "text/plain": "[('black', 'S'),\n ('white', 'S'),\n ('black', 'M'),\n ('white', 'M'),\n ('black', 'L'),\n ('white', 'L')]"
          },
          "metadata": {}
        }
      ],
      "execution_count": 19
    },
    {
      "id": "5da04077-86db-4a1d-8a41-34bcb11cd2f0",
      "cell_type": "markdown",
      "source": "<h3>Generator Expressions</h3>\nGenerator expressions have the same syntax as list comprehensions, but instead of being enclosed in square brackets [], they are enclosed in parentheses ().",
      "metadata": {}
    },
    {
      "id": "b8cbe427-d524-42bc-8570-ef354bfa15f2",
      "cell_type": "markdown",
      "source": "To initialize tuples, arrays and other types of sequences, you could also start from a\nlistcomp but a genexp saves memory because it yields items one by one using the iterator\nprotocol instead of building a whole list just to feed another constructor.",
      "metadata": {}
    },
    {
      "id": "70d519af-5ce8-47b0-a3ea-ba82f64d3dbf",
      "cell_type": "code",
      "source": "symbols = '$¢£¥€¤'\ntuple(ord(symbol) for symbol in symbols)",
      "metadata": {
        "trusted": true
      },
      "outputs": [
        {
          "execution_count": 20,
          "output_type": "execute_result",
          "data": {
            "text/plain": "(36, 162, 163, 165, 8364, 164)"
          },
          "metadata": {}
        }
      ],
      "execution_count": 20
    },
    {
      "id": "e9bd8c43-8346-40d0-9312-74bcabfff108",
      "cell_type": "code",
      "source": "import array\n\narray.array('I', (ord(symbol) for symbol in symbols))",
      "metadata": {
        "trusted": true
      },
      "outputs": [
        {
          "execution_count": 21,
          "output_type": "execute_result",
          "data": {
            "text/plain": "array('I', [36, 162, 163, 165, 8364, 164])"
          },
          "metadata": {}
        }
      ],
      "execution_count": 21
    },
    {
      "id": "1a1091d6-5086-40c9-b3b8-7fc1edf2e6cb",
      "cell_type": "code",
      "source": "colors = ['black', 'white']\nsizes = ['S', 'M', 'L']\n\nfor tshirt in ('%s %s' % (c, s) for c in colors for s in sizes):\n    print(tshirt)",
      "metadata": {
        "trusted": true
      },
      "outputs": [
        {
          "name": "stdout",
          "output_type": "stream",
          "text": "black S\nblack M\nblack L\nwhite S\nwhite M\nwhite L\n"
        }
      ],
      "execution_count": 22
    },
    {
      "id": "acb01f53-9b5c-4ae5-9874-41d329e4bec6",
      "cell_type": "markdown",
      "source": "The generator expression yields items one by one; a list with all 6 t-shirt\nvariations is never produced in this example.\n",
      "metadata": {}
    },
    {
      "id": "427398d9-c03d-455a-8611-0d20fd4cd316",
      "cell_type": "markdown",
      "source": "<h2>Tuples are not just immutable lists\n</h2>",
      "metadata": {}
    },
    {
      "id": "28a95a34-9372-491e-b431-6dbaa02d5e0e",
      "cell_type": "markdown",
      "source": "Tuples do double-duty: they can be used as immutable lists and also\nas records with no field names.",
      "metadata": {}
    },
    {
      "id": "cc9e200b-4e1c-46cf-b5bd-3691f0abf516",
      "cell_type": "markdown",
      "source": "<h3>Tuples as records</h3>",
      "metadata": {}
    },
    {
      "id": "07bed244-61a8-4294-8110-fbdd4a028741",
      "cell_type": "markdown",
      "source": "Tuples hold records: each item in the tuple holds the data for one field and the position\nof the item gives its meaning.\n",
      "metadata": {}
    },
    {
      "id": "eab02124-3bf5-4e3d-9ded-2b5bf6a3a801",
      "cell_type": "code",
      "source": "lax_coordinates = (33.9425, -118.408056)\ncity, year, pop, chg, area = ('Tokyo', 2003, 32_450, 0.66, 8014)\ntraveler_ids = [('USA', '31195855'), ('BRA', 'CE342567'), ('ESP', 'XDA205856')]\n\nfor passport in sorted(traveler_ids):\n    print('%s/%s' % passport)",
      "metadata": {
        "trusted": true
      },
      "outputs": [
        {
          "name": "stdout",
          "output_type": "stream",
          "text": "BRA/CE342567\nESP/XDA205856\nUSA/31195855\n"
        }
      ],
      "execution_count": 23
    },
    {
      "id": "1369fb8e-ae80-4f23-bc60-66c3219292e8",
      "cell_type": "code",
      "source": "for country, _ in traveler_ids:\n    print(country)",
      "metadata": {
        "trusted": true
      },
      "outputs": [
        {
          "name": "stdout",
          "output_type": "stream",
          "text": "USA\nBRA\nESP\n"
        }
      ],
      "execution_count": 24
    },
    {
      "id": "14c593a9-8926-4c5d-8a20-4d97c4f20b8f",
      "cell_type": "code",
      "source": "a = (10, 'alpha', [1, 2])\nb = (10, 'alpha', [1, 2])\na == b",
      "metadata": {
        "trusted": true
      },
      "outputs": [
        {
          "execution_count": 25,
          "output_type": "execute_result",
          "data": {
            "text/plain": "True"
          },
          "metadata": {}
        }
      ],
      "execution_count": 25
    },
    {
      "id": "d51bea78-1729-47e6-87ab-5209bed55c02",
      "cell_type": "code",
      "source": "b[-1].append(99)\na == b",
      "metadata": {
        "trusted": true
      },
      "outputs": [
        {
          "execution_count": 26,
          "output_type": "execute_result",
          "data": {
            "text/plain": "False"
          },
          "metadata": {}
        }
      ],
      "execution_count": 26
    },
    {
      "id": "de7099a6-38c9-4460-94d3-de7e519d6c1d",
      "cell_type": "code",
      "source": "b",
      "metadata": {
        "trusted": true
      },
      "outputs": [
        {
          "execution_count": 27,
          "output_type": "execute_result",
          "data": {
            "text/plain": "(10, 'alpha', [1, 2, 99])"
          },
          "metadata": {}
        }
      ],
      "execution_count": 27
    },
    {
      "id": "08121321-6d8c-42f2-9fd7-68b5e041bee8",
      "cell_type": "markdown",
      "source": "<h3>Unpacking sequences and iterables</h3>",
      "metadata": {}
    },
    {
      "id": "f294bed6-9bfa-4bac-870f-874769675e1a",
      "cell_type": "markdown",
      "source": "<h4>Tuple Unpacking</h4>",
      "metadata": {}
    },
    {
      "id": "7440e070-453d-4351-95d0-2846b87cd368",
      "cell_type": "code",
      "source": "lax_coordinates = (33.9425, -118.408056)\nlatitude, longitude = lax_coordinates  # unpacking\nlatitude",
      "metadata": {
        "trusted": true
      },
      "outputs": [
        {
          "execution_count": 28,
          "output_type": "execute_result",
          "data": {
            "text/plain": "33.9425"
          },
          "metadata": {}
        }
      ],
      "execution_count": 28
    },
    {
      "id": "b664d604-352b-4c37-8ce8-ccd57faa563c",
      "cell_type": "code",
      "source": "longitude",
      "metadata": {
        "trusted": true
      },
      "outputs": [
        {
          "execution_count": 29,
          "output_type": "execute_result",
          "data": {
            "text/plain": "-118.408056"
          },
          "metadata": {}
        }
      ],
      "execution_count": 29
    },
    {
      "id": "30281737-6b7a-48a4-b1b5-541309e18213",
      "cell_type": "code",
      "source": "divmod(20, 8)",
      "metadata": {
        "trusted": true
      },
      "outputs": [
        {
          "execution_count": 30,
          "output_type": "execute_result",
          "data": {
            "text/plain": "(2, 4)"
          },
          "metadata": {}
        }
      ],
      "execution_count": 30
    },
    {
      "id": "5f697e8e-9c28-4420-869f-bf2585b3f35c",
      "cell_type": "markdown",
      "source": "Another example of tuple unpacking is prefixing an argument with a star when calling\na function",
      "metadata": {}
    },
    {
      "id": "2fb27278-0787-49f2-9540-d8e29bec86aa",
      "cell_type": "code",
      "source": "t = (20, 8)\ndivmod(*t)\n",
      "metadata": {
        "trusted": true
      },
      "outputs": [
        {
          "execution_count": 31,
          "output_type": "execute_result",
          "data": {
            "text/plain": "(2, 4)"
          },
          "metadata": {}
        }
      ],
      "execution_count": 31
    },
    {
      "id": "281dbe31-23bc-4868-b32e-709bbbb94d79",
      "cell_type": "code",
      "source": "quotient, remainder = divmod(*t)\nquotient, remainder\n",
      "metadata": {
        "trusted": true
      },
      "outputs": [
        {
          "execution_count": 32,
          "output_type": "execute_result",
          "data": {
            "text/plain": "(2, 4)"
          },
          "metadata": {}
        }
      ],
      "execution_count": 32
    },
    {
      "id": "9c8e0b94-6ab1-4f0c-9362-f43085afe8e3",
      "cell_type": "markdown",
      "source": "the\nos.path.split() function builds a tuple (path, last_part) from a filesystem path.\n",
      "metadata": {}
    },
    {
      "id": "de3bb36b-61d0-4a69-b5e7-f56414eff6e1",
      "cell_type": "code",
      "source": "import os\n\n_, filename = os.path.split('/home/luciano/.ssh/id_rsa.pub')\nfilename",
      "metadata": {
        "trusted": true
      },
      "outputs": [
        {
          "execution_count": 33,
          "output_type": "execute_result",
          "data": {
            "text/plain": "'id_rsa.pub'"
          },
          "metadata": {}
        }
      ],
      "execution_count": 33
    },
    {
      "id": "16cc5a3f-2ffa-4759-abb6-31f1e2262d01",
      "cell_type": "markdown",
      "source": "<h3>Using * to grab excess items</h3>",
      "metadata": {}
    },
    {
      "id": "42341536-1ec8-414b-9c1f-d3ded0a969ec",
      "cell_type": "code",
      "source": "a, b, *rest = range(5)\na, b, rest",
      "metadata": {
        "trusted": true
      },
      "outputs": [
        {
          "execution_count": 34,
          "output_type": "execute_result",
          "data": {
            "text/plain": "(0, 1, [2, 3, 4])"
          },
          "metadata": {}
        }
      ],
      "execution_count": 34
    },
    {
      "id": "4e95c5c5-d87a-4677-bf2a-705d04158028",
      "cell_type": "code",
      "source": "a, b, *rest = range(3)\na, b, rest",
      "metadata": {
        "trusted": true
      },
      "outputs": [
        {
          "execution_count": 35,
          "output_type": "execute_result",
          "data": {
            "text/plain": "(0, 1, [2])"
          },
          "metadata": {}
        }
      ],
      "execution_count": 35
    },
    {
      "id": "201d44a2-d932-4776-951b-16c0061f3233",
      "cell_type": "code",
      "source": "a, b, *rest = range(2)\na, b, rest",
      "metadata": {
        "trusted": true
      },
      "outputs": [
        {
          "execution_count": 36,
          "output_type": "execute_result",
          "data": {
            "text/plain": "(0, 1, [])"
          },
          "metadata": {}
        }
      ],
      "execution_count": 36
    },
    {
      "id": "9f6f4095-bdfc-401f-8fc4-f0539bdbb9b3",
      "cell_type": "code",
      "source": "*head, b, c, d = range(5)\nhead, b, c, d",
      "metadata": {
        "trusted": true
      },
      "outputs": [
        {
          "execution_count": 37,
          "output_type": "execute_result",
          "data": {
            "text/plain": "([0, 1], 2, 3, 4)"
          },
          "metadata": {}
        }
      ],
      "execution_count": 37
    },
    {
      "id": "6675b531-a62a-496c-a09c-84a78415efc0",
      "cell_type": "markdown",
      "source": "<h3> Nested unpacking </h3>",
      "metadata": {}
    },
    {
      "id": "69767344-4fa9-4977-9cd2-27360026ab6c",
      "cell_type": "markdown",
      "source": "<h3>Example 2-8. Unpacking nested tuples to access the longitude</h3>",
      "metadata": {}
    },
    {
      "id": "b7b7968c-89ab-4de5-8109-085b3da6f4a2",
      "cell_type": "code",
      "source": "metro_areas = [\n ('Tokyo', 'JP', 36.933, (35.689722, 139.691667)), #\n ('Delhi NCR', 'IN', 21.935, (28.613889, 77.208889)),\n ('Mexico City', 'MX', 20.142, (19.433333, -99.133333)),\n ('New York-Newark', 'US', 20.104, (40.808611, -74.020386)),\n ('Sao Paulo', 'BR', 19.649, (-23.547778, -46.635833)),\n]\nprint('{:15} | {:^9} | {:^9}'.format('', 'lat.', 'long.'))\nfmt = '{:15} | {:9.4f} | {:9.4f}'\nfor name, cc, pop, (latitude, longitude) in metro_areas: #\n    if longitude <= 0: #\n        print(fmt.format(name, latitude, longitude))",
      "metadata": {
        "trusted": true
      },
      "outputs": [
        {
          "name": "stdout",
          "output_type": "stream",
          "text": "                |   lat.    |   long.  \nMexico City     |   19.4333 |  -99.1333\nNew York-Newark |   40.8086 |  -74.0204\nSao Paulo       |  -23.5478 |  -46.6358\n"
        }
      ],
      "execution_count": 38
    },
    {
      "id": "882a34ec-90cd-488f-9bbc-5f2ba9447481",
      "cell_type": "markdown",
      "source": "Each tuple holds a record with four fields, the last of which is a coordinate pair.\nBy assigning the last field to a tuple, we unpack the coordinates.\nif longitude <= 0: limits the output to metropolitan areas in the Western\nhemisphere.\n",
      "metadata": {}
    },
    {
      "id": "cf705c8e-54bb-43f4-a4b4-80d3975e8290",
      "cell_type": "markdown",
      "source": "<h2>Slicing</h2>",
      "metadata": {}
    },
    {
      "id": "2be6898a-1151-47bb-a7d8-2e6a5526d94a",
      "cell_type": "markdown",
      "source": "Feature of list, tuple, str and all sequence types in Python is the support of slicing operations",
      "metadata": {}
    },
    {
      "id": "e6236669-a13c-4a31-9706-b48ec97199a5",
      "cell_type": "code",
      "source": "l = [10, 20, 30, 40, 50, 60]\n\nl[:2]  # split at 2",
      "metadata": {
        "trusted": true
      },
      "outputs": [
        {
          "execution_count": 1,
          "output_type": "execute_result",
          "data": {
            "text/plain": "[10, 20]"
          },
          "metadata": {}
        }
      ],
      "execution_count": 1
    },
    {
      "id": "765e6eca-d172-465b-a5ba-459c16db6ce2",
      "cell_type": "code",
      "source": "l[2:]",
      "metadata": {
        "trusted": true
      },
      "outputs": [
        {
          "execution_count": 2,
          "output_type": "execute_result",
          "data": {
            "text/plain": "[30, 40, 50, 60]"
          },
          "metadata": {}
        }
      ],
      "execution_count": 2
    },
    {
      "id": "850f4423-3513-4165-9147-040cc0803bdf",
      "cell_type": "code",
      "source": "l[:3]",
      "metadata": {
        "trusted": true
      },
      "outputs": [
        {
          "execution_count": 3,
          "output_type": "execute_result",
          "data": {
            "text/plain": "[10, 20, 30]"
          },
          "metadata": {}
        }
      ],
      "execution_count": 3
    },
    {
      "id": "a64cc052-4058-4d6e-9a4b-fb05e6876364",
      "cell_type": "markdown",
      "source": "<h3>Slice Objects</h3>",
      "metadata": {}
    },
    {
      "id": "c92662bc-198b-4656-8ac8-3503ed4c51c5",
      "cell_type": "code",
      "source": "s = 'bicycle'\ns[::3]",
      "metadata": {
        "trusted": true
      },
      "outputs": [
        {
          "execution_count": 4,
          "output_type": "execute_result",
          "data": {
            "text/plain": "'bye'"
          },
          "metadata": {}
        }
      ],
      "execution_count": 4
    },
    {
      "id": "5ebc6591-9ad8-41df-9440-db43c0d9240a",
      "cell_type": "markdown",
      "source": "The stride can also be negative,\n returning items in reverse.",
      "metadata": {}
    },
    {
      "id": "7da2dbf3-c19f-4976-b062-ca9b21190354",
      "cell_type": "code",
      "source": "s[::-1]",
      "metadata": {
        "trusted": true
      },
      "outputs": [
        {
          "execution_count": 5,
          "output_type": "execute_result",
          "data": {
            "text/plain": "'elcycib'"
          },
          "metadata": {}
        }
      ],
      "execution_count": 5
    },
    {
      "id": "08d61570-94b5-4782-8147-a1098fb51de4",
      "cell_type": "code",
      "source": "s[::-2]",
      "metadata": {
        "trusted": true
      },
      "outputs": [
        {
          "execution_count": 6,
          "output_type": "execute_result",
          "data": {
            "text/plain": "'eccb'"
          },
          "metadata": {}
        }
      ],
      "execution_count": 6
    },
    {
      "id": "65eecfcc-ac60-45cd-820e-2a1fc58f3562",
      "cell_type": "markdown",
      "source": "Instead\n of filling your code with hard-coded slices, you can name them. See how readable this\n makes the for loop at the end of the example:",
      "metadata": {}
    },
    {
      "id": "5cf84937-d2d6-4af4-900c-98933fa59543",
      "cell_type": "code",
      "source": "invoice = \"\"\"\n0.....6.................................40........52...55........\n1909 Pimoroni PiBrella                      $17.50    3    $52.50\n1489 6mm Tactile Switch x20                  $4.95    2    $9.90\n1510 Panavise Jr. - PV-201                  $28.00    1    $28.00\n1601 PiTFT Mini Kit 320x240                 $34.95    1    $34.95\n\"\"\"\n\nSKU = slice(0, 6)\nDESCRIPTION = slice(6, 40)\nUNIT_PRICE = slice(40, 52)\nQUANTITY = slice(52, 55)\nITEM_TOTAL = slice(55, None)\n\nline_items = invoice.split('\\n')[2:]\n\nfor item in line_items:\n    print(item[UNIT_PRICE], item[DESCRIPTION])",
      "metadata": {
        "trusted": true
      },
      "outputs": [
        {
          "name": "stdout",
          "output_type": "stream",
          "text": "    $17.50   imoroni PiBrella                  \n     $4.95   mm Tactile Switch x20             \n    $28.00   anavise Jr. - PV-201              \n    $34.95   iTFT Mini Kit 320x240             \n \n"
        }
      ],
      "execution_count": 7
    },
    {
      "id": "23e5c198-8855-489c-9e02-505b7999d478",
      "cell_type": "markdown",
      "source": "<h2>Assigning to Slices</h2>",
      "metadata": {}
    },
    {
      "id": "bd584a40-f69e-4b01-a82c-83750036eaf1",
      "cell_type": "code",
      "source": "l = list(range(10))\nl",
      "metadata": {
        "trusted": true
      },
      "outputs": [
        {
          "execution_count": 8,
          "output_type": "execute_result",
          "data": {
            "text/plain": "[0, 1, 2, 3, 4, 5, 6, 7, 8, 9]"
          },
          "metadata": {}
        }
      ],
      "execution_count": 8
    },
    {
      "id": "690bfb74-1ab2-420f-b097-5a7c95f47cf9",
      "cell_type": "code",
      "source": "l[2:5] = [20, 30]\nl",
      "metadata": {
        "trusted": true
      },
      "outputs": [
        {
          "execution_count": 9,
          "output_type": "execute_result",
          "data": {
            "text/plain": "[0, 1, 20, 30, 5, 6, 7, 8, 9]"
          },
          "metadata": {}
        }
      ],
      "execution_count": 9
    },
    {
      "id": "fcd98fc5-07ea-4f47-b52d-d13a66f64caa",
      "cell_type": "code",
      "source": "del l[5:7]\nl",
      "metadata": {
        "trusted": true
      },
      "outputs": [
        {
          "execution_count": 10,
          "output_type": "execute_result",
          "data": {
            "text/plain": "[0, 1, 20, 30, 5, 8, 9]"
          },
          "metadata": {}
        }
      ],
      "execution_count": 10
    },
    {
      "id": "fe0cbe0b-96fc-479e-809c-8e8dcc0239ab",
      "cell_type": "markdown",
      "source": "<h2>Using + and * with Sequences</h2>",
      "metadata": {}
    },
    {
      "id": "935ca769-1d7f-44d0-bd36-c1296bc7a702",
      "cell_type": "code",
      "source": "l = [1, 2, 3]\nl * 5",
      "metadata": {
        "trusted": true
      },
      "outputs": [
        {
          "execution_count": 11,
          "output_type": "execute_result",
          "data": {
            "text/plain": "[1, 2, 3, 1, 2, 3, 1, 2, 3, 1, 2, 3, 1, 2, 3]"
          },
          "metadata": {}
        }
      ],
      "execution_count": 11
    },
    {
      "id": "219891ae-2b69-4c67-855a-e6bca96c776d",
      "cell_type": "code",
      "source": "5 * 'abcd'",
      "metadata": {
        "trusted": true
      },
      "outputs": [
        {
          "execution_count": 12,
          "output_type": "execute_result",
          "data": {
            "text/plain": "'abcdabcdabcdabcdabcd'"
          },
          "metadata": {}
        }
      ],
      "execution_count": 12
    },
    {
      "id": "bb2a7d9a-bdae-4fd6-8b39-8ea159704e18",
      "cell_type": "markdown",
      "source": "<h3> Building lists of lists</h3>",
      "metadata": {}
    },
    {
      "id": "e176736d-a918-497e-8070-ca8705bcd506",
      "cell_type": "code",
      "source": "board = [['_'] * 3 for i in range(3)]\nboard",
      "metadata": {
        "trusted": true
      },
      "outputs": [
        {
          "execution_count": 13,
          "output_type": "execute_result",
          "data": {
            "text/plain": "[['_', '_', '_'], ['_', '_', '_'], ['_', '_', '_']]"
          },
          "metadata": {}
        }
      ],
      "execution_count": 13
    },
    {
      "id": "652e70a7-0af6-4e9c-8097-015eeabafc35",
      "cell_type": "code",
      "source": "board[1][2] = 'X'\nboard",
      "metadata": {
        "trusted": true
      },
      "outputs": [
        {
          "execution_count": 14,
          "output_type": "execute_result",
          "data": {
            "text/plain": "[['_', '_', '_'], ['_', '_', 'X'], ['_', '_', '_']]"
          },
          "metadata": {}
        }
      ],
      "execution_count": 14
    },
    {
      "id": "d3dd2c31-7842-4c9e-8f5b-8afc467f474d",
      "cell_type": "markdown",
      "source": "Create a list of with 3 lists of 3 items each. Inspect the structure. <br>\n Place a mark in row 1, column 2 and check the result",
      "metadata": {}
    },
    {
      "id": "da23fd39-2d6d-455e-bba3-b904c6b891c9",
      "cell_type": "code",
      "source": "weird_board = [['_'] * 3] * 3\nweird_board",
      "metadata": {
        "trusted": true
      },
      "outputs": [
        {
          "execution_count": 15,
          "output_type": "execute_result",
          "data": {
            "text/plain": "[['_', '_', '_'], ['_', '_', '_'], ['_', '_', '_']]"
          },
          "metadata": {}
        }
      ],
      "execution_count": 15
    },
    {
      "id": "f753e516-e17b-4a64-992c-797aa451ebef",
      "cell_type": "code",
      "source": "weird_board[1][2] = 'O'\nweird_board",
      "metadata": {
        "trusted": true
      },
      "outputs": [
        {
          "execution_count": 16,
          "output_type": "execute_result",
          "data": {
            "text/plain": "[['_', '_', 'O'], ['_', '_', 'O'], ['_', '_', 'O']]"
          },
          "metadata": {}
        }
      ],
      "execution_count": 16
    },
    {
      "id": "4791db50-1f10-4a0c-ac93-c9257b10d856",
      "cell_type": "markdown",
      "source": "The outer list is made of three references to the same inner list. While it is\n unchanged, all seems right. <br>\n Placing a mark in row 1, column 2 reveals that all rows are aliases referring to\n the same object.",
      "metadata": {}
    },
    {
      "id": "a197a017-c4ee-451e-a947-a5b842e5589f",
      "cell_type": "markdown",
      "source": "<h2>A += Assignment Puzzler</h2>",
      "metadata": {}
    },
    {
      "id": "9ea81794-2ea4-47e9-8198-8b845e297168",
      "cell_type": "code",
      "source": "t = (1, 2, [30, 40])\ntry:\n    t[2] += [50, 60]\nexcept TypeError as e:\n    print(repr(e))",
      "metadata": {
        "trusted": true
      },
      "outputs": [
        {
          "name": "stdout",
          "output_type": "stream",
          "text": "TypeError(\"'tuple' object does not support item assignment\")\n"
        }
      ],
      "execution_count": 17
    },
    {
      "id": "2a40a085-e945-4ab7-bb53-4af101876fb6",
      "cell_type": "code",
      "source": "t",
      "metadata": {
        "trusted": true
      },
      "outputs": [
        {
          "execution_count": 18,
          "output_type": "execute_result",
          "data": {
            "text/plain": "(1, 2, [30, 40, 50, 60])"
          },
          "metadata": {}
        }
      ],
      "execution_count": 18
    },
    {
      "id": "76704478-b99c-4f6e-8fc1-49f0b80855e4",
      "cell_type": "markdown",
      "source": "<h2>list.sort and the sorted Built-In Function</h2>",
      "metadata": {}
    },
    {
      "id": "c8264ac7-c841-43a0-867e-8fe57358f974",
      "cell_type": "code",
      "source": "fruits = ['grape', 'raspberry', 'apple', 'banana']\nsorted(fruits)",
      "metadata": {
        "trusted": true
      },
      "outputs": [
        {
          "execution_count": 19,
          "output_type": "execute_result",
          "data": {
            "text/plain": "['apple', 'banana', 'grape', 'raspberry']"
          },
          "metadata": {}
        }
      ],
      "execution_count": 19
    },
    {
      "id": "9793e605-58a9-47a8-8b39-b8138620e1d9",
      "cell_type": "markdown",
      "source": "The list.sort method sorts a list in-place, that is, without making a copy. It returns\n None to remind us that it changes the target object, and does not create a new list. This\n is an important Python API convention: functions or methods that change an object\n in-place should return None to make it clear to the caller that the object itself was\n changed, and no new object was created. ",
      "metadata": {}
    },
    {
      "id": "d77bb25b-77e2-4adf-8d0e-903425191399",
      "cell_type": "code",
      "source": "fruits = ['grape', 'raspberry', 'apple', 'banana']\nsorted(fruits)",
      "metadata": {
        "trusted": true
      },
      "outputs": [
        {
          "execution_count": 20,
          "output_type": "execute_result",
          "data": {
            "text/plain": "['apple', 'banana', 'grape', 'raspberry']"
          },
          "metadata": {}
        }
      ],
      "execution_count": 20
    },
    {
      "id": "8065d65c-b240-4671-a72b-e05d539c99f4",
      "cell_type": "code",
      "source": "fruits",
      "metadata": {
        "trusted": true
      },
      "outputs": [
        {
          "execution_count": 21,
          "output_type": "execute_result",
          "data": {
            "text/plain": "['grape', 'raspberry', 'apple', 'banana']"
          },
          "metadata": {}
        }
      ],
      "execution_count": 21
    },
    {
      "id": "ee0e3a05-b75f-4b8a-b8cc-db544d46de40",
      "cell_type": "code",
      "source": "sorted(fruits, reverse=True)",
      "metadata": {
        "trusted": true
      },
      "outputs": [
        {
          "execution_count": 22,
          "output_type": "execute_result",
          "data": {
            "text/plain": "['raspberry', 'grape', 'banana', 'apple']"
          },
          "metadata": {}
        }
      ],
      "execution_count": 22
    },
    {
      "id": "e0422ecc-c330-4efb-8b8b-facc6ca50e1e",
      "cell_type": "code",
      "source": "sorted(fruits, key=len)",
      "metadata": {
        "trusted": true
      },
      "outputs": [
        {
          "execution_count": 23,
          "output_type": "execute_result",
          "data": {
            "text/plain": "['grape', 'apple', 'banana', 'raspberry']"
          },
          "metadata": {}
        }
      ],
      "execution_count": 23
    },
    {
      "id": "5277a10b-dbdd-4de4-a346-c6bf0bd6292c",
      "cell_type": "code",
      "source": "sorted(fruits, key=len, reverse=True)",
      "metadata": {
        "trusted": true
      },
      "outputs": [
        {
          "execution_count": 24,
          "output_type": "execute_result",
          "data": {
            "text/plain": "['raspberry', 'banana', 'grape', 'apple']"
          },
          "metadata": {}
        }
      ],
      "execution_count": 24
    },
    {
      "id": "334509b9-198b-406f-9b56-657f08901379",
      "cell_type": "code",
      "source": "fruits",
      "metadata": {
        "trusted": true
      },
      "outputs": [
        {
          "execution_count": 25,
          "output_type": "execute_result",
          "data": {
            "text/plain": "['grape', 'raspberry', 'apple', 'banana']"
          },
          "metadata": {}
        }
      ],
      "execution_count": 25
    },
    {
      "id": "30905738-0249-48d9-a905-9989664af033",
      "cell_type": "code",
      "source": "fruits.sort()\nfruits",
      "metadata": {
        "trusted": true
      },
      "outputs": [
        {
          "execution_count": 26,
          "output_type": "execute_result",
          "data": {
            "text/plain": "['apple', 'banana', 'grape', 'raspberry']"
          },
          "metadata": {}
        }
      ],
      "execution_count": 26
    },
    {
      "id": "4518d271-409d-4c98-ad17-6bc444f44a1f",
      "cell_type": "markdown",
      "source": "<h2>NumPy</h2>",
      "metadata": {}
    },
    {
      "id": "204dfb3c-be69-472b-8b40-933882619f01",
      "cell_type": "markdown",
      "source": " Basic operations with rows and columns in a numpy.ndarray",
      "metadata": {}
    },
    {
      "id": "9c51c9fa-cd5f-4872-9d31-e8ec932a9669",
      "cell_type": "code",
      "source": "import numpy as np\n\na = np.arange(12)\na",
      "metadata": {
        "trusted": true
      },
      "outputs": [
        {
          "execution_count": 27,
          "output_type": "execute_result",
          "data": {
            "text/plain": "array([ 0,  1,  2,  3,  4,  5,  6,  7,  8,  9, 10, 11])"
          },
          "metadata": {}
        }
      ],
      "execution_count": 27
    },
    {
      "id": "19ab7a08-1874-46fc-bd98-d1abf210105d",
      "cell_type": "code",
      "source": "type(a)",
      "metadata": {
        "trusted": true
      },
      "outputs": [
        {
          "execution_count": 28,
          "output_type": "execute_result",
          "data": {
            "text/plain": "numpy.ndarray"
          },
          "metadata": {}
        }
      ],
      "execution_count": 28
    },
    {
      "id": "ac6cddc5-680b-4357-aecf-99a404dacf3c",
      "cell_type": "code",
      "source": "a.shape",
      "metadata": {
        "trusted": true
      },
      "outputs": [
        {
          "execution_count": 29,
          "output_type": "execute_result",
          "data": {
            "text/plain": "(12,)"
          },
          "metadata": {}
        }
      ],
      "execution_count": 29
    },
    {
      "id": "1230cad8-dac9-40cf-b64e-cd476d3aa9cc",
      "cell_type": "markdown",
      "source": "a.shape = 3, 4\na",
      "metadata": {}
    },
    {
      "id": "c405aef1-6412-47b8-beb7-ae01396a336f",
      "cell_type": "code",
      "source": "a[2]",
      "metadata": {
        "trusted": true
      },
      "outputs": [
        {
          "execution_count": 31,
          "output_type": "execute_result",
          "data": {
            "text/plain": "array([ 8,  9, 10, 11])"
          },
          "metadata": {}
        }
      ],
      "execution_count": 31
    },
    {
      "id": "c219446f-6b2f-4754-9738-338092949f12",
      "cell_type": "code",
      "source": "a[2, 1]",
      "metadata": {
        "trusted": true
      },
      "outputs": [
        {
          "execution_count": 32,
          "output_type": "execute_result",
          "data": {
            "text/plain": "np.int32(9)"
          },
          "metadata": {}
        }
      ],
      "execution_count": 32
    },
    {
      "id": "08c2fb97-5b89-4179-b615-7f85e6cc0a0a",
      "cell_type": "code",
      "source": "a[:, 1]\n#get column at index 1;",
      "metadata": {
        "trusted": true
      },
      "outputs": [
        {
          "execution_count": 34,
          "output_type": "execute_result",
          "data": {
            "text/plain": "array([1, 5, 9])"
          },
          "metadata": {}
        }
      ],
      "execution_count": 34
    },
    {
      "id": "fdf86d9b-93b0-4890-a54f-316af75fddda",
      "cell_type": "code",
      "source": "a.transpose()",
      "metadata": {
        "trusted": true
      },
      "outputs": [
        {
          "execution_count": 35,
          "output_type": "execute_result",
          "data": {
            "text/plain": "array([[ 0,  4,  8],\n       [ 1,  5,  9],\n       [ 2,  6, 10],\n       [ 3,  7, 11]])"
          },
          "metadata": {}
        }
      ],
      "execution_count": 35
    },
    {
      "id": "2b8e6057-9c45-48d7-9d83-f2551f5eaf21",
      "cell_type": "markdown",
      "source": "<h3>Deques and Other Queues <h3>",
      "metadata": {}
    },
    {
      "id": "e7d218f3-62cf-4f97-8996-5c964ba5eafa",
      "cell_type": "markdown",
      "source": "<h3>Working with a deque</h3>",
      "metadata": {}
    },
    {
      "id": "1fb98099-eac3-4abd-828f-1206e06a79e4",
      "cell_type": "code",
      "source": "import collections\n\ndq = collections.deque(range(10), maxlen=10)\ndq",
      "metadata": {
        "trusted": true
      },
      "outputs": [
        {
          "execution_count": 36,
          "output_type": "execute_result",
          "data": {
            "text/plain": "deque([0, 1, 2, 3, 4, 5, 6, 7, 8, 9], maxlen=10)"
          },
          "metadata": {}
        }
      ],
      "execution_count": 36
    },
    {
      "id": "204366b0-28dd-47a8-be94-219638f7d44c",
      "cell_type": "code",
      "source": "dq.rotate(3)\ndq",
      "metadata": {
        "trusted": true
      },
      "outputs": [
        {
          "execution_count": 37,
          "output_type": "execute_result",
          "data": {
            "text/plain": "deque([7, 8, 9, 0, 1, 2, 3, 4, 5, 6], maxlen=10)"
          },
          "metadata": {}
        }
      ],
      "execution_count": 37
    },
    {
      "id": "43914d78-ef7e-408c-871b-9d79c59ed6ef",
      "cell_type": "markdown",
      "source": "rotating with n > 0 takes items from the right end and prepends them to the\n left; when n < 0 items are taken from left and appended to the right;",
      "metadata": {}
    },
    {
      "id": "c21e9d07-b3f0-427b-b296-08c406f983e8",
      "cell_type": "code",
      "source": "dq.rotate(-4)\ndq",
      "metadata": {
        "trusted": true
      },
      "outputs": [
        {
          "execution_count": 38,
          "output_type": "execute_result",
          "data": {
            "text/plain": "deque([1, 2, 3, 4, 5, 6, 7, 8, 9, 0], maxlen=10)"
          },
          "metadata": {}
        }
      ],
      "execution_count": 38
    },
    {
      "id": "b17b4c3c-eb8d-4b90-913a-b8cba73dace7",
      "cell_type": "code",
      "source": "dq.appendleft(-1)\ndq",
      "metadata": {
        "trusted": true
      },
      "outputs": [
        {
          "execution_count": 39,
          "output_type": "execute_result",
          "data": {
            "text/plain": "deque([-1, 1, 2, 3, 4, 5, 6, 7, 8, 9], maxlen=10)"
          },
          "metadata": {}
        }
      ],
      "execution_count": 39
    },
    {
      "id": "ee7b6b41-9ad1-4ee3-86d4-550662dfeebf",
      "cell_type": "code",
      "source": "dq.extend([11, 22, 33])\ndq",
      "metadata": {
        "trusted": true
      },
      "outputs": [
        {
          "execution_count": 40,
          "output_type": "execute_result",
          "data": {
            "text/plain": "deque([3, 4, 5, 6, 7, 8, 9, 11, 22, 33], maxlen=10)"
          },
          "metadata": {}
        }
      ],
      "execution_count": 40
    },
    {
      "id": "3e622416-0ec5-47ac-9af4-75d058c319b8",
      "cell_type": "code",
      "source": "dq.extendleft([10, 20, 30, 40])\ndq",
      "metadata": {
        "trusted": true
      },
      "outputs": [
        {
          "execution_count": 41,
          "output_type": "execute_result",
          "data": {
            "text/plain": "deque([40, 30, 20, 10, 3, 4, 5, 6, 7, 8], maxlen=10)"
          },
          "metadata": {}
        }
      ],
      "execution_count": 41
    },
    {
      "id": "b3ea2e40-5bbd-4e69-b4be-3365df3bc836",
      "cell_type": "markdown",
      "source": "note that extendleft(iter) works by appending each successive item of the\n iter argument to the left of the deque, therefore the final position of the items\n is reversed.",
      "metadata": {}
    },
    {
      "id": "066f20b8-619c-4d34-a657-b3cbd382eaf5",
      "cell_type": "markdown",
      "source": "<h2>Soapbox</h2>",
      "metadata": {}
    },
    {
      "id": "b89a1625-9cf6-4c2c-a122-31c31b79a34a",
      "cell_type": "markdown",
      "source": "<h3>Mixed bag lists</h3>",
      "metadata": {}
    },
    {
      "id": "42c07356-8d7e-481a-986b-8eb0279f1c3c",
      "cell_type": "code",
      "source": "l = [28, 14, '28', 5, '9', '1', 0, 6, '23', 19]",
      "metadata": {
        "trusted": true
      },
      "outputs": [],
      "execution_count": 43
    },
    {
      "id": "7d86ec02-bd32-4161-9724-427d09a6e95a",
      "cell_type": "code",
      "source": "try:\n    sorted(l)\nexcept TypeError as e:\n    print(repr(e))",
      "metadata": {
        "trusted": true
      },
      "outputs": [
        {
          "name": "stdout",
          "output_type": "stream",
          "text": "TypeError(\"'<' not supported between instances of 'str' and 'int'\")\n"
        }
      ],
      "execution_count": 44
    },
    {
      "id": "d163248a-41b9-45b5-8157-9c573c09e038",
      "cell_type": "markdown",
      "source": "<h3>Key is Brilliant</h3>",
      "metadata": {}
    },
    {
      "id": "1549696d-262b-4fbe-919c-17b4f1e2ef2c",
      "cell_type": "code",
      "source": "l = [28, 14, '28', 5, '9', '1', 0, 6, '23', 19]\n\nsorted(l, key=int)",
      "metadata": {
        "trusted": true
      },
      "outputs": [
        {
          "execution_count": 45,
          "output_type": "execute_result",
          "data": {
            "text/plain": "[0, '1', 5, 6, '9', 14, 19, '23', 28, '28']"
          },
          "metadata": {}
        }
      ],
      "execution_count": 45
    },
    {
      "id": "6d2c3e66-60cf-441f-82e8-9386d752720f",
      "cell_type": "code",
      "source": "sorted(l, key=str)",
      "metadata": {
        "trusted": true
      },
      "outputs": [
        {
          "execution_count": 47,
          "output_type": "execute_result",
          "data": {
            "text/plain": "[0, '1', 14, 19, '23', 28, '28', 5, 6, '9']"
          },
          "metadata": {}
        }
      ],
      "execution_count": 47
    },
    {
      "id": "0f424dbc-f337-4cc3-bcf4-d861a937a5fa",
      "cell_type": "code",
      "source": "",
      "metadata": {
        "trusted": true
      },
      "outputs": [],
      "execution_count": null
    }
  ]
}