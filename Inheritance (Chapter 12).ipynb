{
  "metadata": {
    "kernelspec": {
      "name": "python",
      "display_name": "Python (Pyodide)",
      "language": "python"
    },
    "language_info": {
      "codemirror_mode": {
        "name": "python",
        "version": 3
      },
      "file_extension": ".py",
      "mimetype": "text/x-python",
      "name": "python",
      "nbconvert_exporter": "python",
      "pygments_lexer": "ipython3",
      "version": "3.8"
    }
  },
  "nbformat_minor": 5,
  "nbformat": 4,
  "cells": [
    {
      "id": "8c16420d-d44d-406d-8b96-ece0cb490e4d",
      "cell_type": "markdown",
      "source": "<h1>CHAPTER 12 - Inheritance: for good or for worse</h1>",
      "metadata": {}
    },
    {
      "id": "041dda22-dd8c-4d31-bb80-a1f6cc02ad9c",
      "cell_type": "markdown",
      "source": "• The pitfalls of subclassing from built-in types. <br>\n • Multiple inheritance and the method resolution order.",
      "metadata": {}
    },
    {
      "id": "44d36db3-5ba2-4f79-b1d5-67afb42abcd4",
      "cell_type": "code",
      "source": "import sys\nprint(sys.executable)",
      "metadata": {
        "trusted": true
      },
      "outputs": [
        {
          "name": "stdout",
          "output_type": "stream",
          "text": "/home/pyodide/this.program\n"
        }
      ],
      "execution_count": 26
    },
    {
      "id": "a16f5346-558e-46aa-b7e9-c7b488700fc1",
      "cell_type": "code",
      "source": "class DoppelDict(dict):\n    def __setitem__(self, key, value):\n       super().__setitem__(key, [value] * 2) ",
      "metadata": {
        "trusted": true
      },
      "outputs": [],
      "execution_count": 1
    },
    {
      "id": "fc64eb3d-017c-4618-88ba-e907f60f6e28",
      "cell_type": "markdown",
      "source": "DoppelDict.__setitem__ duplicates values when storing (for no good reason,\n just to have a visible effect). It works by delegating to the superclass.",
      "metadata": {}
    },
    {
      "id": "d460ebf5-87bb-41a1-81d3-109bd1a1be7d",
      "cell_type": "markdown",
      "source": "The __init__ method inherited from dict clearly ignored that __setitem__\n was overridden: the value of 'one' is not duplicated.",
      "metadata": {}
    },
    {
      "id": "677a26e2-3368-4ce0-8c02-101db5a1a74b",
      "cell_type": "code",
      "source": "dd = DoppelDict(one=1)",
      "metadata": {
        "trusted": true
      },
      "outputs": [],
      "execution_count": 2
    },
    {
      "id": "fc073284-3013-4151-8af3-2b5d49adbddd",
      "cell_type": "code",
      "source": "dd",
      "metadata": {
        "trusted": true
      },
      "outputs": [
        {
          "execution_count": 3,
          "output_type": "execute_result",
          "data": {
            "text/plain": "{'one': 1}"
          },
          "metadata": {}
        }
      ],
      "execution_count": 3
    },
    {
      "id": "58085100-0ad8-48ad-8777-2a8084063aa8",
      "cell_type": "markdown",
      "source": "The [] operator calls our __setitem__ and works as expected: 'two' maps to\n the duplicated value [2, 2].",
      "metadata": {}
    },
    {
      "id": "b7247265-dce7-4c47-b580-800278084091",
      "cell_type": "code",
      "source": "dd['two'] = 2 \ndd",
      "metadata": {
        "trusted": true
      },
      "outputs": [
        {
          "execution_count": 5,
          "output_type": "execute_result",
          "data": {
            "text/plain": "{'one': 1, 'two': [2, 2]}"
          },
          "metadata": {}
        }
      ],
      "execution_count": 5
    },
    {
      "id": "ca3cb083-d477-483d-92b7-09fb224a5012",
      "cell_type": "markdown",
      "source": "The update method from\ndict does not use our version of __setitem__ either:\n the value of 'three' was not duplicated.",
      "metadata": {}
    },
    {
      "id": "4ec7bcbd-8de1-44b7-b378-8a334d357be3",
      "cell_type": "code",
      "source": "dd.update(three=3)  ",
      "metadata": {
        "trusted": true
      },
      "outputs": [],
      "execution_count": 6
    },
    {
      "id": "962e65c5-2a94-4493-a4da-0cd6d954c9fd",
      "cell_type": "code",
      "source": "dd",
      "metadata": {
        "trusted": true
      },
      "outputs": [
        {
          "execution_count": 7,
          "output_type": "execute_result",
          "data": {
            "text/plain": "{'one': 1, 'two': [2, 2], 'three': 3}"
          },
          "metadata": {}
        }
      ],
      "execution_count": 7
    },
    {
      "id": "31f8ddcb-1140-4330-bf8b-9914794819f9",
      "cell_type": "code",
      "source": "class AnswerDict(dict):\n    def __getitem__(self, key):  # \n        return 42",
      "metadata": {
        "trusted": true
      },
      "outputs": [],
      "execution_count": 8
    },
    {
      "id": "854878eb-5164-4ba2-85c7-f546ec46739c",
      "cell_type": "code",
      "source": "ad = AnswerDict(a='foo') \nad['a'] ",
      "metadata": {
        "trusted": true
      },
      "outputs": [
        {
          "execution_count": 10,
          "output_type": "execute_result",
          "data": {
            "text/plain": "42"
          },
          "metadata": {}
        }
      ],
      "execution_count": 10
    },
    {
      "id": "0767b04e-830d-424a-a619-f916efd72301",
      "cell_type": "markdown",
      "source": " d is an instance of plain dict, which we update with ad.",
      "metadata": {}
    },
    {
      "id": "05fbf723-a67a-43fa-a2e3-1f31509b3d32",
      "cell_type": "code",
      "source": "d = {}\nd.update(ad) \nd['a']",
      "metadata": {
        "trusted": true
      },
      "outputs": [
        {
          "execution_count": 11,
          "output_type": "execute_result",
          "data": {
            "text/plain": "'foo'"
          },
          "metadata": {}
        }
      ],
      "execution_count": 11
    },
    {
      "id": "7cb1b684-b1bc-4c1d-803b-19d87a41ddc3",
      "cell_type": "code",
      "source": " d",
      "metadata": {
        "trusted": true
      },
      "outputs": [
        {
          "execution_count": 12,
          "output_type": "execute_result",
          "data": {
            "text/plain": "{'a': 'foo'}"
          },
          "metadata": {}
        }
      ],
      "execution_count": 12
    },
    {
      "id": "61a053dc-7287-490e-8cb9-04e26c18dd96",
      "cell_type": "markdown",
      "source": "DoppelDict2 and AnswerDict2 work as expected because they extend\n UserDict and not dict",
      "metadata": {}
    },
    {
      "id": "d15fe444-96dc-4a5f-9a4c-1443c67eade0",
      "cell_type": "code",
      "source": "import collections\n\nclass DoppelDict2(collections.UserDict):\n    def __setitem__(self, key, value):\n        super().__setitem__(key, [value] * 2)\n\ndd = DoppelDict2(one=1)\nprint(dd)\ndd['two'] = 2\nprint(dd)\ndd.update(three=3)\nprint(dd)",
      "metadata": {
        "trusted": true
      },
      "outputs": [
        {
          "name": "stdout",
          "output_type": "stream",
          "text": "{'one': [1, 1]}\n{'one': [1, 1], 'two': [2, 2]}\n{'one': [1, 1], 'two': [2, 2], 'three': [3, 3]}\n"
        }
      ],
      "execution_count": 13
    },
    {
      "id": "efc2cd28-4dae-42a1-9e54-531e919d8068",
      "cell_type": "code",
      "source": "class AnswerDict2(collections.UserDict):\n    def __getitem__(self, key):\n        return 42\n\nad = AnswerDict2(a='foo')\nprint(ad['a'])\nd = {}\nd.update(ad)\nprint(d['a'])\nprint(d)",
      "metadata": {
        "trusted": true
      },
      "outputs": [
        {
          "name": "stdout",
          "output_type": "stream",
          "text": "42\n42\n{'a': 42}\n"
        }
      ],
      "execution_count": 14
    },
    {
      "id": "640bf43d-2fa0-470e-b052-2caca3a80a8b",
      "cell_type": "markdown",
      "source": "collections.UserDict is a wrapper class around a regular Python dictionary. Instead of inheriting directly from the C-implemented dict, your custom dictionary class inherits from UserDict.",
      "metadata": {}
    },
    {
      "id": "2b6f26bb-50e3-44c9-86b3-7bcc243c1ffe",
      "cell_type": "markdown",
      "source": "DoppelDict2(collections.UserDict):\n\nWhen DoppelDict2(one=1) is called, the __init__ of UserDict (or potentially overridden in DoppelDict2 if you did so) will eventually use the item setting mechanism, which will call your overridden __setitem__, resulting in {'one': [1, 1]}.\ndd2['two'] = 2 directly calls your overridden __setitem__.\ndd2.update(three=3) uses the update method of UserDict, which internally uses the item setting mechanism, again calling your __setitem__.\nAnswerDict2(collections.UserDict):\n\nWhen ad2['a'] is called, the __getitem__ method of UserDict (or your override) is invoked, which in this case returns 42.\nd.update(ad2) uses the update method of the regular dict d. However, when update iterates through ad2 to get key-value pairs, it will call the __getitem__ of ad2 to retrieve the values, thus getting 42 for all keys.",
      "metadata": {}
    },
    {
      "id": "0e2cc097-3c21-4e14-afc0-fe02be5cf9ff",
      "cell_type": "markdown",
      "source": "<h2> Multiple inheritance and method resolution order</h2>",
      "metadata": {}
    },
    {
      "id": "8dd70762-cba0-466f-af2a-b477a9cd4f47",
      "cell_type": "markdown",
      "source": "<h3>diamond.py: classes A, B, C and D</h3>",
      "metadata": {}
    },
    {
      "id": "ed105b5c-4dc1-432e-b03b-31c4e3c6d1ca",
      "cell_type": "code",
      "source": "class A:\n    def ping(self):\n        print('ping:', self)\nclass B(A):\n    def pong(self):\n        print('pong:', self)\nclass C(A):\n    def pong(self):\n        print('PONG:', self)\n",
      "metadata": {
        "trusted": true
      },
      "outputs": [],
      "execution_count": 15
    },
    {
      "id": "6b591ebd-9706-46a8-8981-5848fee774fb",
      "cell_type": "code",
      "source": "class D(B, C):\n    def ping(self):\n        super().ping()\n        print('post-ping:', self)\n    def pingpong(self):\n        self.ping()\n        super().ping()\n        self.pong()\n        super().pong()\n        C.pong(self)",
      "metadata": {
        "trusted": true
      },
      "outputs": [],
      "execution_count": 17
    },
    {
      "id": "0c15c11a-77f3-4063-8f2f-9f31b5655fd8",
      "cell_type": "code",
      "source": "d = D()\nd.pong()",
      "metadata": {
        "trusted": true
      },
      "outputs": [
        {
          "name": "stdout",
          "output_type": "stream",
          "text": "pong: <__main__.D object at 0x2787c50>\n"
        }
      ],
      "execution_count": 19
    },
    {
      "id": "c448b98f-1521-46dd-b53c-e1c2f8f09331",
      "cell_type": "code",
      "source": "C.pong(d)  ",
      "metadata": {
        "trusted": true
      },
      "outputs": [
        {
          "name": "stdout",
          "output_type": "stream",
          "text": "PONG: <__main__.D object at 0x2787c50>\n"
        }
      ],
      "execution_count": 20
    },
    {
      "id": "05f7523b-6f41-4828-9db5-f1f766435bd9",
      "cell_type": "markdown",
      "source": "The __mro__ Attribute: Every class in Python has a special attribute called __mro__ (Method Resolution Order). This attribute holds a tuple that lists the class itself and its superclasses in the order they are searched.\n\nMRO for Class D: The text shows the __mro__ for class D (though the exact output might vary slightly depending on the Python version):",
      "metadata": {}
    },
    {
      "id": "36dce00c-9647-4ba4-869a-d304dc0e1ef6",
      "cell_type": "code",
      "source": " D.__mro__",
      "metadata": {
        "trusted": true
      },
      "outputs": [
        {
          "execution_count": 22,
          "output_type": "execute_result",
          "data": {
            "text/plain": "(__main__.D, __main__.B, __main__.C, __main__.A, object)"
          },
          "metadata": {}
        }
      ],
      "execution_count": 22
    },
    {
      "id": "44a3cc5f-3e08-4872-8337-a17afdba8456",
      "cell_type": "code",
      "source": "d = D()\nd.pingpong()\nd.pingpong()",
      "metadata": {
        "trusted": true
      },
      "outputs": [
        {
          "name": "stdout",
          "output_type": "stream",
          "text": "ping: <__main__.D object at 0x25317a0>\npost-ping: <__main__.D object at 0x25317a0>\nping: <__main__.D object at 0x25317a0>\npong: <__main__.D object at 0x25317a0>\npong: <__main__.D object at 0x25317a0>\nPONG: <__main__.D object at 0x25317a0>\nping: <__main__.D object at 0x25317a0>\npost-ping: <__main__.D object at 0x25317a0>\nping: <__main__.D object at 0x25317a0>\npong: <__main__.D object at 0x25317a0>\npong: <__main__.D object at 0x25317a0>\nPONG: <__main__.D object at 0x25317a0>\n"
        }
      ],
      "execution_count": 23
    },
    {
      "id": "9674dd99-6166-496b-a8b8-9f49000aaf9b",
      "cell_type": "code",
      "source": "bool.__mro__\n\ndef print_mro(cls):\n    print(', '.join(c.__name__ for c in cls.__mro__))\n\nprint_mro(bool)\n\nimport numbers\nprint_mro(numbers.Integral)\n\nimport io\nprint_mro(io.BytesIO)\nprint_mro(io.TextIOWrapper)",
      "metadata": {
        "trusted": true
      },
      "outputs": [
        {
          "name": "stdout",
          "output_type": "stream",
          "text": "bool, int, object\nIntegral, Rational, Real, Complex, Number, object\nBytesIO, _BufferedIOBase, _IOBase, object\nTextIOWrapper, _TextIOBase, _IOBase, object\n"
        }
      ],
      "execution_count": 37
    },
    {
      "id": "5a8b6326-0182-49b2-9c9f-e2ade0ea51c0",
      "cell_type": "markdown",
      "source": "<h2> Coping with multiple inheritance</h2>",
      "metadata": {}
    },
    {
      "id": "1048406c-ad51-492f-8710-5424a7f5436b",
      "cell_type": "markdown",
      "source": "<h3>1. Distinguish interface inheritance from implementation inheritance</h3>\n• Inheritance of interface: creates a sub-type, implying an “is-a” relationship. <br>\n• Inheritance of implementation: avoids code duplication by reuse.",
      "metadata": {}
    },
    {
      "id": "ba32e9f9-888c-4fd4-ad41-c640a63056b0",
      "cell_type": "code",
      "source": "from abc import ABC, abstractmethod\n\n# Interface (what something can do)\nclass Speaker(ABC):\n    @abstractmethod\n    def speak(self):\n        pass\n\n# Implementation (how something does it)\nclass EnglishSpeaker:\n    def speak(self):\n        print(\"Hello!\")\n\nclass Dog(Speaker, EnglishSpeaker): # Inherits interface and implementation\n    pass\n\nmy_dog = Dog()\nmy_dog.speak() # Inherits the EnglishSpeaker's implementation",
      "metadata": {
        "trusted": true
      },
      "outputs": [
        {
          "ename": "<class 'TypeError'>",
          "evalue": "Can't instantiate abstract class Dog without an implementation for abstract method 'speak'",
          "traceback": [
            "\u001b[0;31m---------------------------------------------------------------------------\u001b[0m",
            "\u001b[0;31mTypeError\u001b[0m                                 Traceback (most recent call last)",
            "Cell \u001b[0;32mIn[40], line 17\u001b[0m\n\u001b[1;32m     14\u001b[0m \u001b[38;5;28;01mclass\u001b[39;00m \u001b[38;5;21;01mDog\u001b[39;00m(Speaker, EnglishSpeaker): \u001b[38;5;66;03m# Inherits interface and implementation\u001b[39;00m\n\u001b[1;32m     15\u001b[0m     \u001b[38;5;28;01mpass\u001b[39;00m\n\u001b[0;32m---> 17\u001b[0m my_dog \u001b[38;5;241m=\u001b[39m \u001b[43mDog\u001b[49m\u001b[43m(\u001b[49m\u001b[43m)\u001b[49m\n\u001b[1;32m     18\u001b[0m my_dog\u001b[38;5;241m.\u001b[39mspeak() \u001b[38;5;66;03m# Inherits the EnglishSpeaker's implementation\u001b[39;00m\n",
            "\u001b[0;31mTypeError\u001b[0m: Can't instantiate abstract class Dog without an implementation for abstract method 'speak'"
          ],
          "output_type": "error"
        }
      ],
      "execution_count": 40
    },
    {
      "id": "278452a5-8989-4dbb-865f-e13939bc0a6e",
      "cell_type": "code",
      "source": "from abc import ABC, abstractmethod\n\nclass Worker(ABC):\n    @abstractmethod\n    def work(self):\n        pass\n\n    @abstractmethod\n    def take_break(self):\n        pass",
      "metadata": {
        "trusted": true
      },
      "outputs": [],
      "execution_count": 41
    },
    {
      "id": "7adfbd71-f081-4736-8cd3-0ab7b828163d",
      "cell_type": "code",
      "source": "class WritesCode:\n    def work(self):\n        print(\"Writing code...\")\n\nclass TypesDocuments:\n    def work(self):\n        print(\"Typing documents...\")\n\nclass EnjoysCoffeeBreaks:\n    def take_break(self):\n        print(\"Taking a coffee break.\")\n\nclass PrefersWalkingBreaks:\n    def take_break(self):\n        print(\"Going for a short walk.\")",
      "metadata": {
        "trusted": true
      },
      "outputs": [],
      "execution_count": 42
    },
    {
      "id": "a7294770-1e7b-4aa2-8329-50096f2e58b8",
      "cell_type": "code",
      "source": "class Programmer(Worker, WritesCode, EnjoysCoffeeBreaks):\n    pass\n\nclass Secretary(Worker, TypesDocuments, PrefersWalkingBreaks):\n    pass\n\nprogrammer = Programmer()\nsecretary = Secretary()\n\nprint(\"Programmer:\")\nprogrammer.work()       # Inherits implementation from WritesCode\nprogrammer.take_break() # Inherits implementation from EnjoysCoffeeBreaks\n\nprint(\"\\nSecretary:\")\nsecretary.work()        # Inherits implementation from TypesDocuments\nsecretary.take_break()  # Inherits implementation from PrefersWalkingBreaks",
      "metadata": {
        "trusted": true
      },
      "outputs": [
        {
          "ename": "<class 'TypeError'>",
          "evalue": "Can't instantiate abstract class Programmer without an implementation for abstract methods 'take_break', 'work'",
          "traceback": [
            "\u001b[0;31m---------------------------------------------------------------------------\u001b[0m",
            "\u001b[0;31mTypeError\u001b[0m                                 Traceback (most recent call last)",
            "Cell \u001b[0;32mIn[44], line 7\u001b[0m\n\u001b[1;32m      4\u001b[0m \u001b[38;5;28;01mclass\u001b[39;00m \u001b[38;5;21;01mSecretary\u001b[39;00m(Worker, TypesDocuments, PrefersWalkingBreaks):\n\u001b[1;32m      5\u001b[0m     \u001b[38;5;28;01mpass\u001b[39;00m\n\u001b[0;32m----> 7\u001b[0m programmer \u001b[38;5;241m=\u001b[39m \u001b[43mProgrammer\u001b[49m\u001b[43m(\u001b[49m\u001b[43m)\u001b[49m\n\u001b[1;32m      8\u001b[0m secretary \u001b[38;5;241m=\u001b[39m Secretary()\n\u001b[1;32m     10\u001b[0m \u001b[38;5;28mprint\u001b[39m(\u001b[38;5;124m\"\u001b[39m\u001b[38;5;124mProgrammer:\u001b[39m\u001b[38;5;124m\"\u001b[39m)\n",
            "\u001b[0;31mTypeError\u001b[0m: Can't instantiate abstract class Programmer without an implementation for abstract methods 'take_break', 'work'"
          ],
          "output_type": "error"
        }
      ],
      "execution_count": 44
    },
    {
      "id": "a84fb2a2-5b5a-474b-b459-69098bc6ab19",
      "cell_type": "markdown",
      "source": "<h2> Make interfaces explicit with ABCs</h2>",
      "metadata": {}
    },
    {
      "id": "950b2760-1431-4a96-81f4-f25cd32e0eb9",
      "cell_type": "markdown",
      "source": "If a class is meant to define an interface (a set of methods that subclasses should implement), make it an ABC using the abc module. This clearly signals the intended use.",
      "metadata": {}
    },
    {
      "id": "e5f0172d-8831-4639-ae84-a69dbe8f5a92",
      "cell_type": "code",
      "source": "from abc import ABC, abstractmethod\n\nclass Shape(ABC):\n    @abstractmethod\n    def area(self):\n        pass\n\n    @abstractmethod\n    def perimeter(self):\n        pass\n\nclass Rectangle(Shape):\n    def __init__(self, width, height):\n        self.width = width\n        self.height = height\n\n    def area(self):\n        return self.width * self.height\n\n    def perimeter(self):\n        return 2 * (self.width + self.height)\n\n# You cannot create an instance of Shape directly because it's abstract.\n# my_shape = Shape() # This would raise a TypeError",
      "metadata": {
        "trusted": true
      },
      "outputs": [],
      "execution_count": 31
    },
    {
      "id": "a68860b3-4466-45c3-9842-c28e5e8fa062",
      "cell_type": "markdown",
      "source": "<h3>3. Use mixins for code reuse</h3>\nMixins are classes designed to provide specific methods that can be reused by multiple other classes that might not be related in terms of \"is-a\" relationships. A mixin shouldn't be instantiated on its own, and a class shouldn't inherit only from a mixin. Each mixin should focus on a small set of related functionalities.",
      "metadata": {}
    },
    {
      "id": "66f78ad0-d44f-4cd5-aaad-a19660a3964a",
      "cell_type": "code",
      "source": "class LoggingMixin:\n    def log(self, message):\n        print(f\"LOG: {self.__class__.__name__}: {message}\")\n\nclass SerializableMixin:\n    def serialize(self):\n        return f\"<{self.__class__.__name__}: {self.__dict__}>\"\n\nclass MyClass(LoggingMixin, SerializableMixin):\n    def __init__(self, name, value):\n        self.name = name\n        self.value = value\n        self.log(\"MyClass instance created\")\n\nobj = MyClass(\"example\", 10)\nobj.log(\"Doing something important\")\nprint(obj.serialize())",
      "metadata": {
        "trusted": true
      },
      "outputs": [
        {
          "name": "stdout",
          "output_type": "stream",
          "text": "LOG: MyClass: MyClass instance created\nLOG: MyClass: Doing something important\n<MyClass: {'name': 'example', 'value': 10}>\n"
        }
      ],
      "execution_count": 32
    },
    {
      "id": "6b9067ac-2a35-46be-913b-0c1fa7c23718",
      "cell_type": "markdown",
      "source": "<h3>4. Make mixins explicit by naming:</h3>\nIt's a good practice to name mixin classes with a ...Mixin suffix (e.g., LoggingMixin, IterableMixin). This makes it clear that the class is intended for reuse and not as a primary type in the inheritance hierarchy. The text notes that Tkinter doesn't follow this convention.",
      "metadata": {}
    },
    {
      "id": "9a3e402f-c42a-4ec8-92db-91859071c780",
      "cell_type": "markdown",
      "source": "<h3>5. An ABC may also be a mixin; the reverse is not true:</h3>\nAn ABC can have concrete (implemented) methods, so it can provide reusable code like a mixin. Additionally, it defines a type. A mixin, on the other hand, is primarily for reuse and doesn't necessarily define a new type in the same way an ABC does. An ABC can be the sole base class of another class, but a mixin usually isn't.",
      "metadata": {}
    },
    {
      "id": "3e0401cc-04a0-4727-8636-7fbba36c809f",
      "cell_type": "markdown",
      "source": "<h3>6. Don’t subclass from more than one concrete class:</h3>\nConcrete classes (classes you can create instances of) should ideally inherit from at most one other concrete class. Any other superclasses should be ABCs or mixins. This helps keep the inheritance structure clearer and reduces potential conflicts from multiple implementation inheritances.",
      "metadata": {}
    },
    {
      "id": "2797a7c2-3324-468b-9c83-2cfee1ff07cd",
      "cell_type": "code",
      "source": "class ConcreteA:\n    def method_a(self):\n        print(\"Method A from ConcreteA\")\n\nclass ConcreteB:\n    def method_b(self):\n        print(\"Method B from ConcreteB\")\n\nclass MixinC:\n    def method_c(self):\n        print(\"Method C from MixinC\")\n\nclass MyClass(ConcreteA, MixinC): # Inherits from one concrete and one mixin\n    pass\n\n# class ProblematicClass(ConcreteA, ConcreteB): # Inheriting from two concrete classes can be tricky\n#     pass",
      "metadata": {
        "trusted": true
      },
      "outputs": [],
      "execution_count": 33
    },
    {
      "id": "9f758453-a235-42f4-b2e4-a4c9f8e52d34",
      "cell_type": "markdown",
      "source": "<h3>7. Provide aggregate classes to users:</h3>\n\nIf certain combinations of ABCs and mixins are commonly used, create a new class that inherits from all of them. This \"aggregate class\" provides a convenient way for users to get the desired functionality without having to remember the order of inheritance or all the individual base classes.",
      "metadata": {}
    },
    {
      "id": "7757c842-1e7d-4840-bf26-7c486ad139a2",
      "cell_type": "code",
      "source": "class Walker:\n    def walk(self):\n        print(\"Walking...\")\n\nclass Swimmer:\n    def swim(self):\n        print(\"Swimming...\")\n\n# Aggregate class for something that can both walk and swim\nclass Amphibious(Walker, Swimmer):\n    pass\n\nduck = Amphibious()\nduck.walk()\nduck.swim()",
      "metadata": {
        "trusted": true
      },
      "outputs": [
        {
          "name": "stdout",
          "output_type": "stream",
          "text": "Walking...\nSwimming...\n"
        }
      ],
      "execution_count": 35
    },
    {
      "id": "ca0cf467-fb09-4fde-bbd8-2b584cd45e88",
      "cell_type": "markdown",
      "source": "<h3>8. “Favor object composition over class inheritance.”</h3>\n\nThis is a general design principle. Instead of inheriting behavior, a class can contain objects of other classes and ask those objects to perform tasks (delegation). This often leads to more flexible and less tightly coupled designs.",
      "metadata": {}
    },
    {
      "id": "bad50975-1df9-4ff5-8f55-131ff61db008",
      "cell_type": "code",
      "source": "class Dog:\n    def bark(self):\n        print(\"Woof!\")\n\nclass FetchingDog(Dog):\n    def fetch(self, item):\n        print(f\"Fetching the {item}!\")\n\nmy_dog = Dog()\nmy_fetching_dog = FetchingDog()\n\nmy_dog.bark()          # Woof!\n# my_dog.fetch(\"ball\") # Error! Dog doesn't have fetch\nmy_fetching_dog.bark() # Woof! (inherited)\nmy_fetching_dog.fetch(\"ball\") # Fetching the ball!",
      "metadata": {
        "trusted": true
      },
      "outputs": [
        {
          "name": "stdout",
          "output_type": "stream",
          "text": "Woof!\nWoof!\nFetching the ball!\n"
        }
      ],
      "execution_count": 36
    },
    {
      "id": "0011d8a5-f9bb-44a6-aa71-ddcd94ece5b2",
      "cell_type": "markdown",
      "source": "Inheritance way: If you want a toy car that can also fly, you build a new type of toy car, a \"FlyingCar,\" that is a car but with added wings.\n\nComposition way: You keep your regular toy car. Then, you have a separate \"Wings\" attachment. You can attach the \"Wings\" to your regular car to make it fly. The car has wings; it's not a fundamentally different type of car. You can also detach the wings when you don't need them.",
      "metadata": {}
    },
    {
      "id": "81aed2ec-f309-4383-9330-90003ff51da6",
      "cell_type": "code",
      "source": "",
      "metadata": {
        "trusted": true
      },
      "outputs": [],
      "execution_count": null
    }
  ]
}